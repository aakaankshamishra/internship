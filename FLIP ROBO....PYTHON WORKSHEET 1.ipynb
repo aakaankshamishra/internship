{
 "cells": [
  {
   "cell_type": "markdown",
   "id": "bc4b7084",
   "metadata": {},
   "source": [
    "# Python program to find a factorial of a number "
   ]
  },
  {
   "cell_type": "code",
   "execution_count": 1,
   "id": "78da71f3",
   "metadata": {},
   "outputs": [
    {
     "name": "stdout",
     "output_type": "stream",
     "text": [
      "Enter the number:2\n",
      "The factorial of  1  is  2\n",
      "The factorial of  0  is  2\n"
     ]
    }
   ],
   "source": [
    "fact = 1\n",
    "num = int (input(\"Enter the number:\"))\n",
    "while num > 0:\n",
    "    fact = fact * num\n",
    "    num = num - 1\n",
    "    print (\"The factorial of \", num ,\" is \", fact)"
   ]
  },
  {
   "cell_type": "code",
   "execution_count": 2,
   "id": "ee2bd500",
   "metadata": {},
   "outputs": [
    {
     "name": "stdout",
     "output_type": "stream",
     "text": [
      "Enter the number:9\n",
      "The factorial of  8  is  9\n",
      "The factorial of  7  is  72\n",
      "The factorial of  6  is  504\n",
      "The factorial of  5  is  3024\n",
      "The factorial of  4  is  15120\n",
      "The factorial of  3  is  60480\n",
      "The factorial of  2  is  181440\n",
      "The factorial of  1  is  362880\n",
      "The factorial of  0  is  362880\n"
     ]
    }
   ],
   "source": [
    "fact = 1\n",
    "num = int (input(\"Enter the number:\"))\n",
    "while num > 0:\n",
    "    fact = fact * num\n",
    "    num = num - 1\n",
    "    print (\"The factorial of \", num ,\" is \", fact)"
   ]
  },
  {
   "cell_type": "markdown",
   "id": "6db5b83e",
   "metadata": {},
   "source": [
    "# Python program to check whether the given number is prime or composite"
   ]
  },
  {
   "cell_type": "code",
   "execution_count": 3,
   "id": "18489d93",
   "metadata": {},
   "outputs": [
    {
     "name": "stdout",
     "output_type": "stream",
     "text": [
      "Emter the number:4\n",
      "The number is a composite number\n"
     ]
    }
   ],
   "source": [
    "num = int (input(\"Emter the number:\"))\n",
    "flag = 0\n",
    "for i in range(2, num):\n",
    "    if (num % i == 0):\n",
    "        flag = 1\n",
    "        break\n",
    "        \n",
    "if (flag == 0):\n",
    "    print(\"The number is prime\")\n",
    "else:\n",
    "    print (\"The number is a composite number\")"
   ]
  },
  {
   "cell_type": "code",
   "execution_count": 4,
   "id": "407e1e7a",
   "metadata": {},
   "outputs": [
    {
     "name": "stdout",
     "output_type": "stream",
     "text": [
      "Emter the number:2\n",
      "The number is prime\n"
     ]
    }
   ],
   "source": [
    "num = int (input(\"Emter the number:\"))\n",
    "flag = 0\n",
    "for i in range(2, num):\n",
    "    if (num % i == 0):\n",
    "        flag = 1\n",
    "        break\n",
    "        \n",
    "if (flag == 0):\n",
    "    print(\"The number is prime\")\n",
    "else:\n",
    "    print (\"The number is a composite number\")"
   ]
  },
  {
   "cell_type": "code",
   "execution_count": 5,
   "id": "d636d43d",
   "metadata": {},
   "outputs": [
    {
     "name": "stdout",
     "output_type": "stream",
     "text": [
      "Emter the number:5\n",
      "The number is prime\n"
     ]
    }
   ],
   "source": [
    "num = int (input(\"Emter the number:\"))\n",
    "flag = 0\n",
    "for i in range(2, num):\n",
    "    if (num % i == 0):\n",
    "        flag = 1\n",
    "        break\n",
    "        \n",
    "if (flag == 0):\n",
    "    print(\"The number is prime\")\n",
    "else:\n",
    "    print (\"The number is a composite number\")"
   ]
  },
  {
   "cell_type": "code",
   "execution_count": 6,
   "id": "8b8a0072",
   "metadata": {},
   "outputs": [
    {
     "name": "stdout",
     "output_type": "stream",
     "text": [
      "Emter the number:8\n",
      "The number is a composite number\n"
     ]
    }
   ],
   "source": [
    "num = int (input(\"Emter the number:\"))\n",
    "flag = 0\n",
    "for i in range(2, num):\n",
    "    if (num % i == 0):\n",
    "        flag = 1\n",
    "        break\n",
    "        \n",
    "if (flag == 0):\n",
    "    print(\"The number is prime\")\n",
    "else:\n",
    "    print (\"The number is a composite number\")"
   ]
  },
  {
   "cell_type": "markdown",
   "id": "fa6aed57",
   "metadata": {},
   "source": [
    "# Python program to check whether the given number is palindrome or not"
   ]
  },
  {
   "cell_type": "code",
   "execution_count": 7,
   "id": "ab3899a7",
   "metadata": {},
   "outputs": [
    {
     "name": "stdout",
     "output_type": "stream",
     "text": [
      "Enter the number:121\n",
      "The number 121  is palindrome\n"
     ]
    }
   ],
   "source": [
    "num = int (input(\"Enter the number:\"))\n",
    "org = num\n",
    "rev = 0\n",
    "\n",
    "while num > 0:\n",
    "    rem = num % 10\n",
    "    rev = rev * 10 + rem\n",
    "    num = num // 10\n",
    "    \n",
    "if rev == org:\n",
    "    print (\"The number\", org, \" is palindrome\") \n",
    "    \n",
    "else:\n",
    "    print (\"The number \", org, \"is not a palindrome\")"
   ]
  },
  {
   "cell_type": "code",
   "execution_count": 8,
   "id": "0a35e28b",
   "metadata": {},
   "outputs": [
    {
     "name": "stdout",
     "output_type": "stream",
     "text": [
      "Enter the number:321\n",
      "The number  321 is not a palindrome\n"
     ]
    }
   ],
   "source": [
    "num = int (input(\"Enter the number:\"))\n",
    "org = num\n",
    "rev = 0\n",
    "\n",
    "while num > 0:\n",
    "    rem = num % 10\n",
    "    rev = rev * 10 + rem\n",
    "    num = num // 10\n",
    "    \n",
    "if rev == org:\n",
    "    print (\"The number\", org, \" is palindrome\") \n",
    "    \n",
    "else:\n",
    "    print (\"The number \", org, \"is not a palindrome\")"
   ]
  },
  {
   "cell_type": "code",
   "execution_count": 9,
   "id": "685b2cf0",
   "metadata": {},
   "outputs": [
    {
     "name": "stdout",
     "output_type": "stream",
     "text": [
      "Enter the number:145\n",
      "The number  145 is not a palindrome\n"
     ]
    }
   ],
   "source": [
    "num = int (input(\"Enter the number:\"))\n",
    "org = num\n",
    "rev = 0\n",
    "\n",
    "while num > 0:\n",
    "    rem = num % 10\n",
    "    rev = rev * 10 + rem\n",
    "    \n",
    "    num = num // 10\n",
    "    \n",
    "if rev == org:\n",
    "    print (\"The number\", org, \" is palindrome\") \n",
    "    \n",
    "else:\n",
    "    print (\"The number \", org, \"is not a palindrome\")"
   ]
  },
  {
   "cell_type": "markdown",
   "id": "12539cdd",
   "metadata": {},
   "source": [
    "# Python program to get a third side of right angled triangle from the two given sides"
   ]
  },
  {
   "cell_type": "code",
   "execution_count": 10,
   "id": "076d98a9",
   "metadata": {},
   "outputs": [
    {
     "name": "stdout",
     "output_type": "stream",
     "text": [
      "input length of shorter triangle side:\n",
      "Enter a: 4\n",
      "Enter b: 6\n",
      "The length of hypotenuse is: 7.211102550927978\n"
     ]
    }
   ],
   "source": [
    "# HYPOTENUSE\n",
    "\n",
    "# a**2 = b**2 + c**2\n",
    "# c = sqrt(a**2 + b**2)\n",
    "from math import sqrt\n",
    "print(\"input length of shorter triangle side:\")\n",
    "a = float(input(\"Enter a: \"))\n",
    "b = float(input(\"Enter b: \"))\n",
    "c = sqrt(a**2 + b**2)\n",
    "print(\"The length of hypotenuse is:\", c)"
   ]
  },
  {
   "cell_type": "code",
   "execution_count": 11,
   "id": "6f47f589",
   "metadata": {},
   "outputs": [
    {
     "name": "stdout",
     "output_type": "stream",
     "text": [
      "input length of shorter triangle side:\n",
      "Enter a: 9\n",
      "Enter b: 14\n",
      "The length of hypotenuse is: 16.64331697709324\n"
     ]
    }
   ],
   "source": [
    "# HYPOTENUSE\n",
    "\n",
    "# a**2 = b**2 + c**2\n",
    "# c = sqrt(a**2 + b**2)\n",
    "from math import sqrt\n",
    "print(\"input length of shorter triangle side:\")\n",
    "a = float(input(\"Enter a: \"))\n",
    "b = float(input(\"Enter b: \"))\n",
    "c = sqrt(a**2 + b**2)\n",
    "print(\"The length of hypotenuse is:\", c)"
   ]
  },
  {
   "cell_type": "markdown",
   "id": "6186fd22",
   "metadata": {},
   "source": [
    "# Python program to print the frequency of each of the characters present in the given string"
   ]
  },
  {
   "cell_type": "code",
   "execution_count": 1,
   "id": "bf1929e6",
   "metadata": {},
   "outputs": [
    {
     "name": "stdout",
     "output_type": "stream",
     "text": [
      "True\n"
     ]
    }
   ],
   "source": [
    "d1 = {'jan':1,\n",
    "      'april':4,\n",
    "      'august':8}\n",
    "print ('jan' in d1)"
   ]
  },
  {
   "cell_type": "code",
   "execution_count": 2,
   "id": "8cea6e09",
   "metadata": {},
   "outputs": [
    {
     "name": "stdout",
     "output_type": "stream",
     "text": [
      "False\n"
     ]
    }
   ],
   "source": [
    "print ('feb' in d1)"
   ]
  },
  {
   "cell_type": "code",
   "execution_count": 3,
   "id": "a94920e2",
   "metadata": {},
   "outputs": [
    {
     "name": "stdout",
     "output_type": "stream",
     "text": [
      "Enter the stringASJHDKHDHBBAASSJJJDDD\n",
      "{'A': 3, 'S': 3, 'J': 4, 'H': 3, 'D': 5, 'K': 1, 'B': 2}\n"
     ]
    }
   ],
   "source": [
    "str1 = input (\"Enter the string\")\n",
    "d1 = dict()\n",
    "for c in str1:\n",
    "    if c in d1:\n",
    "        d1[c] = d1[c] + 1\n",
    "    else:\n",
    "        d1[c] = 1\n",
    "print (d1)\n",
    "        "
   ]
  },
  {
   "cell_type": "code",
   "execution_count": 4,
   "id": "be18897c",
   "metadata": {},
   "outputs": [
    {
     "name": "stdout",
     "output_type": "stream",
     "text": [
      "Enter the stringYDHHSDEDSSSKILOOOSPSVSQSSXXAHSKKKSQQWRWTSDCXZBXJF\n",
      "{'Y': 1, 'D': 4, 'H': 3, 'S': 12, 'E': 1, 'K': 4, 'I': 1, 'L': 1, 'O': 3, 'P': 1, 'V': 1, 'Q': 3, 'X': 4, 'A': 1, 'W': 2, 'R': 1, 'T': 1, 'C': 1, 'Z': 1, 'B': 1, 'J': 1, 'F': 1}\n"
     ]
    }
   ],
   "source": [
    "str1 = input (\"Enter the string\")\n",
    "d1 = dict()\n",
    "for c in str1:\n",
    "    if c in d1:\n",
    "        d1[c] = d1[c] + 1\n",
    "    else:\n",
    "        d1[c] = 1\n",
    "print (d1)\n",
    "        "
   ]
  },
  {
   "cell_type": "code",
   "execution_count": null,
   "id": "8dccde08",
   "metadata": {},
   "outputs": [],
   "source": []
  }
 ],
 "metadata": {
  "kernelspec": {
   "display_name": "Python 3 (ipykernel)",
   "language": "python",
   "name": "python3"
  },
  "language_info": {
   "codemirror_mode": {
    "name": "ipython",
    "version": 3
   },
   "file_extension": ".py",
   "mimetype": "text/x-python",
   "name": "python",
   "nbconvert_exporter": "python",
   "pygments_lexer": "ipython3",
   "version": "3.9.7"
  }
 },
 "nbformat": 4,
 "nbformat_minor": 5
}
