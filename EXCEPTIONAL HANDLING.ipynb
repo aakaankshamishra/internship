{
 "cells": [
  {
   "cell_type": "code",
   "execution_count": 35,
   "id": "40472d56",
   "metadata": {},
   "outputs": [],
   "source": [
    "#import all the required libraries\n",
    "import pandas as pd\n",
    "import selenium\n",
    "from selenium import webdriver\n",
    "from selenium.common.exceptions import StaleElementReferenceException, NoSuchElementException"
   ]
  },
  {
   "cell_type": "code",
   "execution_count": 36,
   "id": "96c807ae",
   "metadata": {},
   "outputs": [
    {
     "name": "stderr",
     "output_type": "stream",
     "text": [
      "C:\\Users\\admin\\AppData\\Local\\Temp/ipykernel_7884/3532937306.py:4: DeprecationWarning: executable_path has been deprecated, please pass in a Service object\n",
      "  browser =  webdriver.Chrome(r\"C:\\chrome driver\\chromedriver.exe\")\n"
     ]
    }
   ],
   "source": [
    "import requests\n",
    "from selenium import webdriver\n",
    "\n",
    "browser =  webdriver.Chrome(r\"C:\\chrome driver\\chromedriver.exe\")\n",
    "\n",
    "browser.get(\"https://www.Amazon.in/\")\n",
    "from bs4 import BeautifulSoup\n",
    "browser.maximize_window()"
   ]
  },
  {
   "cell_type": "code",
   "execution_count": 37,
   "id": "db24ad82",
   "metadata": {},
   "outputs": [],
   "source": [
    "#creating the empty list\n",
    "Title=[]\n",
    "Ratings=[]\n",
    "price=[]\n",
    "Rated=[]\n",
    "Delivery=[]\n",
    "images=[]\n",
    "brands=[]"
   ]
  },
  {
   "cell_type": "code",
   "execution_count": 38,
   "id": "597c1c22",
   "metadata": {},
   "outputs": [
    {
     "name": "stderr",
     "output_type": "stream",
     "text": [
      "C:\\Users\\admin\\AppData\\Local\\Temp/ipykernel_7884/3129629304.py:2: DeprecationWarning: find_element_by_* commands are deprecated. Please use find_element() instead\n",
      "  search_bar = browser.find_element_by_id(\"twotabsearchtextbox\")    # Locating searc_bar by id\n",
      "C:\\Users\\admin\\AppData\\Local\\Temp/ipykernel_7884/3129629304.py:5: DeprecationWarning: find_element_by_xpath is deprecated. Please use find_element(by=By.XPATH, value=xpath) instead\n",
      "  search_button = browser.find_element_by_xpath('//span[@id=\"nav-search-submit-text\"]')       # Locating search_button by xpath\n"
     ]
    }
   ],
   "source": [
    "#locating the search bar\n",
    "search_bar = browser.find_element_by_id(\"twotabsearchtextbox\")    # Locating searc_bar by id\n",
    "search_bar.clear()                                               # clearing search_bar\n",
    "search_bar.send_keys(\"guitar\")                                   # sending user input to search bar\n",
    "search_button = browser.find_element_by_xpath('//span[@id=\"nav-search-submit-text\"]')       # Locating search_button by xpath\n",
    "search_button.click()    "
   ]
  },
  {
   "cell_type": "code",
   "execution_count": 39,
   "id": "103bc39f",
   "metadata": {},
   "outputs": [
    {
     "name": "stderr",
     "output_type": "stream",
     "text": [
      "C:\\Users\\admin\\AppData\\Local\\Temp/ipykernel_7884/2358243033.py:1: DeprecationWarning: find_elements_by_xpath is deprecated. Please use find_elements(by=By.XPATH, value=xpath) instead\n",
      "  prices=browser.find_elements_by_xpath(\"//span[@class='a-price-whole']\")\n",
      "C:\\Users\\admin\\AppData\\Local\\Temp/ipykernel_7884/2358243033.py:4: DeprecationWarning: find_elements_by_xpath is deprecated. Please use find_elements(by=By.XPATH, value=xpath) instead\n",
      "  titles=browser.find_elements_by_xpath(\"//h2[@class='a-size-mini a-spacing-none a-color-base s-line-clamp-4']\")\n"
     ]
    }
   ],
   "source": [
    "prices=browser.find_elements_by_xpath(\"//span[@class='a-price-whole']\")\n",
    "for i in prices:\n",
    "    price.append(i.text)\n",
    "titles=browser.find_elements_by_xpath(\"//h2[@class='a-size-mini a-spacing-none a-color-base s-line-clamp-4']\")\n",
    "for i in titles:\n",
    "    Title.append(i.text)\n",
    "    "
   ]
  },
  {
   "cell_type": "code",
   "execution_count": 40,
   "id": "00ba5a5e",
   "metadata": {},
   "outputs": [
    {
     "data": {
      "text/plain": [
       "['3,229',\n",
       " '2,695',\n",
       " '2,795',\n",
       " '4,999',\n",
       " '2,695',\n",
       " '2,095',\n",
       " '2,190',\n",
       " '2,639',\n",
       " '7,499',\n",
       " '2,190',\n",
       " '5,399',\n",
       " '2,639',\n",
       " '',\n",
       " '2,090',\n",
       " '2,290',\n",
       " '2,639',\n",
       " '2,290',\n",
       " '2,199',\n",
       " '2,199',\n",
       " '4,280',\n",
       " '5,399',\n",
       " '2,490',\n",
       " '9,990',\n",
       " '2,250',\n",
       " '5,759',\n",
       " '2,290',\n",
       " '6,546',\n",
       " '2,499',\n",
       " '9,500',\n",
       " '10,150',\n",
       " '2,639',\n",
       " '2,499',\n",
       " '2,639',\n",
       " '6,999',\n",
       " '2,290',\n",
       " '8,570',\n",
       " '7,200',\n",
       " '2,639',\n",
       " '8,160',\n",
       " '2,499',\n",
       " '5,248',\n",
       " '2,695',\n",
       " '2,250',\n",
       " '181',\n",
       " '5,499',\n",
       " '6,649',\n",
       " '2,499',\n",
       " '2,479',\n",
       " '2,290',\n",
       " '2,589',\n",
       " '4,280',\n",
       " '6,899',\n",
       " '6,999',\n",
       " '6,299',\n",
       " '6,999',\n",
       " '9,499',\n",
       " '2,500',\n",
       " '9,990',\n",
       " '3,169',\n",
       " '1,549',\n",
       " '6,033',\n",
       " '2,290',\n",
       " '4,295',\n",
       " '7,999',\n",
       " '3,990',\n",
       " '6,499']"
      ]
     },
     "execution_count": 40,
     "metadata": {},
     "output_type": "execute_result"
    }
   ],
   "source": [
    "price"
   ]
  },
  {
   "cell_type": "code",
   "execution_count": 41,
   "id": "504c58ca",
   "metadata": {},
   "outputs": [
    {
     "data": {
      "text/plain": [
       "['Blueberry 38C, 38\" Acoustic Guitar Kit with Bag, Strap, One Pack Strings And Picks (Black)',\n",
       " 'Blueberry B-D38 Sunburst 38 Inch Acoustic Guitar Kit Inbuilt Truss Rod with Bag, Strap, One Pack Strings And Picks',\n",
       " 'Blueberry B-40EQ-GL Acoustic Electric Guitar Kit inbuilt Trussrod, Rosewood Fretboard & bridge with 4 Band EQ-7545R Piezo Pickup Guitar Preamp Amplifier Equalizer Tuner with Bag, Pick, Belt, String set',\n",
       " 'Blueberry 38C, 38\" Acoustic Guitar Kit with Bag, Strap, One Pack Strings And Picks (Natural)',\n",
       " 'Juârez Acoustic Guitar, 38 Inch Cutaway, 038C with Bag, Strings, Pick and Strap, Black',\n",
       " 'Intern INT-38C Acoustic Guitar Kit, With Bag, Strings, Pick And Strap, Black',\n",
       " 'Juarez Acoustic Guitar, 38 Inch Curved Body Cutaway, 38CUR with Bag, Strings, Pick and Strap, Black',\n",
       " 'Intern 38C Cutaway Design Black Acoustic Guitar with Picks & Carry Bag',\n",
       " 'Intern INT-38C Acoustic Guitar Kit (Sunburst) with Carry bag, Picks, Strings set and Guitar Strap, Small',\n",
       " 'JUAREZ JRZ38C Right Handed Acoustic Guitar with Bag, Strings, Pick and Strap (Natural, 6 Strings)',\n",
       " 'Intern INT-38C Acoustic Guitar Kit, With Bag, Strings, Pick And Strap, Blue',\n",
       " 'Medellin 38\" Acoustic Guitar Carbon Fiber body+(Free Online Learning Course) - Durable Matt finish with handrest, strings, strap, bag, 3 Picks, capo, stand.',\n",
       " 'Medellin 38\" Carbon Fiber Acoustic Guitar with free specailized learning course- MDCF38BK Durable Carbon Fiber Matt Sunburst finish Body for beginners with handrest, set of Strings, Strap, Bag, 3 Picks, Capo, Guitar Wall Hanging Stand and Free GUITAR LEARNING COURSE (Special Learning Combo with Guitar)',\n",
       " 'Hovner 215 Black F-Cut Rosewood Fretboard Acoustic Guitar With Bag,Strap,1 Set of Extra Strings and 2 Picks By K-Retail',\n",
       " 'Kadence Frontier guitar with Online Guitar learning course, Wine Red Acoustic Guitar with Die Cast Keys, Set of Strings, Strap, Picks and Bag (Wine Red, Acoustic)',\n",
       " 'Photron Acoustic Guitar, 38 Inch Cutaway, PH38C/BK with Picks Only, Black (Without Bag, Strap and Extra Strings)',\n",
       " 'Yamaha FS100C Acoustic Guitar, Black',\n",
       " 'Intern INT-38C Acoustic Guitar Kit, With Bag, Strings, Pick And Strap, Natural',\n",
       " 'Juarez JRZ-ST01, 6 Strings Electric Guitar, Right Handed with Bag/Case, 2 x Picks (3TS Sunburst)',\n",
       " 'Intern INT-38C-BK-G Cutaway Right Handed Acoustic Guitar Kit, With Bag, Strings, Pick And Strap (Black, 6 Strings)',\n",
       " 'Vault EA40 41 inch Premium Solid Spruce-Top Cutaway Acoustic Guitar',\n",
       " 'Medellin carbn fiber guitar 38inch (NATURAL)',\n",
       " 'Kaps ST-10AC,6 Strings, Acoustic Guitar, Right Handed, Black With Cover/Bag +Alice Strings set+2 Picks + Strap/Belt',\n",
       " 'Cort AD810 Dreadnought Acoustic Guitar with Gig Bag,Tuner,Picks and Strap (Natural Bundle)',\n",
       " 'Juarez Acoustic Guitar Kit, 38 Inch Cutaway, 38C with Bag, Strings, Pick and Strap, 3TS Sunburst',\n",
       " 'Medellin 38\" Acoustic Guitar Black Carbon Fiber body+(Free Online Learning Course) - Durable Matt finish with handrest, strings, strap, bag, 3 Picks, capo, stand.',\n",
       " 'Juarez Acoustic Guitar Kit, 38 Inch Cutaway, 38C with Bag, Strings, Pick and Strap, TBS Transparent Blue Sunburst',\n",
       " 'Kadence Guitar Acoustica Series A05, Electric Acoustic Guitar, Zebra Wood with Pickup, Inbuilt tuner and Bag (Zebra Wood, Electro Acoustic)',\n",
       " 'Intern INT-38C-SB-G Cutaway Right Handed Acoustic Guitar Kit, With Bag, Strings, Pick And Strap (Sunburst, 6 Strings)',\n",
       " 'Fender Squier SA-150 Dreadnought Acoustic Guitar 0961090021',\n",
       " 'Yamaha Classical Guitar C40//02',\n",
       " 'Juarez Acoustic Guitar, 38 Inch Cutaway with Pick Guard, 38CPG with Bag, Strings, Pick and Strap, Black',\n",
       " 'Fender SA 135C 39 Inch 6 String Cutaway Acoustic Guitar - Hardwood Fretboard - Natural',\n",
       " 'Medellin 38\" Acoustic Guitar Brown Carbon Fiber Body with FREE Online LEARNING COURSE Durable Matt finish Body for beginners with handrest, set of Strings, Strap, Bag, 3 Picks, Capo, Guitar Wall Hanging Stand and Free GUITAR LEARNING COURSE (Special Learning Combo with Guitar)',\n",
       " 'Kadence Acoustica 34” Acoustic Guitar A03 with bag',\n",
       " 'Blueberry 38C, 38\" Acoustic Guitar Kit with Bag, Strap, One Pack Strings And Picks (Black)',\n",
       " 'Revel 38 Inches Cutaway Design Acoustic Guitar with Carry bag and Plectrums. Great tone and Beginner/Learners standard size configuration for all age groups (Natural)',\n",
       " 'JUAREZ Acoustic Guitar 3xE 1st String & 2 Pick Set JRGSE32',\n",
       " 'Pluto HW39-201P Electro Acoustic Guitar - Rosewood Fretboard',\n",
       " 'JUAREZ Arpéggio 104.14 cm (41 Inch) Semi-Acoustic Guitar Kit, Thin Line Body, Spruce Top, with 4 Band EQ, Natural',\n",
       " 'Medellin 38\" Carbon Fiber Acoustic Guitar with free specailized learning course- MDCF38BK Durable Carbon Fiber Matt Pink finish Body for beginners with handrest, set of Strings, Strap, Bag, 3 Picks, Capo, Guitar Wall Hanging Stand and Free GUITAR LEARNING COURSE (Special Learning Combo with Guitar)',\n",
       " 'Juârez Acoustic Guitar, 38 Inch Cutaway, JRZ38CT, Hippie Funky Design, with Bag, Picks, Strap & Extra String set',\n",
       " 'Intern 38C Acoustic Steel-string Guitar Premium White Cutaway Design with carry bag, strings, guitar strap and plectrums (INT-38C-WH)',\n",
       " 'INTERN Cutaway Design Acoustic Guitar Pack -Humidity Proof, Bend resistant, Durable Action, Natural tone & resonance. Sunburst Carbon Fibre/Fiber Guitar with carry bag, Strap, Strings set, Picks.',\n",
       " 'Hovner 215 Royal Metallic Black F-Cut Rosewood Fretboard Acoustic Guitar With Bag,Strap,1 Set of Extra Strings and 2 Picks',\n",
       " 'Kadence Frontier Jumbo Semi Acoustic Guitar With Die Cast Keys,Super Combo (Bag, 1 pack Strings, Strap, Picks, Capo, Tuner)',\n",
       " 'Kadence AstroMan Electric Guitar, 21 FRETS, ROSEWOOD FRETBOARD, H - S - S PICK UPS Sunburst combo with Bag, Guitar strap,guitar cable and Picks',\n",
       " 'Kadence Frontier Series, Semi Acoustic Guitar With Die Cast Keys (Bag,Strap,Strings And 3 Picks) (Natural)',\n",
       " 'Kadence Guitar Acoustica Series, 41” Jumbo Size 6-strings Acoustic Guitar, Spruce body with Pick Guard A311 with bag',\n",
       " 'Ibanez MD39C-NT 39\" Cutaway Acoustic Guitar With Gig-Bag, Polishing Cloth And E-Book',\n",
       " 'GIUSON MED-BLACK-GS Acoustic Guitar',\n",
       " 'Yamaha FS100C Acoustic Guitar, Natural',\n",
       " 'JUAREZ JRZ38CTR/BK 38 Inch Acoustic Guitar with Dual Action Truss Rod, Bag, Picks, Allen Key, Extra String Set, Black',\n",
       " 'TOXOT TOYS 38 IN Right Handed Acoustic Guitar With Carry Bag & Picks | Musical Instrument Learning Toy for Kids | Humidity Proof, Bend resistance, Durable Action, Natural Tone & Bright Resonance',\n",
       " 'Granada, Acoustic Guitar, Dreadnought PRLD-14C-F -Natural',\n",
       " 'Intern INT-38C-NT-G Right Handed Acoustic Guitar Kit, With Bag, Strings, Pick And Strap (Natural, 6-Strings)',\n",
       " 'Blueberry B40L, 40\" Acoustic Guitar Kit Inbuilt Truss Rod with Bag, Strap, One Pack Strings And Picks (Classic Brown)',\n",
       " 'Kaps ST - 1ACM, 6-Strings, Acoustic Guitar , Right-Handed, Wine Red, With Guitar Cover/Bag',\n",
       " 'SHARE BY Blueberry R-40- Trussrod Acoustic Guitar Kit with Bag, Strap, One Pack Strings and Picks (Natural)',\n",
       " 'GUITAR BRO - COMBO (Black Acoustic Guitar for Beginner, Guitar Learning Kit, Song Book, Video Lectures, Accessories like Pick, Bag)']"
      ]
     },
     "execution_count": 41,
     "metadata": {},
     "output_type": "execute_result"
    }
   ],
   "source": [
    "Title"
   ]
  },
  {
   "cell_type": "code",
   "execution_count": 42,
   "id": "2f47fc61",
   "metadata": {},
   "outputs": [
    {
     "name": "stderr",
     "output_type": "stream",
     "text": [
      "C:\\Users\\admin\\AppData\\Local\\Temp/ipykernel_7884/1518503272.py:1: DeprecationWarning: find_elements_by_xpath is deprecated. Please use find_elements(by=By.XPATH, value=xpath) instead\n",
      "  urls=browser.find_elements_by_xpath(\"//a[@class='a-link-normal a-text-normal']\")\n",
      "C:\\Users\\admin\\AppData\\Local\\Temp/ipykernel_7884/1518503272.py:8: DeprecationWarning: find_element_by_xpath is deprecated. Please use find_element(by=By.XPATH, value=xpath) instead\n",
      "  deliveries=browser.find_element_by_xpath(\"//div[@class='a-section a-spacing-mini']\")\n",
      "C:\\Users\\admin\\AppData\\Local\\Temp/ipykernel_7884/1518503272.py:10: DeprecationWarning: find_element_by_xpath is deprecated. Please use find_element(by=By.XPATH, value=xpath) instead\n",
      "  rate=browser.find_element_by_xpath(\"//span[@id='acrCustomerReviewText']\")\n",
      "C:\\Users\\admin\\AppData\\Local\\Temp/ipykernel_7884/1518503272.py:12: DeprecationWarning: find_element_by_xpath is deprecated. Please use find_element(by=By.XPATH, value=xpath) instead\n",
      "  rating=browser.find_element_by_xpath(\"//span[@class='a-size-medium a-color-base']\")\n",
      "C:\\Users\\admin\\AppData\\Local\\Temp/ipykernel_7884/1518503272.py:14: DeprecationWarning: find_element_by_xpath is deprecated. Please use find_element(by=By.XPATH, value=xpath) instead\n",
      "  rates=browser.find_element_by_xpath(\"//span[@class='a-size-base a-color-secondary']\")\n"
     ]
    }
   ],
   "source": [
    "urls=browser.find_elements_by_xpath(\"//a[@class='a-link-normal a-text-normal']\")\n",
    "UR=[]\n",
    "for i in urls:\n",
    "    UR.append(i.get_attribute('href'))\n",
    "for url in UR:\n",
    "    browser.get(url)\n",
    "    try:\n",
    "        deliveries=browser.find_element_by_xpath(\"//div[@class='a-section a-spacing-mini']\")\n",
    "        Delivery.append(deliveries.text)\n",
    "        rate=browser.find_element_by_xpath(\"//span[@id='acrCustomerReviewText']\")\n",
    "        rate.click()\n",
    "        rating=browser.find_element_by_xpath(\"//span[@class='a-size-medium a-color-base']\")\n",
    "        Ratings.append(rating.text)\n",
    "        rates=browser.find_element_by_xpath(\"//span[@class='a-size-base a-color-secondary']\")\n",
    "        Rated.append(rates.text)\n",
    "    except NoSuchElementException   as e:\n",
    "        Ratings.append(\"NO rating\")#appending the No rating if no rating is there\n",
    "        Rated.append(\"No rating\")\n",
    "        brands.append(\"No rating\")\n",
    "        Delivery.append(\"No rating\")\n",
    "    "
   ]
  },
  {
   "cell_type": "code",
   "execution_count": 43,
   "id": "b50d803f",
   "metadata": {},
   "outputs": [
    {
     "name": "stderr",
     "output_type": "stream",
     "text": [
      "C:\\Users\\admin\\AppData\\Local\\Temp/ipykernel_7884/2790324205.py:3: DeprecationWarning: find_elements_by_xpath is deprecated. Please use find_elements(by=By.XPATH, value=xpath) instead\n",
      "  urls=browser.find_elements_by_xpath(\"//img[@class='s-image']\")\n"
     ]
    }
   ],
   "source": [
    "url=\"https://www.amazon.in/s?k=guitar&ref=nb_sb_noss\"\n",
    "browser.get(url)\n",
    "urls=browser.find_elements_by_xpath(\"//img[@class='s-image']\")\n",
    "images=[]\n",
    "for i in urls:\n",
    "    images.append(i.get_attribute('src'))\n",
    "for url in images:\n",
    "    browser.get(url)"
   ]
  },
  {
   "cell_type": "code",
   "execution_count": 44,
   "id": "1b8ec1f5",
   "metadata": {},
   "outputs": [
    {
     "data": {
      "text/plain": [
       "['3.9 out of 5']"
      ]
     },
     "execution_count": 44,
     "metadata": {},
     "output_type": "execute_result"
    }
   ],
   "source": [
    "\n",
    "\n",
    "\n",
    "Ratings"
   ]
  },
  {
   "cell_type": "code",
   "execution_count": 45,
   "id": "28313f4c",
   "metadata": {},
   "outputs": [
    {
     "data": {
      "text/plain": [
       "['Size:']"
      ]
     },
     "execution_count": 45,
     "metadata": {},
     "output_type": "execute_result"
    }
   ],
   "source": [
    "Rated"
   ]
  },
  {
   "cell_type": "code",
   "execution_count": 46,
   "id": "206bb878",
   "metadata": {},
   "outputs": [
    {
     "data": {
      "text/plain": [
       "['Ends in 04h 39m 39s']"
      ]
     },
     "execution_count": 46,
     "metadata": {},
     "output_type": "execute_result"
    }
   ],
   "source": [
    "Delivery"
   ]
  },
  {
   "cell_type": "code",
   "execution_count": 47,
   "id": "8509c452",
   "metadata": {},
   "outputs": [
    {
     "name": "stdout",
     "output_type": "stream",
     "text": [
      "60\n",
      "66\n",
      "1\n",
      "1\n",
      "1\n",
      "64\n"
     ]
    }
   ],
   "source": [
    "#checking the length of each list\n",
    "print(len(Title))\n",
    "print(len(price))\n",
    "print(len(Ratings))\n",
    "print(len(Delivery))\n",
    "print(len(Rated))\n",
    "print(len(images))"
   ]
  },
  {
   "cell_type": "code",
   "execution_count": 48,
   "id": "c6d6910f",
   "metadata": {},
   "outputs": [
    {
     "ename": "ValueError",
     "evalue": "Length of values (1) does not match length of index (59)",
     "output_type": "error",
     "traceback": [
      "\u001b[1;31m---------------------------------------------------------------------------\u001b[0m",
      "\u001b[1;31mValueError\u001b[0m                                Traceback (most recent call last)",
      "\u001b[1;32m~\\AppData\\Local\\Temp/ipykernel_7884/3836037174.py\u001b[0m in \u001b[0;36m<module>\u001b[1;34m\u001b[0m\n\u001b[0;32m      3\u001b[0m \u001b[0mamazon\u001b[0m\u001b[1;33m[\u001b[0m\u001b[1;34m'Titles'\u001b[0m\u001b[1;33m]\u001b[0m\u001b[1;33m=\u001b[0m\u001b[0mTitle\u001b[0m\u001b[1;33m[\u001b[0m\u001b[1;36m0\u001b[0m\u001b[1;33m:\u001b[0m\u001b[1;36m59\u001b[0m\u001b[1;33m]\u001b[0m\u001b[1;33m\u001b[0m\u001b[1;33m\u001b[0m\u001b[0m\n\u001b[0;32m      4\u001b[0m \u001b[0mamazon\u001b[0m\u001b[1;33m[\u001b[0m\u001b[1;34m'Price'\u001b[0m\u001b[1;33m]\u001b[0m\u001b[1;33m=\u001b[0m\u001b[0mprice\u001b[0m\u001b[1;33m[\u001b[0m\u001b[1;36m0\u001b[0m\u001b[1;33m:\u001b[0m\u001b[1;36m59\u001b[0m\u001b[1;33m]\u001b[0m\u001b[1;33m\u001b[0m\u001b[1;33m\u001b[0m\u001b[0m\n\u001b[1;32m----> 5\u001b[1;33m \u001b[0mamazon\u001b[0m\u001b[1;33m[\u001b[0m\u001b[1;34m'Ratings'\u001b[0m\u001b[1;33m]\u001b[0m\u001b[1;33m=\u001b[0m\u001b[0mRatings\u001b[0m\u001b[1;33m[\u001b[0m\u001b[1;36m0\u001b[0m\u001b[1;33m:\u001b[0m\u001b[1;36m59\u001b[0m\u001b[1;33m]\u001b[0m\u001b[1;33m\u001b[0m\u001b[1;33m\u001b[0m\u001b[0m\n\u001b[0m\u001b[0;32m      6\u001b[0m \u001b[0mamazon\u001b[0m\u001b[1;33m[\u001b[0m\u001b[1;34m'rates'\u001b[0m\u001b[1;33m]\u001b[0m\u001b[1;33m=\u001b[0m\u001b[0mRated\u001b[0m\u001b[1;33m[\u001b[0m\u001b[1;36m0\u001b[0m\u001b[1;33m:\u001b[0m\u001b[1;36m59\u001b[0m\u001b[1;33m]\u001b[0m\u001b[1;33m\u001b[0m\u001b[1;33m\u001b[0m\u001b[0m\n\u001b[0;32m      7\u001b[0m \u001b[0mamazon\u001b[0m\u001b[1;33m[\u001b[0m\u001b[1;34m'delivery'\u001b[0m\u001b[1;33m]\u001b[0m\u001b[1;33m=\u001b[0m\u001b[0mDelivery\u001b[0m\u001b[1;33m[\u001b[0m\u001b[1;36m0\u001b[0m\u001b[1;33m:\u001b[0m\u001b[1;36m59\u001b[0m\u001b[1;33m]\u001b[0m\u001b[1;33m\u001b[0m\u001b[1;33m\u001b[0m\u001b[0m\n",
      "\u001b[1;32mC:\\ProgramData\\Anaconda3\\lib\\site-packages\\pandas\\core\\frame.py\u001b[0m in \u001b[0;36m__setitem__\u001b[1;34m(self, key, value)\u001b[0m\n\u001b[0;32m   3610\u001b[0m         \u001b[1;32melse\u001b[0m\u001b[1;33m:\u001b[0m\u001b[1;33m\u001b[0m\u001b[1;33m\u001b[0m\u001b[0m\n\u001b[0;32m   3611\u001b[0m             \u001b[1;31m# set column\u001b[0m\u001b[1;33m\u001b[0m\u001b[1;33m\u001b[0m\u001b[0m\n\u001b[1;32m-> 3612\u001b[1;33m             \u001b[0mself\u001b[0m\u001b[1;33m.\u001b[0m\u001b[0m_set_item\u001b[0m\u001b[1;33m(\u001b[0m\u001b[0mkey\u001b[0m\u001b[1;33m,\u001b[0m \u001b[0mvalue\u001b[0m\u001b[1;33m)\u001b[0m\u001b[1;33m\u001b[0m\u001b[1;33m\u001b[0m\u001b[0m\n\u001b[0m\u001b[0;32m   3613\u001b[0m \u001b[1;33m\u001b[0m\u001b[0m\n\u001b[0;32m   3614\u001b[0m     \u001b[1;32mdef\u001b[0m \u001b[0m_setitem_slice\u001b[0m\u001b[1;33m(\u001b[0m\u001b[0mself\u001b[0m\u001b[1;33m,\u001b[0m \u001b[0mkey\u001b[0m\u001b[1;33m:\u001b[0m \u001b[0mslice\u001b[0m\u001b[1;33m,\u001b[0m \u001b[0mvalue\u001b[0m\u001b[1;33m)\u001b[0m\u001b[1;33m:\u001b[0m\u001b[1;33m\u001b[0m\u001b[1;33m\u001b[0m\u001b[0m\n",
      "\u001b[1;32mC:\\ProgramData\\Anaconda3\\lib\\site-packages\\pandas\\core\\frame.py\u001b[0m in \u001b[0;36m_set_item\u001b[1;34m(self, key, value)\u001b[0m\n\u001b[0;32m   3782\u001b[0m         \u001b[0mensure\u001b[0m \u001b[0mhomogeneity\u001b[0m\u001b[1;33m.\u001b[0m\u001b[1;33m\u001b[0m\u001b[1;33m\u001b[0m\u001b[0m\n\u001b[0;32m   3783\u001b[0m         \"\"\"\n\u001b[1;32m-> 3784\u001b[1;33m         \u001b[0mvalue\u001b[0m \u001b[1;33m=\u001b[0m \u001b[0mself\u001b[0m\u001b[1;33m.\u001b[0m\u001b[0m_sanitize_column\u001b[0m\u001b[1;33m(\u001b[0m\u001b[0mvalue\u001b[0m\u001b[1;33m)\u001b[0m\u001b[1;33m\u001b[0m\u001b[1;33m\u001b[0m\u001b[0m\n\u001b[0m\u001b[0;32m   3785\u001b[0m \u001b[1;33m\u001b[0m\u001b[0m\n\u001b[0;32m   3786\u001b[0m         if (\n",
      "\u001b[1;32mC:\\ProgramData\\Anaconda3\\lib\\site-packages\\pandas\\core\\frame.py\u001b[0m in \u001b[0;36m_sanitize_column\u001b[1;34m(self, value)\u001b[0m\n\u001b[0;32m   4507\u001b[0m \u001b[1;33m\u001b[0m\u001b[0m\n\u001b[0;32m   4508\u001b[0m         \u001b[1;32mif\u001b[0m \u001b[0mis_list_like\u001b[0m\u001b[1;33m(\u001b[0m\u001b[0mvalue\u001b[0m\u001b[1;33m)\u001b[0m\u001b[1;33m:\u001b[0m\u001b[1;33m\u001b[0m\u001b[1;33m\u001b[0m\u001b[0m\n\u001b[1;32m-> 4509\u001b[1;33m             \u001b[0mcom\u001b[0m\u001b[1;33m.\u001b[0m\u001b[0mrequire_length_match\u001b[0m\u001b[1;33m(\u001b[0m\u001b[0mvalue\u001b[0m\u001b[1;33m,\u001b[0m \u001b[0mself\u001b[0m\u001b[1;33m.\u001b[0m\u001b[0mindex\u001b[0m\u001b[1;33m)\u001b[0m\u001b[1;33m\u001b[0m\u001b[1;33m\u001b[0m\u001b[0m\n\u001b[0m\u001b[0;32m   4510\u001b[0m         \u001b[1;32mreturn\u001b[0m \u001b[0msanitize_array\u001b[0m\u001b[1;33m(\u001b[0m\u001b[0mvalue\u001b[0m\u001b[1;33m,\u001b[0m \u001b[0mself\u001b[0m\u001b[1;33m.\u001b[0m\u001b[0mindex\u001b[0m\u001b[1;33m,\u001b[0m \u001b[0mcopy\u001b[0m\u001b[1;33m=\u001b[0m\u001b[1;32mTrue\u001b[0m\u001b[1;33m,\u001b[0m \u001b[0mallow_2d\u001b[0m\u001b[1;33m=\u001b[0m\u001b[1;32mTrue\u001b[0m\u001b[1;33m)\u001b[0m\u001b[1;33m\u001b[0m\u001b[1;33m\u001b[0m\u001b[0m\n\u001b[0;32m   4511\u001b[0m \u001b[1;33m\u001b[0m\u001b[0m\n",
      "\u001b[1;32mC:\\ProgramData\\Anaconda3\\lib\\site-packages\\pandas\\core\\common.py\u001b[0m in \u001b[0;36mrequire_length_match\u001b[1;34m(data, index)\u001b[0m\n\u001b[0;32m    529\u001b[0m     \"\"\"\n\u001b[0;32m    530\u001b[0m     \u001b[1;32mif\u001b[0m \u001b[0mlen\u001b[0m\u001b[1;33m(\u001b[0m\u001b[0mdata\u001b[0m\u001b[1;33m)\u001b[0m \u001b[1;33m!=\u001b[0m \u001b[0mlen\u001b[0m\u001b[1;33m(\u001b[0m\u001b[0mindex\u001b[0m\u001b[1;33m)\u001b[0m\u001b[1;33m:\u001b[0m\u001b[1;33m\u001b[0m\u001b[1;33m\u001b[0m\u001b[0m\n\u001b[1;32m--> 531\u001b[1;33m         raise ValueError(\n\u001b[0m\u001b[0;32m    532\u001b[0m             \u001b[1;34m\"Length of values \"\u001b[0m\u001b[1;33m\u001b[0m\u001b[1;33m\u001b[0m\u001b[0m\n\u001b[0;32m    533\u001b[0m             \u001b[1;34mf\"({len(data)}) \"\u001b[0m\u001b[1;33m\u001b[0m\u001b[1;33m\u001b[0m\u001b[0m\n",
      "\u001b[1;31mValueError\u001b[0m: Length of values (1) does not match length of index (59)"
     ]
    }
   ],
   "source": [
    "import pandas as pd\n",
    "amazon=pd.DataFrame({})\n",
    "amazon['Titles']=Title[0:59]\n",
    "amazon['Price']=price[0:59]\n",
    "amazon['Ratings']=Ratings[0:59]\n",
    "amazon['rates']=Rated[0:59]\n",
    "amazon['delivery']=Delivery[0:59]\n",
    "amazon['images']=images[0:59]"
   ]
  },
  {
   "cell_type": "markdown",
   "id": "e4721d33",
   "metadata": {},
   "source": [
    "# 3."
   ]
  },
  {
   "cell_type": "code",
   "execution_count": 112,
   "id": "5a36a1cc",
   "metadata": {},
   "outputs": [
    {
     "name": "stderr",
     "output_type": "stream",
     "text": [
      "C:\\Users\\admin\\AppData\\Local\\Temp/ipykernel_7884/549918520.py:2: DeprecationWarning: executable_path has been deprecated, please pass in a Service object\n",
      "  driver2 = webdriver.Chrome(r\"C:\\chrome driver\\chromedriver.exe\")\n",
      "C:\\Users\\admin\\AppData\\Local\\Temp/ipykernel_7884/549918520.py:12: DeprecationWarning: find_element_by_tag_name is deprecated. Please use find_element(by=By.TAG_NAME, value=name) instead\n",
      "  search_bar = driver2.find_element_by_tag_name(\"input\") #Xpath for search bar\n",
      "C:\\Users\\admin\\AppData\\Local\\Temp/ipykernel_7884/549918520.py:16: DeprecationWarning: find_element_by_xpath is deprecated. Please use find_element(by=By.XPATH, value=xpath) instead\n",
      "  search_button =driver2.find_element_by_xpath(\"//button[@class='Tg7LZd']\").click() #Clicking on search button\n"
     ]
    },
    {
     "ename": "ElementClickInterceptedException",
     "evalue": "Message: element click intercepted: Element <button jsname=\"Tg7LZd\" class=\"Tg7LZd\" aria-label=\"Google Search\" type=\"submit\" data-ved=\"0ahUKEwimh5q084T4AhVwEqYKHRbpAToQ4dUDCAc\">...</button> is not clickable at point (786, 201). Other element would receive the click: <iframe role=\"presentation\" frameborder=\"0\" scrolling=\"no\" src=\"https://ogs.google.com/widget/callout?prid=19028915&amp;pgid=19027681&amp;puid=3e9e72cbc9a83b93&amp;cce=1&amp;dc=1&amp;origin=https%3A%2F%2Fimages.google.com&amp;cn=callout&amp;pid=1&amp;spid=2&amp;hl=en\" style=\"height: 100%; width: 100%;\" data-iml=\"1653833909281\"></iframe>\n  (Session info: chrome=101.0.4951.67)\nStacktrace:\nBacktrace:\n\tOrdinal0 [0x003D7413+2389011]\n\tOrdinal0 [0x00369F61+1941345]\n\tOrdinal0 [0x0025C658+837208]\n\tOrdinal0 [0x0028F8AF+1046703]\n\tOrdinal0 [0x0028D8D6+1038550]\n\tOrdinal0 [0x0028B5EB+1029611]\n\tOrdinal0 [0x0028A359+1024857]\n\tOrdinal0 [0x0027FF93+982931]\n\tOrdinal0 [0x002A414C+1130828]\n\tOrdinal0 [0x0027F974+981364]\n\tOrdinal0 [0x002A4364+1131364]\n\tOrdinal0 [0x002B4302+1196802]\n\tOrdinal0 [0x002A3F66+1130342]\n\tOrdinal0 [0x0027E546+976198]\n\tOrdinal0 [0x0027F456+980054]\n\tGetHandleVerifier [0x00589632+1727522]\n\tGetHandleVerifier [0x0063BA4D+2457661]\n\tGetHandleVerifier [0x0046EB81+569713]\n\tGetHandleVerifier [0x0046DD76+566118]\n\tOrdinal0 [0x00370B2B+1968939]\n\tOrdinal0 [0x00375988+1989000]\n\tOrdinal0 [0x00375A75+1989237]\n\tOrdinal0 [0x0037ECB1+2026673]\n\tBaseThreadInitThunk [0x75326359+25]\n\tRtlGetAppContainerNamedObjectPath [0x773787A4+228]\n\tRtlGetAppContainerNamedObjectPath [0x77378774+180]\n",
     "output_type": "error",
     "traceback": [
      "\u001b[1;31m---------------------------------------------------------------------------\u001b[0m",
      "\u001b[1;31mElementClickInterceptedException\u001b[0m          Traceback (most recent call last)",
      "\u001b[1;32m~\\AppData\\Local\\Temp/ipykernel_7884/549918520.py\u001b[0m in \u001b[0;36m<module>\u001b[1;34m\u001b[0m\n\u001b[0;32m     14\u001b[0m     \u001b[0msearch_bar\u001b[0m\u001b[1;33m.\u001b[0m\u001b[0msend_keys\u001b[0m\u001b[1;33m(\u001b[0m\u001b[0mstr\u001b[0m\u001b[1;33m(\u001b[0m\u001b[0mitem\u001b[0m\u001b[1;33m)\u001b[0m\u001b[1;33m)\u001b[0m      \u001b[1;31m#sending key word for search item\u001b[0m\u001b[1;33m\u001b[0m\u001b[1;33m\u001b[0m\u001b[0m\n\u001b[0;32m     15\u001b[0m \u001b[1;33m\u001b[0m\u001b[0m\n\u001b[1;32m---> 16\u001b[1;33m     \u001b[0msearch_button\u001b[0m \u001b[1;33m=\u001b[0m\u001b[0mdriver2\u001b[0m\u001b[1;33m.\u001b[0m\u001b[0mfind_element_by_xpath\u001b[0m\u001b[1;33m(\u001b[0m\u001b[1;34m\"//button[@class='Tg7LZd']\"\u001b[0m\u001b[1;33m)\u001b[0m\u001b[1;33m.\u001b[0m\u001b[0mclick\u001b[0m\u001b[1;33m(\u001b[0m\u001b[1;33m)\u001b[0m \u001b[1;31m#Clicking on search button\u001b[0m\u001b[1;33m\u001b[0m\u001b[1;33m\u001b[0m\u001b[0m\n\u001b[0m\u001b[0;32m     17\u001b[0m \u001b[1;33m\u001b[0m\u001b[0m\n\u001b[0;32m     18\u001b[0m     \u001b[1;31m# scrolling the web page to get more images\u001b[0m\u001b[1;33m\u001b[0m\u001b[1;33m\u001b[0m\u001b[0m\n",
      "\u001b[1;32mC:\\ProgramData\\Anaconda3\\lib\\site-packages\\selenium\\webdriver\\remote\\webelement.py\u001b[0m in \u001b[0;36mclick\u001b[1;34m(self)\u001b[0m\n\u001b[0;32m     79\u001b[0m     \u001b[1;32mdef\u001b[0m \u001b[0mclick\u001b[0m\u001b[1;33m(\u001b[0m\u001b[0mself\u001b[0m\u001b[1;33m)\u001b[0m \u001b[1;33m->\u001b[0m \u001b[1;32mNone\u001b[0m\u001b[1;33m:\u001b[0m\u001b[1;33m\u001b[0m\u001b[1;33m\u001b[0m\u001b[0m\n\u001b[0;32m     80\u001b[0m         \u001b[1;34m\"\"\"Clicks the element.\"\"\"\u001b[0m\u001b[1;33m\u001b[0m\u001b[1;33m\u001b[0m\u001b[0m\n\u001b[1;32m---> 81\u001b[1;33m         \u001b[0mself\u001b[0m\u001b[1;33m.\u001b[0m\u001b[0m_execute\u001b[0m\u001b[1;33m(\u001b[0m\u001b[0mCommand\u001b[0m\u001b[1;33m.\u001b[0m\u001b[0mCLICK_ELEMENT\u001b[0m\u001b[1;33m)\u001b[0m\u001b[1;33m\u001b[0m\u001b[1;33m\u001b[0m\u001b[0m\n\u001b[0m\u001b[0;32m     82\u001b[0m \u001b[1;33m\u001b[0m\u001b[0m\n\u001b[0;32m     83\u001b[0m     \u001b[1;32mdef\u001b[0m \u001b[0msubmit\u001b[0m\u001b[1;33m(\u001b[0m\u001b[0mself\u001b[0m\u001b[1;33m)\u001b[0m\u001b[1;33m:\u001b[0m\u001b[1;33m\u001b[0m\u001b[1;33m\u001b[0m\u001b[0m\n",
      "\u001b[1;32mC:\\ProgramData\\Anaconda3\\lib\\site-packages\\selenium\\webdriver\\remote\\webelement.py\u001b[0m in \u001b[0;36m_execute\u001b[1;34m(self, command, params)\u001b[0m\n\u001b[0;32m    708\u001b[0m             \u001b[0mparams\u001b[0m \u001b[1;33m=\u001b[0m \u001b[1;33m{\u001b[0m\u001b[1;33m}\u001b[0m\u001b[1;33m\u001b[0m\u001b[1;33m\u001b[0m\u001b[0m\n\u001b[0;32m    709\u001b[0m         \u001b[0mparams\u001b[0m\u001b[1;33m[\u001b[0m\u001b[1;34m'id'\u001b[0m\u001b[1;33m]\u001b[0m \u001b[1;33m=\u001b[0m \u001b[0mself\u001b[0m\u001b[1;33m.\u001b[0m\u001b[0m_id\u001b[0m\u001b[1;33m\u001b[0m\u001b[1;33m\u001b[0m\u001b[0m\n\u001b[1;32m--> 710\u001b[1;33m         \u001b[1;32mreturn\u001b[0m \u001b[0mself\u001b[0m\u001b[1;33m.\u001b[0m\u001b[0m_parent\u001b[0m\u001b[1;33m.\u001b[0m\u001b[0mexecute\u001b[0m\u001b[1;33m(\u001b[0m\u001b[0mcommand\u001b[0m\u001b[1;33m,\u001b[0m \u001b[0mparams\u001b[0m\u001b[1;33m)\u001b[0m\u001b[1;33m\u001b[0m\u001b[1;33m\u001b[0m\u001b[0m\n\u001b[0m\u001b[0;32m    711\u001b[0m \u001b[1;33m\u001b[0m\u001b[0m\n\u001b[0;32m    712\u001b[0m     \u001b[1;32mdef\u001b[0m \u001b[0mfind_element\u001b[0m\u001b[1;33m(\u001b[0m\u001b[0mself\u001b[0m\u001b[1;33m,\u001b[0m \u001b[0mby\u001b[0m\u001b[1;33m=\u001b[0m\u001b[0mBy\u001b[0m\u001b[1;33m.\u001b[0m\u001b[0mID\u001b[0m\u001b[1;33m,\u001b[0m \u001b[0mvalue\u001b[0m\u001b[1;33m=\u001b[0m\u001b[1;32mNone\u001b[0m\u001b[1;33m)\u001b[0m\u001b[1;33m:\u001b[0m\u001b[1;33m\u001b[0m\u001b[1;33m\u001b[0m\u001b[0m\n",
      "\u001b[1;32mC:\\ProgramData\\Anaconda3\\lib\\site-packages\\selenium\\webdriver\\remote\\webdriver.py\u001b[0m in \u001b[0;36mexecute\u001b[1;34m(self, driver_command, params)\u001b[0m\n\u001b[0;32m    423\u001b[0m         \u001b[0mresponse\u001b[0m \u001b[1;33m=\u001b[0m \u001b[0mself\u001b[0m\u001b[1;33m.\u001b[0m\u001b[0mcommand_executor\u001b[0m\u001b[1;33m.\u001b[0m\u001b[0mexecute\u001b[0m\u001b[1;33m(\u001b[0m\u001b[0mdriver_command\u001b[0m\u001b[1;33m,\u001b[0m \u001b[0mparams\u001b[0m\u001b[1;33m)\u001b[0m\u001b[1;33m\u001b[0m\u001b[1;33m\u001b[0m\u001b[0m\n\u001b[0;32m    424\u001b[0m         \u001b[1;32mif\u001b[0m \u001b[0mresponse\u001b[0m\u001b[1;33m:\u001b[0m\u001b[1;33m\u001b[0m\u001b[1;33m\u001b[0m\u001b[0m\n\u001b[1;32m--> 425\u001b[1;33m             \u001b[0mself\u001b[0m\u001b[1;33m.\u001b[0m\u001b[0merror_handler\u001b[0m\u001b[1;33m.\u001b[0m\u001b[0mcheck_response\u001b[0m\u001b[1;33m(\u001b[0m\u001b[0mresponse\u001b[0m\u001b[1;33m)\u001b[0m\u001b[1;33m\u001b[0m\u001b[1;33m\u001b[0m\u001b[0m\n\u001b[0m\u001b[0;32m    426\u001b[0m             response['value'] = self._unwrap_value(\n\u001b[0;32m    427\u001b[0m                 response.get('value', None))\n",
      "\u001b[1;32mC:\\ProgramData\\Anaconda3\\lib\\site-packages\\selenium\\webdriver\\remote\\errorhandler.py\u001b[0m in \u001b[0;36mcheck_response\u001b[1;34m(self, response)\u001b[0m\n\u001b[0;32m    245\u001b[0m                 \u001b[0malert_text\u001b[0m \u001b[1;33m=\u001b[0m \u001b[0mvalue\u001b[0m\u001b[1;33m[\u001b[0m\u001b[1;34m'alert'\u001b[0m\u001b[1;33m]\u001b[0m\u001b[1;33m.\u001b[0m\u001b[0mget\u001b[0m\u001b[1;33m(\u001b[0m\u001b[1;34m'text'\u001b[0m\u001b[1;33m)\u001b[0m\u001b[1;33m\u001b[0m\u001b[1;33m\u001b[0m\u001b[0m\n\u001b[0;32m    246\u001b[0m             \u001b[1;32mraise\u001b[0m \u001b[0mexception_class\u001b[0m\u001b[1;33m(\u001b[0m\u001b[0mmessage\u001b[0m\u001b[1;33m,\u001b[0m \u001b[0mscreen\u001b[0m\u001b[1;33m,\u001b[0m \u001b[0mstacktrace\u001b[0m\u001b[1;33m,\u001b[0m \u001b[0malert_text\u001b[0m\u001b[1;33m)\u001b[0m  \u001b[1;31m# type: ignore[call-arg]  # mypy is not smart enough here\u001b[0m\u001b[1;33m\u001b[0m\u001b[1;33m\u001b[0m\u001b[0m\n\u001b[1;32m--> 247\u001b[1;33m         \u001b[1;32mraise\u001b[0m \u001b[0mexception_class\u001b[0m\u001b[1;33m(\u001b[0m\u001b[0mmessage\u001b[0m\u001b[1;33m,\u001b[0m \u001b[0mscreen\u001b[0m\u001b[1;33m,\u001b[0m \u001b[0mstacktrace\u001b[0m\u001b[1;33m)\u001b[0m\u001b[1;33m\u001b[0m\u001b[1;33m\u001b[0m\u001b[0m\n\u001b[0m\u001b[0;32m    248\u001b[0m \u001b[1;33m\u001b[0m\u001b[0m\n\u001b[0;32m    249\u001b[0m     \u001b[1;32mdef\u001b[0m \u001b[0m_value_or_default\u001b[0m\u001b[1;33m(\u001b[0m\u001b[0mself\u001b[0m\u001b[1;33m,\u001b[0m \u001b[0mobj\u001b[0m\u001b[1;33m:\u001b[0m \u001b[0mMapping\u001b[0m\u001b[1;33m[\u001b[0m\u001b[0m_KT\u001b[0m\u001b[1;33m,\u001b[0m \u001b[0m_VT\u001b[0m\u001b[1;33m]\u001b[0m\u001b[1;33m,\u001b[0m \u001b[0mkey\u001b[0m\u001b[1;33m:\u001b[0m \u001b[0m_KT\u001b[0m\u001b[1;33m,\u001b[0m \u001b[0mdefault\u001b[0m\u001b[1;33m:\u001b[0m \u001b[0m_VT\u001b[0m\u001b[1;33m)\u001b[0m \u001b[1;33m->\u001b[0m \u001b[0m_VT\u001b[0m\u001b[1;33m:\u001b[0m\u001b[1;33m\u001b[0m\u001b[1;33m\u001b[0m\u001b[0m\n",
      "\u001b[1;31mElementClickInterceptedException\u001b[0m: Message: element click intercepted: Element <button jsname=\"Tg7LZd\" class=\"Tg7LZd\" aria-label=\"Google Search\" type=\"submit\" data-ved=\"0ahUKEwimh5q084T4AhVwEqYKHRbpAToQ4dUDCAc\">...</button> is not clickable at point (786, 201). Other element would receive the click: <iframe role=\"presentation\" frameborder=\"0\" scrolling=\"no\" src=\"https://ogs.google.com/widget/callout?prid=19028915&amp;pgid=19027681&amp;puid=3e9e72cbc9a83b93&amp;cce=1&amp;dc=1&amp;origin=https%3A%2F%2Fimages.google.com&amp;cn=callout&amp;pid=1&amp;spid=2&amp;hl=en\" style=\"height: 100%; width: 100%;\" data-iml=\"1653833909281\"></iframe>\n  (Session info: chrome=101.0.4951.67)\nStacktrace:\nBacktrace:\n\tOrdinal0 [0x003D7413+2389011]\n\tOrdinal0 [0x00369F61+1941345]\n\tOrdinal0 [0x0025C658+837208]\n\tOrdinal0 [0x0028F8AF+1046703]\n\tOrdinal0 [0x0028D8D6+1038550]\n\tOrdinal0 [0x0028B5EB+1029611]\n\tOrdinal0 [0x0028A359+1024857]\n\tOrdinal0 [0x0027FF93+982931]\n\tOrdinal0 [0x002A414C+1130828]\n\tOrdinal0 [0x0027F974+981364]\n\tOrdinal0 [0x002A4364+1131364]\n\tOrdinal0 [0x002B4302+1196802]\n\tOrdinal0 [0x002A3F66+1130342]\n\tOrdinal0 [0x0027E546+976198]\n\tOrdinal0 [0x0027F456+980054]\n\tGetHandleVerifier [0x00589632+1727522]\n\tGetHandleVerifier [0x0063BA4D+2457661]\n\tGetHandleVerifier [0x0046EB81+569713]\n\tGetHandleVerifier [0x0046DD76+566118]\n\tOrdinal0 [0x00370B2B+1968939]\n\tOrdinal0 [0x00375988+1989000]\n\tOrdinal0 [0x00375A75+1989237]\n\tOrdinal0 [0x0037ECB1+2026673]\n\tBaseThreadInitThunk [0x75326359+25]\n\tRtlGetAppContainerNamedObjectPath [0x773787A4+228]\n\tRtlGetAppContainerNamedObjectPath [0x77378774+180]\n"
     ]
    }
   ],
   "source": [
    "#Activating the chrome browser with specified url\n",
    "driver2 = webdriver.Chrome(r\"C:\\chrome driver\\chromedriver.exe\")\n",
    "# getting images.google.com\n",
    "url = \"https://images.google.com/\"\n",
    "#Creating empty list and giving search items as list and creating loop\n",
    "urls = []    \n",
    "data = []\n",
    "search_item = [\"fruits\", \"cars\", \"Machine Learning\",\"guitar\",\"cakes\"]\n",
    "for item in search_item:\n",
    "    driver2.get(url)  \n",
    "    time.sleep(5)\n",
    "    search_bar = driver2.find_element_by_tag_name(\"input\") #Xpath for search bar\n",
    "    \n",
    "    search_bar.send_keys(str(item))      #sending key word for search item\n",
    "    \n",
    "    search_button =driver2.find_element_by_xpath(\"//button[@class='Tg7LZd']\").click() #Clicking on search button\n",
    "    \n",
    "    # scrolling the web page to get more images\n",
    "    for _ in range(10):\n",
    "        driver2.execute_script(\"window.scrollBy(0,1)\")\n",
    "        \n",
    "        imgs = driver2.find_elements_by_xpath(\"//img[@class='rg_i Q4LuWd']\")\n",
    "    img_url = []\n",
    "    for image in imgs:\n",
    "        source = image.get_attribute('src')\n",
    "        if source is not None:\n",
    "                if(source[0:4] == 'http'):\n",
    "                    img_url.append(source)\n",
    "    for i in img_url[:10]:\n",
    "        urls.append(i)\n",
    "                    \n",
    "for i in range(len(urls)):\n",
    "    if i >= 10:\n",
    "        break\n",
    "    print(\"Downloading {0} of {1} images\" .format(i, 10))\n",
    "    response = requests.get(urls[i])\n",
    "    \n",
    "file = open(r\"C:\\Users\\HP\\fliprobogoogle\"+str(i)+\".jpg\", \"wb\")\n",
    "\n",
    "file.write(response.content)\n",
    "    "
   ]
  },
  {
   "cell_type": "markdown",
   "id": "0f394b3b",
   "metadata": {},
   "source": [
    "# 5."
   ]
  },
  {
   "cell_type": "code",
   "execution_count": 111,
   "id": "89947f04",
   "metadata": {},
   "outputs": [
    {
     "name": "stderr",
     "output_type": "stream",
     "text": [
      "C:\\Users\\admin\\AppData\\Local\\Temp/ipykernel_7884/355571876.py:2: DeprecationWarning: executable_path has been deprecated, please pass in a Service object\n",
      "  driver5=webdriver.Chrome(r\"C:\\chrome driver\\chromedriver.exe\")\n"
     ]
    },
    {
     "name": "stdout",
     "output_type": "stream",
     "text": [
      "Enter City name that has to be searched : bhopal\n"
     ]
    },
    {
     "name": "stderr",
     "output_type": "stream",
     "text": [
      "C:\\Users\\admin\\AppData\\Local\\Temp/ipykernel_7884/355571876.py:11: DeprecationWarning: find_element_by_* commands are deprecated. Please use find_element() instead\n",
      "  search_bar = driver5.find_element_by_id(\"searchboxinput\")\n",
      "C:\\Users\\admin\\AppData\\Local\\Temp/ipykernel_7884/355571876.py:16: DeprecationWarning: find_element_by_* commands are deprecated. Please use find_element() instead\n",
      "  search_btn = driver5.find_element_by_id(\"searchbox-searchbutton\")\n"
     ]
    },
    {
     "name": "stdout",
     "output_type": "stream",
     "text": [
      "URL Extracted:  https://www.google.co.in/maps/place/Bhopal,+Madhya+Pradesh/@23.1996633,77.2658016,11z/data=!3m1!4b1!4m5!3m4!1s0x397c428f8fd68fbd:0x2155716d572d4f8!8m2!3d23.2599333!4d77.412615\n",
      "Error:  name 're' is not defined\n"
     ]
    }
   ],
   "source": [
    "# Activating the chrome browser\n",
    "driver5=webdriver.Chrome(r\"C:\\chrome driver\\chromedriver.exe\") \n",
    "time.sleep(2)\n",
    "\n",
    "# opening google maps web page\n",
    "url = \"https://www.google.co.in/maps\"\n",
    "driver5.get(url)\n",
    "time.sleep(2)\n",
    "#Sending keyword for seach bar and search button\n",
    "city = input('Enter City name that has to be searched : ')\n",
    "search_bar = driver5.find_element_by_id(\"searchboxinput\")                       \n",
    "search_bar.clear()                                                             \n",
    "time.sleep(2)\n",
    "\n",
    "search_bar.send_keys(city)                                                     \n",
    "search_btn = driver5.find_element_by_id(\"searchbox-searchbutton\")              \n",
    "search_btn.click()                                                             \n",
    "time.sleep(3)\n",
    "\n",
    "try:\n",
    "    url_str = driver5.current_url\n",
    "    print(\"URL Extracted: \", url_str)\n",
    "    latitude_longitude = re.findall(r'@(.*)data',url_str)\n",
    "    if len(latitude_longitude):\n",
    "        lat_lng_list = latitude_longitude[0].split(\",\")\n",
    "        if len(lat_lng_list)>=2:\n",
    "            latitude = lat_lng_list[0]\n",
    "            longitude = lat_lng_list[1]\n",
    "        print(\"Latitude = {}, Longitude = {}\".format(latitude, longitude))\n",
    "\n",
    "except Exception as e:\n",
    "        print(\"Error: \", str(e))"
   ]
  },
  {
   "cell_type": "markdown",
   "id": "d3a54a5c",
   "metadata": {},
   "source": [
    "# 6."
   ]
  },
  {
   "cell_type": "code",
   "execution_count": 108,
   "id": "faa4a846",
   "metadata": {},
   "outputs": [
    {
     "name": "stderr",
     "output_type": "stream",
     "text": [
      "C:\\Users\\admin\\AppData\\Local\\Temp/ipykernel_7884/148067546.py:1: DeprecationWarning: executable_path has been deprecated, please pass in a Service object\n",
      "  driver=webdriver.Chrome(r\"C:\\chrome driver\\chromedriver.exe\")\n"
     ]
    }
   ],
   "source": [
    "driver=webdriver.Chrome(r\"C:\\chrome driver\\chromedriver.exe\")\n",
    "driver.get(\"https://trak.in/india-startup-funding-investment-2015/\")"
   ]
  },
  {
   "cell_type": "code",
   "execution_count": 109,
   "id": "85e967c9",
   "metadata": {},
   "outputs": [],
   "source": [
    "Dates=[]\n",
    "company=[]\n",
    "Industry=[]\n",
    "Investor_Name=[]\n",
    "Investment_Type=[]\n",
    "Amount=[]"
   ]
  },
  {
   "cell_type": "code",
   "execution_count": 110,
   "id": "f7810fed",
   "metadata": {},
   "outputs": [
    {
     "name": "stderr",
     "output_type": "stream",
     "text": [
      "C:\\Users\\admin\\AppData\\Local\\Temp/ipykernel_7884/1265008430.py:3: DeprecationWarning: find_elements_by_xpath is deprecated. Please use find_elements(by=By.XPATH, value=xpath) instead\n",
      "  companies=driver.find_elements_by_xpath(\"//td[@class='column-3']\")\n",
      "C:\\Users\\admin\\AppData\\Local\\Temp/ipykernel_7884/1265008430.py:16: DeprecationWarning: find_elements_by_xpath is deprecated. Please use find_elements(by=By.XPATH, value=xpath) instead\n",
      "  Ind=driver.find_elements_by_xpath(\"//td[@class='column-4']\")\n",
      "C:\\Users\\admin\\AppData\\Local\\Temp/ipykernel_7884/1265008430.py:27: DeprecationWarning: find_elements_by_xpath is deprecated. Please use find_elements(by=By.XPATH, value=xpath) instead\n",
      "  dt=driver.find_elements_by_xpath(\"//td[@class='column-2']\")\n",
      "C:\\Users\\admin\\AppData\\Local\\Temp/ipykernel_7884/1265008430.py:38: DeprecationWarning: find_elements_by_xpath is deprecated. Please use find_elements(by=By.XPATH, value=xpath) instead\n",
      "  IN=driver.find_elements_by_xpath(\"//td[@class='column-7']\")\n",
      "C:\\Users\\admin\\AppData\\Local\\Temp/ipykernel_7884/1265008430.py:49: DeprecationWarning: find_elements_by_xpath is deprecated. Please use find_elements(by=By.XPATH, value=xpath) instead\n",
      "  IT=driver.find_elements_by_xpath(\"//td[@class='column-8']\")\n",
      "C:\\Users\\admin\\AppData\\Local\\Temp/ipykernel_7884/1265008430.py:60: DeprecationWarning: find_elements_by_xpath is deprecated. Please use find_elements(by=By.XPATH, value=xpath) instead\n",
      "  Price=driver.find_elements_by_xpath(\"//td[@class='column-9']\")\n"
     ]
    },
    {
     "data": {
      "text/html": [
       "<div>\n",
       "<style scoped>\n",
       "    .dataframe tbody tr th:only-of-type {\n",
       "        vertical-align: middle;\n",
       "    }\n",
       "\n",
       "    .dataframe tbody tr th {\n",
       "        vertical-align: top;\n",
       "    }\n",
       "\n",
       "    .dataframe thead th {\n",
       "        text-align: right;\n",
       "    }\n",
       "</style>\n",
       "<table border=\"1\" class=\"dataframe\">\n",
       "  <thead>\n",
       "    <tr style=\"text-align: right;\">\n",
       "      <th></th>\n",
       "      <th>Company</th>\n",
       "      <th>Industry</th>\n",
       "      <th>Investor_Name</th>\n",
       "      <th>Amount Invested</th>\n",
       "      <th>Specification</th>\n",
       "      <th>Dates</th>\n",
       "    </tr>\n",
       "  </thead>\n",
       "  <tbody>\n",
       "    <tr>\n",
       "      <th>0</th>\n",
       "      <td>BYJU’S</td>\n",
       "      <td>Edu-tech</td>\n",
       "      <td>Innoven Capital</td>\n",
       "      <td>460,000,000</td>\n",
       "      <td>Series F</td>\n",
       "      <td>01/04/2021</td>\n",
       "    </tr>\n",
       "    <tr>\n",
       "      <th>1</th>\n",
       "      <td>Meesho</td>\n",
       "      <td>E-commerce</td>\n",
       "      <td>SoftBank Vision Fund 2</td>\n",
       "      <td>300,000,000</td>\n",
       "      <td>Series E</td>\n",
       "      <td>05/04/2021</td>\n",
       "    </tr>\n",
       "    <tr>\n",
       "      <th>2</th>\n",
       "      <td>Swiggy</td>\n",
       "      <td>Online Food Delivery</td>\n",
       "      <td>Amansa Holdings, Carmignac, Falcon Edge Capita...</td>\n",
       "      <td>343,000,000</td>\n",
       "      <td>Series J</td>\n",
       "      <td>14/04/2021</td>\n",
       "    </tr>\n",
       "    <tr>\n",
       "      <th>3</th>\n",
       "      <td>Groww</td>\n",
       "      <td>FinTech</td>\n",
       "      <td>MC Global Edtech, B Capital, Baron, others</td>\n",
       "      <td>83,000,000</td>\n",
       "      <td>Series D</td>\n",
       "      <td>07/04/2021</td>\n",
       "    </tr>\n",
       "    <tr>\n",
       "      <th>4</th>\n",
       "      <td>Beldara</td>\n",
       "      <td>E-commerce</td>\n",
       "      <td>Hindustan Media Ventures</td>\n",
       "      <td>7,400,000</td>\n",
       "      <td>Venture</td>\n",
       "      <td>14/04/2021</td>\n",
       "    </tr>\n",
       "    <tr>\n",
       "      <th>5</th>\n",
       "      <td>DealShare</td>\n",
       "      <td>E-commerce</td>\n",
       "      <td>Innoven Capital</td>\n",
       "      <td>250,000,000</td>\n",
       "      <td>Debt Financing</td>\n",
       "      <td>04/03/2021</td>\n",
       "    </tr>\n",
       "    <tr>\n",
       "      <th>6</th>\n",
       "      <td>Uniphore</td>\n",
       "      <td>Technology</td>\n",
       "      <td>Sorenson Capital Partners</td>\n",
       "      <td>140,000,000</td>\n",
       "      <td>Series D</td>\n",
       "      <td>31/03/2021</td>\n",
       "    </tr>\n",
       "    <tr>\n",
       "      <th>7</th>\n",
       "      <td>Dunzo</td>\n",
       "      <td>E-commerce</td>\n",
       "      <td>Krishtal Advisors Pte Ltd</td>\n",
       "      <td>8,000,000</td>\n",
       "      <td>Series E</td>\n",
       "      <td>30/03/2021</td>\n",
       "    </tr>\n",
       "    <tr>\n",
       "      <th>8</th>\n",
       "      <td>BYJU’S</td>\n",
       "      <td>Edu-tech</td>\n",
       "      <td>MC Global Edtech, B Capital, Baron, others</td>\n",
       "      <td>460,000,000</td>\n",
       "      <td>Series F</td>\n",
       "      <td>30/03/2021</td>\n",
       "    </tr>\n",
       "    <tr>\n",
       "      <th>9</th>\n",
       "      <td>SkilloVilla</td>\n",
       "      <td>Edu-tech</td>\n",
       "      <td>Titan Capital, others</td>\n",
       "      <td>300,000,000</td>\n",
       "      <td>Seed</td>\n",
       "      <td>23/03/2021</td>\n",
       "    </tr>\n",
       "    <tr>\n",
       "      <th>10</th>\n",
       "      <td>CityMall</td>\n",
       "      <td>E-commerce</td>\n",
       "      <td>Accel Partners</td>\n",
       "      <td>11,000,000</td>\n",
       "      <td>Series A</td>\n",
       "      <td>25/03/2021</td>\n",
       "    </tr>\n",
       "    <tr>\n",
       "      <th>11</th>\n",
       "      <td>DotPe</td>\n",
       "      <td>FinTech</td>\n",
       "      <td>PayU</td>\n",
       "      <td>27,500,000</td>\n",
       "      <td>Series A</td>\n",
       "      <td>26/03/2021</td>\n",
       "    </tr>\n",
       "    <tr>\n",
       "      <th>12</th>\n",
       "      <td>Doubtnut</td>\n",
       "      <td>Edu Tech</td>\n",
       "      <td>SIG Global, Sequoia Capital, WaterBridge Ventu...</td>\n",
       "      <td>2,500,000</td>\n",
       "      <td>Series B</td>\n",
       "      <td>11/02/2021</td>\n",
       "    </tr>\n",
       "    <tr>\n",
       "      <th>13</th>\n",
       "      <td>Zomato</td>\n",
       "      <td>Hospitality</td>\n",
       "      <td>Tiger Global, Kora</td>\n",
       "      <td>250,000,000</td>\n",
       "      <td>Venture</td>\n",
       "      <td>22/02/2021</td>\n",
       "    </tr>\n",
       "    <tr>\n",
       "      <th>14</th>\n",
       "      <td>Fingerlix</td>\n",
       "      <td>Hospitality</td>\n",
       "      <td>Rhodium Trust, Accel Partners and Swiggy</td>\n",
       "      <td>2,747,045.20</td>\n",
       "      <td>Series C</td>\n",
       "      <td>19/02/2021</td>\n",
       "    </tr>\n",
       "    <tr>\n",
       "      <th>15</th>\n",
       "      <td>Zolve</td>\n",
       "      <td>FinTech</td>\n",
       "      <td>Accel Partners and Lightspeed Venture Partners</td>\n",
       "      <td>1,50,00,000</td>\n",
       "      <td>Seed</td>\n",
       "      <td>17/02/2021</td>\n",
       "    </tr>\n",
       "    <tr>\n",
       "      <th>16</th>\n",
       "      <td>KreditBee</td>\n",
       "      <td>Finance</td>\n",
       "      <td>Azim Premji’s PremjiInvest and South Korea’s M...</td>\n",
       "      <td>75,000,000</td>\n",
       "      <td>Series C</td>\n",
       "      <td>15/02/2021</td>\n",
       "    </tr>\n",
       "    <tr>\n",
       "      <th>17</th>\n",
       "      <td>Pepperfry</td>\n",
       "      <td>E-commerce</td>\n",
       "      <td>InnoVen Capital</td>\n",
       "      <td>4,773,958</td>\n",
       "      <td>Debt Financing</td>\n",
       "      <td>12/02/2021</td>\n",
       "    </tr>\n",
       "    <tr>\n",
       "      <th>18</th>\n",
       "      <td>Grofers</td>\n",
       "      <td>E-Commerce</td>\n",
       "      <td>SoftBank Vision Fund (SVF)</td>\n",
       "      <td>55,000,000</td>\n",
       "      <td>Unspecified</td>\n",
       "      <td>12/02/2021</td>\n",
       "    </tr>\n",
       "    <tr>\n",
       "      <th>19</th>\n",
       "      <td>Nothing</td>\n",
       "      <td>Technology</td>\n",
       "      <td>GV</td>\n",
       "      <td>15,000,000</td>\n",
       "      <td>Series A</td>\n",
       "      <td>09/02/2021</td>\n",
       "    </tr>\n",
       "    <tr>\n",
       "      <th>20</th>\n",
       "      <td>SplashLearn</td>\n",
       "      <td>EdTech</td>\n",
       "      <td>Owl Ventures</td>\n",
       "      <td>18,000,000</td>\n",
       "      <td>Series C</td>\n",
       "      <td>09/02/2021</td>\n",
       "    </tr>\n",
       "  </tbody>\n",
       "</table>\n",
       "</div>"
      ],
      "text/plain": [
       "        Company              Industry  \\\n",
       "0        BYJU’S              Edu-tech   \n",
       "1        Meesho            E-commerce   \n",
       "2        Swiggy  Online Food Delivery   \n",
       "3         Groww               FinTech   \n",
       "4       Beldara            E-commerce   \n",
       "5     DealShare            E-commerce   \n",
       "6      Uniphore            Technology   \n",
       "7         Dunzo            E-commerce   \n",
       "8        BYJU’S              Edu-tech   \n",
       "9   SkilloVilla              Edu-tech   \n",
       "10     CityMall            E-commerce   \n",
       "11        DotPe               FinTech   \n",
       "12     Doubtnut              Edu Tech   \n",
       "13       Zomato           Hospitality   \n",
       "14    Fingerlix           Hospitality   \n",
       "15        Zolve               FinTech   \n",
       "16    KreditBee               Finance   \n",
       "17    Pepperfry            E-commerce   \n",
       "18      Grofers            E-Commerce   \n",
       "19      Nothing            Technology   \n",
       "20  SplashLearn                EdTech   \n",
       "\n",
       "                                        Investor_Name Amount Invested  \\\n",
       "0                                     Innoven Capital     460,000,000   \n",
       "1                              SoftBank Vision Fund 2     300,000,000   \n",
       "2   Amansa Holdings, Carmignac, Falcon Edge Capita...     343,000,000   \n",
       "3          MC Global Edtech, B Capital, Baron, others      83,000,000   \n",
       "4                            Hindustan Media Ventures       7,400,000   \n",
       "5                                     Innoven Capital     250,000,000   \n",
       "6                           Sorenson Capital Partners     140,000,000   \n",
       "7                           Krishtal Advisors Pte Ltd       8,000,000   \n",
       "8          MC Global Edtech, B Capital, Baron, others     460,000,000   \n",
       "9                               Titan Capital, others     300,000,000   \n",
       "10                                     Accel Partners      11,000,000   \n",
       "11                                               PayU      27,500,000   \n",
       "12  SIG Global, Sequoia Capital, WaterBridge Ventu...       2,500,000   \n",
       "13                                 Tiger Global, Kora     250,000,000   \n",
       "14           Rhodium Trust, Accel Partners and Swiggy    2,747,045.20   \n",
       "15     Accel Partners and Lightspeed Venture Partners     1,50,00,000   \n",
       "16  Azim Premji’s PremjiInvest and South Korea’s M...      75,000,000   \n",
       "17                                    InnoVen Capital       4,773,958   \n",
       "18                         SoftBank Vision Fund (SVF)      55,000,000   \n",
       "19                                                 GV      15,000,000   \n",
       "20                                       Owl Ventures      18,000,000   \n",
       "\n",
       "     Specification       Dates  \n",
       "0         Series F  01/04/2021  \n",
       "1         Series E  05/04/2021  \n",
       "2         Series J  14/04/2021  \n",
       "3         Series D  07/04/2021  \n",
       "4          Venture  14/04/2021  \n",
       "5   Debt Financing  04/03/2021  \n",
       "6         Series D  31/03/2021  \n",
       "7         Series E  30/03/2021  \n",
       "8         Series F  30/03/2021  \n",
       "9             Seed  23/03/2021  \n",
       "10        Series A  25/03/2021  \n",
       "11        Series A  26/03/2021  \n",
       "12        Series B  11/02/2021  \n",
       "13         Venture  22/02/2021  \n",
       "14        Series C  19/02/2021  \n",
       "15            Seed  17/02/2021  \n",
       "16        Series C  15/02/2021  \n",
       "17  Debt Financing  12/02/2021  \n",
       "18     Unspecified  12/02/2021  \n",
       "19        Series A  09/02/2021  \n",
       "20        Series C  09/02/2021  "
      ]
     },
     "execution_count": 110,
     "metadata": {},
     "output_type": "execute_result"
    }
   ],
   "source": [
    "#scraping the company name \n",
    "time.sleep(10)\n",
    "companies=driver.find_elements_by_xpath(\"//td[@class='column-3']\")\n",
    "for i in companies:\n",
    "    if len(company)>20:\n",
    "            break\n",
    "    else:\n",
    "        if i.text is None :\n",
    "            company.append(\"--\") \n",
    "        else:\n",
    "            company.append(i.text)\n",
    "    \n",
    "        \n",
    "\n",
    "#scraping the Industry \n",
    "Ind=driver.find_elements_by_xpath(\"//td[@class='column-4']\")\n",
    "for i in Ind:\n",
    "    if len(Industry)>20:\n",
    "        break\n",
    "    else :\n",
    "        if i.text is None :\n",
    "            Industry.append(\"--\") \n",
    "        else:\n",
    "            Industry.append(i.text)\n",
    "\n",
    "#scraping the Dates \n",
    "dt=driver.find_elements_by_xpath(\"//td[@class='column-2']\")\n",
    "for i in dt:\n",
    "    if len(Dates)>20 :\n",
    "        break\n",
    "    else:\n",
    "        if i.text is None :\n",
    "            Dates.append(\"--\") \n",
    "        else:\n",
    "            Dates.append(i.text)\n",
    "\n",
    "#scraping the Investor_Name \n",
    "IN=driver.find_elements_by_xpath(\"//td[@class='column-7']\")\n",
    "for i in IN:\n",
    "    if len(Investor_Name) >20:\n",
    "        break\n",
    "    else:\n",
    "        if i.text is None :\n",
    "            Investor_Name.append(\"--\")\n",
    "        else:\n",
    "            Investor_Name.append(i.text)\n",
    "\n",
    "#scraping the Investment_Type \n",
    "IT=driver.find_elements_by_xpath(\"//td[@class='column-8']\")\n",
    "for i in IT:\n",
    "    if len(Investment_Type)>20:\n",
    "        break\n",
    "    else:\n",
    "        if i.text is None :\n",
    "            Investment_Type.append(\"--\") \n",
    "        else:\n",
    "            Investment_Type.append(i.text)\n",
    "\n",
    "#scraping the Amount \n",
    "Price=driver.find_elements_by_xpath(\"//td[@class='column-9']\")\n",
    "for i in Price:\n",
    "    if len(Amount)>20:\n",
    "        break\n",
    "    else:\n",
    "        if i.text is None :\n",
    "            Amount.append(\"--\") \n",
    "        else:\n",
    "            Amount.append(i.text)\n",
    "            \n",
    "df=pd.DataFrame([])\n",
    "df['Company']=company\n",
    "df['Industry']=Industry\n",
    "df['Investor_Name']=Investor_Name\n",
    "df['Amount Invested']=Amount\n",
    "df['Specification']=Investment_Type\n",
    "df['Dates']=Dates\n",
    "df"
   ]
  },
  {
   "cell_type": "markdown",
   "id": "cd8c80eb",
   "metadata": {},
   "source": [
    "# 7."
   ]
  },
  {
   "cell_type": "code",
   "execution_count": 98,
   "id": "fb16bc90",
   "metadata": {},
   "outputs": [],
   "source": [
    "#import all the required libraries\n",
    "import pandas as pd\n",
    "import selenium\n",
    "from selenium import webdriver\n",
    "from selenium.common.exceptions import StaleElementReferenceException, NoSuchElementException"
   ]
  },
  {
   "cell_type": "code",
   "execution_count": 100,
   "id": "66fc2d24",
   "metadata": {},
   "outputs": [
    {
     "name": "stderr",
     "output_type": "stream",
     "text": [
      "C:\\Users\\admin\\AppData\\Local\\Temp/ipykernel_7884/2182556634.py:4: DeprecationWarning: executable_path has been deprecated, please pass in a Service object\n",
      "  browser =  webdriver.Chrome(r\"C:\\chrome driver\\chromedriver.exe\")\n"
     ]
    }
   ],
   "source": [
    "import requests\n",
    "from selenium import webdriver\n",
    "\n",
    "browser =  webdriver.Chrome(r\"C:\\chrome driver\\chromedriver.exe\")\n",
    "\n",
    "browser.get(\"https://www.digit.in/\")\n",
    "from bs4 import BeautifulSoup\n",
    "browser.maximize_window()"
   ]
  },
  {
   "cell_type": "code",
   "execution_count": 104,
   "id": "5a245b79",
   "metadata": {},
   "outputs": [
    {
     "name": "stderr",
     "output_type": "stream",
     "text": [
      "C:\\Users\\admin\\AppData\\Local\\Temp/ipykernel_7884/511890256.py:2: DeprecationWarning: find_elements_by_xpath is deprecated. Please use find_elements(by=By.XPATH, value=xpath) instead\n",
      "  title_tags = browser.find_elements_by_xpath(\"//div[@class='TopNumbeHeading active sticky-footer']\")\n"
     ]
    },
    {
     "data": {
      "text/plain": [
       "[]"
      ]
     },
     "execution_count": 104,
     "metadata": {},
     "output_type": "execute_result"
    }
   ],
   "source": [
    "browser.maximize_window()\n",
    "title_tags = browser.find_elements_by_xpath(\"//div[@class='TopNumbeHeading active sticky-footer']\")\n",
    "title_tags"
   ]
  },
  {
   "cell_type": "code",
   "execution_count": 105,
   "id": "e9c146f0",
   "metadata": {},
   "outputs": [],
   "source": [
    "titles=[]\n",
    "for i in title_tags:\n",
    "    title=i.text\n",
    "    titles.append(title)"
   ]
  },
  {
   "cell_type": "code",
   "execution_count": 106,
   "id": "fb401b40",
   "metadata": {},
   "outputs": [
    {
     "data": {
      "text/plain": [
       "[]"
      ]
     },
     "execution_count": 106,
     "metadata": {},
     "output_type": "execute_result"
    }
   ],
   "source": [
    "titles"
   ]
  },
  {
   "cell_type": "code",
   "execution_count": 107,
   "id": "17038d7e",
   "metadata": {},
   "outputs": [
    {
     "name": "stderr",
     "output_type": "stream",
     "text": [
      "C:\\Users\\admin\\AppData\\Local\\Temp/ipykernel_7884/1583273389.py:1: DeprecationWarning: find_elements_by_xpath is deprecated. Please use find_elements(by=By.XPATH, value=xpath) instead\n",
      "  windows_tags = browser.find_elements_by_xpath(\"//div[@class='product-detail']\")\n"
     ]
    },
    {
     "data": {
      "text/plain": [
       "[]"
      ]
     },
     "execution_count": 107,
     "metadata": {},
     "output_type": "execute_result"
    }
   ],
   "source": [
    "windows_tags = browser.find_elements_by_xpath(\"//div[@class='product-detail']\")\n",
    "windows_tags"
   ]
  },
  {
   "cell_type": "code",
   "execution_count": null,
   "id": "ecff8aee",
   "metadata": {},
   "outputs": [],
   "source": []
  },
  {
   "cell_type": "markdown",
   "id": "cea41343",
   "metadata": {},
   "source": [
    "# 8."
   ]
  },
  {
   "cell_type": "code",
   "execution_count": 49,
   "id": "aefb040f",
   "metadata": {},
   "outputs": [],
   "source": [
    "import selenium # importing selenium\n",
    "from selenium import webdriver#importing webdriver\n",
    "from selenium.common.exceptions import StaleElementReferenceException, NoSuchElementException #importing exception \n",
    "from selenium.webdriver.common.keys import Keys"
   ]
  },
  {
   "cell_type": "code",
   "execution_count": 50,
   "id": "89e70722",
   "metadata": {},
   "outputs": [
    {
     "name": "stderr",
     "output_type": "stream",
     "text": [
      "C:\\Users\\admin\\AppData\\Local\\Temp/ipykernel_7884/2637484649.py:1: DeprecationWarning: executable_path has been deprecated, please pass in a Service object\n",
      "  browser =   webdriver.Chrome(r\"C:\\chrome driver\\chromedriver.exe\")\n"
     ]
    }
   ],
   "source": [
    "browser =   webdriver.Chrome(r\"C:\\chrome driver\\chromedriver.exe\")\n",
    "browser.get(\"https://www.forbes.com/real-time-billionaires/#6f1445f93d78\")"
   ]
  },
  {
   "cell_type": "code",
   "execution_count": 51,
   "id": "90f681ed",
   "metadata": {},
   "outputs": [
    {
     "name": "stderr",
     "output_type": "stream",
     "text": [
      "C:\\Users\\admin\\AppData\\Local\\Temp/ipykernel_7884/3766417009.py:1: DeprecationWarning: find_elements_by_xpath is deprecated. Please use find_elements(by=By.XPATH, value=xpath) instead\n",
      "  Rank = browser.find_elements_by_xpath(\"//td[@class='rank']\")\n"
     ]
    },
    {
     "data": {
      "text/plain": [
       "25"
      ]
     },
     "execution_count": 51,
     "metadata": {},
     "output_type": "execute_result"
    }
   ],
   "source": [
    "Rank = browser.find_elements_by_xpath(\"//td[@class='rank']\")\n",
    "len(Rank)"
   ]
  },
  {
   "cell_type": "code",
   "execution_count": 52,
   "id": "98dcee9f",
   "metadata": {},
   "outputs": [],
   "source": [
    "Ranks = []\n",
    "for i in Rank:\n",
    "    Ranks.append(i.text)"
   ]
  },
  {
   "cell_type": "code",
   "execution_count": 53,
   "id": "9b892343",
   "metadata": {},
   "outputs": [
    {
     "name": "stderr",
     "output_type": "stream",
     "text": [
      "C:\\Users\\admin\\AppData\\Local\\Temp/ipykernel_7884/385104831.py:1: DeprecationWarning: find_elements_by_xpath is deprecated. Please use find_elements(by=By.XPATH, value=xpath) instead\n",
      "  Name = browser.find_elements_by_xpath(\"//td[@class='name']\")\n"
     ]
    },
    {
     "data": {
      "text/plain": [
       "25"
      ]
     },
     "execution_count": 53,
     "metadata": {},
     "output_type": "execute_result"
    }
   ],
   "source": [
    "Name = browser.find_elements_by_xpath(\"//td[@class='name']\")\n",
    "len(Name)"
   ]
  },
  {
   "cell_type": "code",
   "execution_count": 54,
   "id": "0fda5482",
   "metadata": {},
   "outputs": [],
   "source": [
    "Names = []\n",
    "for i in Name:\n",
    "    Names.append(i.text)"
   ]
  },
  {
   "cell_type": "code",
   "execution_count": 55,
   "id": "c3a20f19",
   "metadata": {},
   "outputs": [
    {
     "name": "stderr",
     "output_type": "stream",
     "text": [
      "C:\\Users\\admin\\AppData\\Local\\Temp/ipykernel_7884/529514776.py:1: DeprecationWarning: find_elements_by_xpath is deprecated. Please use find_elements(by=By.XPATH, value=xpath) instead\n",
      "  worth = browser.find_elements_by_xpath(\"//td[@class='Net Worth']\")\n"
     ]
    },
    {
     "data": {
      "text/plain": [
       "25"
      ]
     },
     "execution_count": 55,
     "metadata": {},
     "output_type": "execute_result"
    }
   ],
   "source": [
    "worth = browser.find_elements_by_xpath(\"//td[@class='Net Worth']\")\n",
    "len(worth)"
   ]
  },
  {
   "cell_type": "code",
   "execution_count": 56,
   "id": "77019309",
   "metadata": {},
   "outputs": [],
   "source": [
    "Net_worth = []\n",
    "for i in worth:\n",
    "    Net_worth.append(i.text)"
   ]
  },
  {
   "cell_type": "code",
   "execution_count": 57,
   "id": "9b5b73f7",
   "metadata": {},
   "outputs": [
    {
     "name": "stderr",
     "output_type": "stream",
     "text": [
      "C:\\Users\\admin\\AppData\\Local\\Temp/ipykernel_7884/2090510461.py:1: DeprecationWarning: find_elements_by_xpath is deprecated. Please use find_elements(by=By.XPATH, value=xpath) instead\n",
      "  Age = browser.find_elements_by_xpath(\"//td[@class='age']\")\n"
     ]
    },
    {
     "data": {
      "text/plain": [
       "25"
      ]
     },
     "execution_count": 57,
     "metadata": {},
     "output_type": "execute_result"
    }
   ],
   "source": [
    "Age = browser.find_elements_by_xpath(\"//td[@class='age']\")\n",
    "len(Age)"
   ]
  },
  {
   "cell_type": "code",
   "execution_count": 58,
   "id": "6c8b24d0",
   "metadata": {},
   "outputs": [],
   "source": [
    "Age_of_Billionaire = []\n",
    "for i in Age:\n",
    "    Age_of_Billionaire.append(i.text)"
   ]
  },
  {
   "cell_type": "code",
   "execution_count": 59,
   "id": "b139d6d3",
   "metadata": {},
   "outputs": [
    {
     "name": "stderr",
     "output_type": "stream",
     "text": [
      "C:\\Users\\admin\\AppData\\Local\\Temp/ipykernel_7884/904839572.py:1: DeprecationWarning: find_elements_by_xpath is deprecated. Please use find_elements(by=By.XPATH, value=xpath) instead\n",
      "  Source = browser.find_elements_by_xpath(\"//td[@class='source']\")\n"
     ]
    },
    {
     "data": {
      "text/plain": [
       "25"
      ]
     },
     "execution_count": 59,
     "metadata": {},
     "output_type": "execute_result"
    }
   ],
   "source": [
    "Source = browser.find_elements_by_xpath(\"//td[@class='source']\")\n",
    "len(Source)"
   ]
  },
  {
   "cell_type": "code",
   "execution_count": 60,
   "id": "af36658e",
   "metadata": {},
   "outputs": [],
   "source": [
    "Source_of_Billionaire = []\n",
    "for i in Source:\n",
    "    Source_of_Billionaire.append(i.text)"
   ]
  },
  {
   "cell_type": "code",
   "execution_count": 61,
   "id": "b1fcbc1e",
   "metadata": {},
   "outputs": [
    {
     "name": "stderr",
     "output_type": "stream",
     "text": [
      "C:\\Users\\admin\\AppData\\Local\\Temp/ipykernel_7884/4154269124.py:1: DeprecationWarning: find_elements_by_xpath is deprecated. Please use find_elements(by=By.XPATH, value=xpath) instead\n",
      "  Country = browser.find_elements_by_xpath(\"//td[@class='Country/Territory']\")\n"
     ]
    },
    {
     "data": {
      "text/plain": [
       "25"
      ]
     },
     "execution_count": 61,
     "metadata": {},
     "output_type": "execute_result"
    }
   ],
   "source": [
    "Country = browser.find_elements_by_xpath(\"//td[@class='Country/Territory']\")\n",
    "len(Country)"
   ]
  },
  {
   "cell_type": "code",
   "execution_count": 62,
   "id": "7832f60b",
   "metadata": {},
   "outputs": [],
   "source": [
    "Country_of_Billionaire = []\n",
    "for i in Country:\n",
    "    Country_of_Billionaire.append(i.text)"
   ]
  },
  {
   "cell_type": "code",
   "execution_count": 63,
   "id": "5da9479c",
   "metadata": {},
   "outputs": [],
   "source": [
    "import pandas as pd\n",
    "Billionare=pd.DataFrame({})\n",
    "Billionare['Rank']= Ranks\n",
    "Billionare['Name']= Names\n",
    "Billionare['Networth']= Net_worth\n",
    "Billionare['Age']= Age_of_Billionaire\n",
    "Billionare['Source']= Source_of_Billionaire\n",
    "Billionare['Country']= Country_of_Billionaire"
   ]
  },
  {
   "cell_type": "code",
   "execution_count": 64,
   "id": "33bd4c04",
   "metadata": {},
   "outputs": [
    {
     "data": {
      "text/html": [
       "<div>\n",
       "<style scoped>\n",
       "    .dataframe tbody tr th:only-of-type {\n",
       "        vertical-align: middle;\n",
       "    }\n",
       "\n",
       "    .dataframe tbody tr th {\n",
       "        vertical-align: top;\n",
       "    }\n",
       "\n",
       "    .dataframe thead th {\n",
       "        text-align: right;\n",
       "    }\n",
       "</style>\n",
       "<table border=\"1\" class=\"dataframe\">\n",
       "  <thead>\n",
       "    <tr style=\"text-align: right;\">\n",
       "      <th></th>\n",
       "      <th>Rank</th>\n",
       "      <th>Name</th>\n",
       "      <th>Networth</th>\n",
       "      <th>Age</th>\n",
       "      <th>Source</th>\n",
       "      <th>Country</th>\n",
       "    </tr>\n",
       "  </thead>\n",
       "  <tbody>\n",
       "    <tr>\n",
       "      <th>0</th>\n",
       "      <td>1</td>\n",
       "      <td>Elon Musk</td>\n",
       "      <td>$230.1 B</td>\n",
       "      <td>50</td>\n",
       "      <td>Tesla, SpaceX</td>\n",
       "      <td>United States</td>\n",
       "    </tr>\n",
       "    <tr>\n",
       "      <th>1</th>\n",
       "      <td>2</td>\n",
       "      <td>Bernard Arnault &amp; family</td>\n",
       "      <td>$153.8 B</td>\n",
       "      <td>73</td>\n",
       "      <td>LVMH</td>\n",
       "      <td>France</td>\n",
       "    </tr>\n",
       "    <tr>\n",
       "      <th>2</th>\n",
       "      <td>3</td>\n",
       "      <td>Jeff Bezos</td>\n",
       "      <td>$140.8 B</td>\n",
       "      <td>58</td>\n",
       "      <td>Amazon</td>\n",
       "      <td>United States</td>\n",
       "    </tr>\n",
       "    <tr>\n",
       "      <th>3</th>\n",
       "      <td>4</td>\n",
       "      <td>Bill Gates</td>\n",
       "      <td>$128.5 B</td>\n",
       "      <td>66</td>\n",
       "      <td>Microsoft</td>\n",
       "      <td>United States</td>\n",
       "    </tr>\n",
       "    <tr>\n",
       "      <th>4</th>\n",
       "      <td>5</td>\n",
       "      <td>Warren Buffett</td>\n",
       "      <td>$115.3 B</td>\n",
       "      <td>91</td>\n",
       "      <td>Berkshire Hathaway</td>\n",
       "      <td>United States</td>\n",
       "    </tr>\n",
       "  </tbody>\n",
       "</table>\n",
       "</div>"
      ],
      "text/plain": [
       "  Rank                      Name  Networth Age              Source  \\\n",
       "0    1                 Elon Musk  $230.1 B  50       Tesla, SpaceX   \n",
       "1    2  Bernard Arnault & family  $153.8 B  73                LVMH   \n",
       "2    3                Jeff Bezos  $140.8 B  58              Amazon   \n",
       "3    4                Bill Gates  $128.5 B  66           Microsoft   \n",
       "4    5            Warren Buffett  $115.3 B  91  Berkshire Hathaway   \n",
       "\n",
       "         Country  \n",
       "0  United States  \n",
       "1         France  \n",
       "2  United States  \n",
       "3  United States  \n",
       "4  United States  "
      ]
     },
     "execution_count": 64,
     "metadata": {},
     "output_type": "execute_result"
    }
   ],
   "source": [
    "Billionare.head()"
   ]
  },
  {
   "cell_type": "markdown",
   "id": "77bfaa53",
   "metadata": {},
   "source": [
    "# 9."
   ]
  },
  {
   "cell_type": "code",
   "execution_count": 65,
   "id": "d29b0131",
   "metadata": {},
   "outputs": [],
   "source": [
    "import selenium # importing selenium\n",
    "from selenium import webdriver#importing webdriver\n",
    "from selenium.common.exceptions import StaleElementReferenceException, NoSuchElementException #importing exception \n",
    "import time"
   ]
  },
  {
   "cell_type": "code",
   "execution_count": 66,
   "id": "6c5199bf",
   "metadata": {},
   "outputs": [],
   "source": [
    "browser = browser\n",
    "browser.get(\"https://www.youtube.com/watch?v=YfO28Ihehbk\")\n",
    "browser.maximize_window()\n",
    "browser.execute_script(\"window.scrollBy(0,10000)\" \"\")"
   ]
  },
  {
   "cell_type": "code",
   "execution_count": 71,
   "id": "df32014d",
   "metadata": {},
   "outputs": [],
   "source": [
    "browser.execute_script(\"window.scrollBy(0,10000)\" \"\")"
   ]
  },
  {
   "cell_type": "code",
   "execution_count": 68,
   "id": "d2286ccc",
   "metadata": {},
   "outputs": [],
   "source": [
    "for i in range(200):\n",
    "    browser.execute_script(\"window.scrollBy(0,10000)\" \"\")\n",
    "    "
   ]
  },
  {
   "cell_type": "code",
   "execution_count": 69,
   "id": "b9c12960",
   "metadata": {},
   "outputs": [
    {
     "name": "stderr",
     "output_type": "stream",
     "text": [
      "C:\\Users\\admin\\AppData\\Local\\Temp/ipykernel_7884/768285242.py:1: DeprecationWarning: find_elements_by_id is deprecated. Please use find_elements(by=By.ID, value=id_) instead\n",
      "  Comment = browser.find_elements_by_id(\"content-text\")\n"
     ]
    },
    {
     "data": {
      "text/plain": [
       "0"
      ]
     },
     "execution_count": 69,
     "metadata": {},
     "output_type": "execute_result"
    }
   ],
   "source": [
    "Comment = browser.find_elements_by_id(\"content-text\")\n",
    "len(Comment)"
   ]
  },
  {
   "cell_type": "code",
   "execution_count": 72,
   "id": "337e434d",
   "metadata": {},
   "outputs": [],
   "source": [
    "Comments = []\n",
    "for i in Comment:\n",
    "    Comments.append(i.text)"
   ]
  },
  {
   "cell_type": "code",
   "execution_count": 73,
   "id": "38177e45",
   "metadata": {},
   "outputs": [
    {
     "name": "stderr",
     "output_type": "stream",
     "text": [
      "C:\\Users\\admin\\AppData\\Local\\Temp/ipykernel_7884/2581762703.py:1: DeprecationWarning: find_elements_by_id is deprecated. Please use find_elements(by=By.ID, value=id_) instead\n",
      "  upvote = browser.find_elements_by_id(\"vote-count-middle\")\n"
     ]
    },
    {
     "data": {
      "text/plain": [
       "0"
      ]
     },
     "execution_count": 73,
     "metadata": {},
     "output_type": "execute_result"
    }
   ],
   "source": [
    "upvote = browser.find_elements_by_id(\"vote-count-middle\")\n",
    "len(upvote)"
   ]
  },
  {
   "cell_type": "code",
   "execution_count": 74,
   "id": "141c82f2",
   "metadata": {},
   "outputs": [],
   "source": [
    "votes = []\n",
    "for i in upvote:\n",
    "    votes.append(i.text)"
   ]
  },
  {
   "cell_type": "code",
   "execution_count": 75,
   "id": "55faee8d",
   "metadata": {},
   "outputs": [
    {
     "name": "stderr",
     "output_type": "stream",
     "text": [
      "C:\\Users\\admin\\AppData\\Local\\Temp/ipykernel_7884/1615239700.py:1: DeprecationWarning: find_elements_by_xpath is deprecated. Please use find_elements(by=By.XPATH, value=xpath) instead\n",
      "  ago = browser.find_elements_by_xpath(\"//*[@id='header-author']/yt-formatted-string/a\")\n"
     ]
    },
    {
     "data": {
      "text/plain": [
       "0"
      ]
     },
     "execution_count": 75,
     "metadata": {},
     "output_type": "execute_result"
    }
   ],
   "source": [
    "ago = browser.find_elements_by_xpath(\"//*[@id='header-author']/yt-formatted-string/a\")\n",
    "len(ago)"
   ]
  },
  {
   "cell_type": "code",
   "execution_count": 76,
   "id": "1ff718b8",
   "metadata": {},
   "outputs": [],
   "source": [
    "time = []\n",
    "for i in ago:\n",
    "    time.append(i.text)"
   ]
  },
  {
   "cell_type": "code",
   "execution_count": 77,
   "id": "bb10da05",
   "metadata": {},
   "outputs": [],
   "source": [
    "import pandas as pd\n",
    "youtube=pd.DataFrame({})\n",
    "youtube['comments']= Comments\n",
    "youtube['upvote']= votes\n",
    "youtube['ago']= time"
   ]
  },
  {
   "cell_type": "markdown",
   "id": "cbfbe261",
   "metadata": {},
   "source": [
    "# 10."
   ]
  },
  {
   "cell_type": "code",
   "execution_count": 78,
   "id": "4fc02418",
   "metadata": {},
   "outputs": [],
   "source": [
    "import selenium # importing selenium\n",
    "from selenium import webdriver#importing webdriver\n",
    "from selenium.common.exceptions import StaleElementReferenceException, NoSuchElementException #importing exception \n",
    "import time"
   ]
  },
  {
   "cell_type": "code",
   "execution_count": 79,
   "id": "dab8dcc3",
   "metadata": {},
   "outputs": [],
   "source": [
    "browser = browser\n",
    "browser.get(\"https://www.hostelworld.com/s?q=London,%20England&country=England&city=London&type=city&id=3&from=2021-07-23&to=2021-07-26&guests=2&page=1\")\n",
    "browser.maximize_window()"
   ]
  },
  {
   "cell_type": "code",
   "execution_count": 80,
   "id": "5d11c723",
   "metadata": {},
   "outputs": [
    {
     "name": "stderr",
     "output_type": "stream",
     "text": [
      "C:\\Users\\admin\\AppData\\Local\\Temp/ipykernel_7884/3490709054.py:1: DeprecationWarning: find_elements_by_xpath is deprecated. Please use find_elements(by=By.XPATH, value=xpath) instead\n",
      "  name = browser.find_elements_by_xpath(\"//h2[@class='title title-6']/a\")\n"
     ]
    }
   ],
   "source": [
    "name = browser.find_elements_by_xpath(\"//h2[@class='title title-6']/a\")\n",
    "hotel_name = []\n",
    "for i in name:\n",
    "    hotel_name.append(i.text)\n",
    "\n",
    "        "
   ]
  },
  {
   "cell_type": "code",
   "execution_count": 81,
   "id": "f6888678",
   "metadata": {},
   "outputs": [
    {
     "name": "stderr",
     "output_type": "stream",
     "text": [
      "C:\\Users\\admin\\AppData\\Local\\Temp/ipykernel_7884/4001680735.py:1: DeprecationWarning: find_elements_by_class_name is deprecated. Please use find_elements(by=By.CLASS_NAME, value=name) instead\n",
      "  distance = browser.find_elements_by_class_name('description')\n"
     ]
    }
   ],
   "source": [
    "distance = browser.find_elements_by_class_name('description')"
   ]
  },
  {
   "cell_type": "code",
   "execution_count": 82,
   "id": "762d41bf",
   "metadata": {},
   "outputs": [],
   "source": [
    "distance_from_city = []"
   ]
  },
  {
   "cell_type": "code",
   "execution_count": 83,
   "id": "6d95382c",
   "metadata": {},
   "outputs": [],
   "source": [
    "for i in distance:\n",
    "    distance_from_city.append(i.text)"
   ]
  },
  {
   "cell_type": "code",
   "execution_count": 84,
   "id": "b7ab0f6c",
   "metadata": {},
   "outputs": [
    {
     "name": "stderr",
     "output_type": "stream",
     "text": [
      "C:\\Users\\admin\\AppData\\Local\\Temp/ipykernel_7884/3128996126.py:1: DeprecationWarning: find_elements_by_xpath is deprecated. Please use find_elements(by=By.XPATH, value=xpath) instead\n",
      "  rat = browser.find_elements_by_xpath(\"//div[@class='score orange big']\")\n"
     ]
    }
   ],
   "source": [
    "rat = browser.find_elements_by_xpath(\"//div[@class='score orange big']\")"
   ]
  },
  {
   "cell_type": "code",
   "execution_count": 85,
   "id": "9b3ae3e5",
   "metadata": {},
   "outputs": [],
   "source": [
    "ratings = []\n",
    "for i  in rat:\n",
    "    try:\n",
    "        ratings.append(i.text)\n",
    "    except NoSuchElementException as E:\n",
    "        ratings.append(\"__\")"
   ]
  },
  {
   "cell_type": "code",
   "execution_count": 86,
   "id": "7422b6cd",
   "metadata": {},
   "outputs": [
    {
     "name": "stderr",
     "output_type": "stream",
     "text": [
      "C:\\Users\\admin\\AppData\\Local\\Temp/ipykernel_7884/467626262.py:1: DeprecationWarning: find_elements_by_xpath is deprecated. Please use find_elements(by=By.XPATH, value=xpath) instead\n",
      "  total_rates = browser.find_elements_by_xpath(\"//div[@class='reviews']\")\n"
     ]
    }
   ],
   "source": [
    "total_rates = browser.find_elements_by_xpath(\"//div[@class='reviews']\")"
   ]
  },
  {
   "cell_type": "code",
   "execution_count": 87,
   "id": "1667d388",
   "metadata": {},
   "outputs": [],
   "source": [
    "total_rating =[]\n",
    "for i in total_rates:\n",
    "    total_rating.append(i.text)\n",
    "    "
   ]
  },
  {
   "cell_type": "code",
   "execution_count": 88,
   "id": "bec37f23",
   "metadata": {},
   "outputs": [
    {
     "name": "stderr",
     "output_type": "stream",
     "text": [
      "C:\\Users\\admin\\AppData\\Local\\Temp/ipykernel_7884/1404237611.py:1: DeprecationWarning: find_elements_by_xpath is deprecated. Please use find_elements(by=By.XPATH, value=xpath) instead\n",
      "  over_all = browser.find_elements_by_xpath(\"//div[@class='keyword']\")\n"
     ]
    }
   ],
   "source": [
    "over_all = browser.find_elements_by_xpath(\"//div[@class='keyword']\")"
   ]
  },
  {
   "cell_type": "code",
   "execution_count": 89,
   "id": "c5956dcd",
   "metadata": {},
   "outputs": [],
   "source": [
    "over_all_review =[]\n",
    "for i in over_all:\n",
    "    over_all_review.append(i.text)"
   ]
  },
  {
   "cell_type": "code",
   "execution_count": 90,
   "id": "96f57175",
   "metadata": {},
   "outputs": [
    {
     "name": "stderr",
     "output_type": "stream",
     "text": [
      "C:\\Users\\admin\\AppData\\Local\\Temp/ipykernel_7884/241475610.py:1: DeprecationWarning: find_elements_by_xpath is deprecated. Please use find_elements(by=By.XPATH, value=xpath) instead\n",
      "  pp =browser.find_elements_by_xpath(\"//div[@class='price title-5']\")\n"
     ]
    }
   ],
   "source": [
    "pp =browser.find_elements_by_xpath(\"//div[@class='price title-5']\")\n",
    "\n",
    "privates_price =[]\n",
    "for i in pp:\n",
    "    privates_price.append(i.text)\n",
    "    "
   ]
  },
  {
   "cell_type": "code",
   "execution_count": 91,
   "id": "97692666",
   "metadata": {},
   "outputs": [],
   "source": [
    "privates_price = privates_price[0::2]"
   ]
  },
  {
   "cell_type": "code",
   "execution_count": 92,
   "id": "b9d792a0",
   "metadata": {},
   "outputs": [
    {
     "name": "stderr",
     "output_type": "stream",
     "text": [
      "C:\\Users\\admin\\AppData\\Local\\Temp/ipykernel_7884/1189424218.py:1: DeprecationWarning: find_elements_by_xpath is deprecated. Please use find_elements(by=By.XPATH, value=xpath) instead\n",
      "  dp =browser.find_elements_by_xpath(\"//div[@class='price title-5']\")\n"
     ]
    }
   ],
   "source": [
    "dp =browser.find_elements_by_xpath(\"//div[@class='price title-5']\")\n",
    "\n",
    "dorms_price =[]\n",
    "for i in dp:\n",
    "    dorms_price.append(i.text)\n",
    "    "
   ]
  },
  {
   "cell_type": "code",
   "execution_count": 93,
   "id": "5906130f",
   "metadata": {},
   "outputs": [],
   "source": [
    "dorms_price = dorms_price[1::2]"
   ]
  },
  {
   "cell_type": "code",
   "execution_count": 94,
   "id": "3487541f",
   "metadata": {},
   "outputs": [
    {
     "name": "stderr",
     "output_type": "stream",
     "text": [
      "C:\\Users\\admin\\AppData\\Local\\Temp/ipykernel_7884/1886221690.py:1: DeprecationWarning: find_elements_by_xpath is deprecated. Please use find_elements(by=By.XPATH, value=xpath) instead\n",
      "  desc =browser.find_elements_by_xpath(\"//div[@class='rating-factors prop-card-tablet rating-factors small']\")\n"
     ]
    }
   ],
   "source": [
    "desc =browser.find_elements_by_xpath(\"//div[@class='rating-factors prop-card-tablet rating-factors small']\")\n",
    "\n",
    "description =[]\n",
    "for i in desc:\n",
    "    description.append(i.text)"
   ]
  },
  {
   "cell_type": "code",
   "execution_count": 95,
   "id": "f399eb2d",
   "metadata": {},
   "outputs": [
    {
     "name": "stderr",
     "output_type": "stream",
     "text": [
      "C:\\Users\\admin\\AppData\\Local\\Temp/ipykernel_7884/3207692928.py:1: DeprecationWarning: find_elements_by_xpath is deprecated. Please use find_elements(by=By.XPATH, value=xpath) instead\n",
      "  fasc =browser.find_elements_by_xpath(\"//div[@class='facilities-label facilities']\")\n"
     ]
    }
   ],
   "source": [
    "fasc =browser.find_elements_by_xpath(\"//div[@class='facilities-label facilities']\")\n",
    "\n",
    "facilities =[]\n",
    "for i in fasc:\n",
    "    facilities.append(i.text)"
   ]
  },
  {
   "cell_type": "code",
   "execution_count": 96,
   "id": "235e7197",
   "metadata": {},
   "outputs": [],
   "source": [
    "import pandas as pd\n",
    "hotel_details=pd.DataFrame({})\n",
    "hotel_details['Hostel_Name']= hotel_name[0:20]\n",
    "hotel_details['Type and Distance']= distance_from_city[0:20]\n",
    "hotel_details['Ratings']= ratings[0:20]\n",
    "hotel_details['Total_reviews']= total_rating[0:20]\n",
    "hotel_details['Overall_reviews']= over_all_review[0:20]\n",
    "hotel_details['Private Prices']= privates_price[0:20]\n",
    "hotel_details['Dorms Prices']= dorms_price[0:20]\n",
    "hotel_details['Description']= description[0:20]\n",
    "hotel_details['Facilities']= facilities[0:20]"
   ]
  },
  {
   "cell_type": "code",
   "execution_count": 97,
   "id": "9cd7ac2a",
   "metadata": {},
   "outputs": [
    {
     "data": {
      "text/html": [
       "<div>\n",
       "<style scoped>\n",
       "    .dataframe tbody tr th:only-of-type {\n",
       "        vertical-align: middle;\n",
       "    }\n",
       "\n",
       "    .dataframe tbody tr th {\n",
       "        vertical-align: top;\n",
       "    }\n",
       "\n",
       "    .dataframe thead th {\n",
       "        text-align: right;\n",
       "    }\n",
       "</style>\n",
       "<table border=\"1\" class=\"dataframe\">\n",
       "  <thead>\n",
       "    <tr style=\"text-align: right;\">\n",
       "      <th></th>\n",
       "      <th>Hostel_Name</th>\n",
       "      <th>Type and Distance</th>\n",
       "      <th>Ratings</th>\n",
       "      <th>Total_reviews</th>\n",
       "      <th>Overall_reviews</th>\n",
       "      <th>Private Prices</th>\n",
       "      <th>Dorms Prices</th>\n",
       "      <th>Description</th>\n",
       "      <th>Facilities</th>\n",
       "    </tr>\n",
       "  </thead>\n",
       "  <tbody>\n",
       "    <tr>\n",
       "      <th>0</th>\n",
       "      <td>St Christopher's Village</td>\n",
       "      <td>Hostel - 1.8km from city centre</td>\n",
       "      <td>7.9</td>\n",
       "      <td>11217 Total Reviews</td>\n",
       "      <td>Very Good</td>\n",
       "      <td>Rs9588.09 Rs8629</td>\n",
       "      <td>Rs1732.88 Rs1560</td>\n",
       "      <td>Perfect Location\\nSuperb Staff\\nExcellent Clea...</td>\n",
       "      <td>Free WiFi\\nFollows Covid-19 sanitation guidance</td>\n",
       "    </tr>\n",
       "    <tr>\n",
       "      <th>1</th>\n",
       "      <td>Selina Camden</td>\n",
       "      <td>Hostel - 5.5km from city centre</td>\n",
       "      <td>9.1</td>\n",
       "      <td>25 Total Reviews</td>\n",
       "      <td>Superb</td>\n",
       "      <td>Rs20729</td>\n",
       "      <td>Rs7773.42 Rs6607</td>\n",
       "      <td>Perfect Location\\nSuperb Staff\\nFantastic Clea...</td>\n",
       "      <td>Free WiFi</td>\n",
       "    </tr>\n",
       "    <tr>\n",
       "      <th>2</th>\n",
       "      <td>Generator London</td>\n",
       "      <td>Hostel - 3km from city centre</td>\n",
       "      <td>7.7</td>\n",
       "      <td>6949 Total Reviews</td>\n",
       "      <td>Very Good</td>\n",
       "      <td>Rs6095</td>\n",
       "      <td>Rs2313</td>\n",
       "      <td>Perfect Location\\nMarvellous Staff\\nAwesome Cl...</td>\n",
       "      <td>Free WiFi\\nFollows Covid-19 sanitation guidance</td>\n",
       "    </tr>\n",
       "    <tr>\n",
       "      <th>3</th>\n",
       "      <td>Urbany Hostel London</td>\n",
       "      <td>Hostel - 5.4km from city centre</td>\n",
       "      <td>9.3</td>\n",
       "      <td>313 Total Reviews</td>\n",
       "      <td>Superb</td>\n",
       "      <td>Rs12826</td>\n",
       "      <td>Rs2993</td>\n",
       "      <td>Perfect Location\\nSuperb Staff\\nFantastic Clea...</td>\n",
       "      <td>Free WiFi\\nFollows Covid-19 sanitation guidance</td>\n",
       "    </tr>\n",
       "    <tr>\n",
       "      <th>4</th>\n",
       "      <td>Astor Hyde Park</td>\n",
       "      <td>Hostel - 4.3km from city centre</td>\n",
       "      <td>8.5</td>\n",
       "      <td>11491 Total Reviews</td>\n",
       "      <td>Very Good</td>\n",
       "      <td>Rs2454</td>\n",
       "      <td>Rs5300</td>\n",
       "      <td>Perfect Location\\nSuperb Staff\\nExcellent Clea...</td>\n",
       "      <td>Free WiFi\\nFollows Covid-19 sanitation guidance</td>\n",
       "    </tr>\n",
       "    <tr>\n",
       "      <th>5</th>\n",
       "      <td>Safestay London Elephant &amp; Castle</td>\n",
       "      <td>Hostel - 1.7km from city centre</td>\n",
       "      <td>7.2</td>\n",
       "      <td>4254 Total Reviews</td>\n",
       "      <td>Superb</td>\n",
       "      <td>Rs1413</td>\n",
       "      <td>Rs8498</td>\n",
       "      <td>Wonderful Location\\nMarvellous Staff\\nAwesome ...</td>\n",
       "      <td>Free WiFi\\nFollows Covid-19 sanitation guidance</td>\n",
       "    </tr>\n",
       "    <tr>\n",
       "      <th>6</th>\n",
       "      <td>Smart Camden Inn Hostel</td>\n",
       "      <td>Hostel - 4.4km from city centre</td>\n",
       "      <td>8.5</td>\n",
       "      <td>2839 Total Reviews</td>\n",
       "      <td>Fabulous</td>\n",
       "      <td>Rs1988</td>\n",
       "      <td>Rs12133</td>\n",
       "      <td>Perfect Location\\nSuperb Staff\\nFantastic Clea...</td>\n",
       "      <td>Free WiFi\\nFollows Covid-19 sanitation guidance</td>\n",
       "    </tr>\n",
       "    <tr>\n",
       "      <th>7</th>\n",
       "      <td>Smart Russell Square Hostel</td>\n",
       "      <td>Hostel - 2.6km from city centre</td>\n",
       "      <td>7.3</td>\n",
       "      <td>9650 Total Reviews</td>\n",
       "      <td>Very Good</td>\n",
       "      <td>Rs1374</td>\n",
       "      <td>Rs5565</td>\n",
       "      <td>Perfect Location\\nMarvellous Staff\\nAwesome Cl...</td>\n",
       "      <td>Free WiFi\\nFollows Covid-19 sanitation guidance</td>\n",
       "    </tr>\n",
       "    <tr>\n",
       "      <th>8</th>\n",
       "      <td>London Backpackers</td>\n",
       "      <td>Hostel - 11.9km from city centre</td>\n",
       "      <td>8.1</td>\n",
       "      <td>4242 Total Reviews</td>\n",
       "      <td>Fabulous</td>\n",
       "      <td>Rs3003</td>\n",
       "      <td>Rs6920</td>\n",
       "      <td>Wonderful Location\\nSuperb Staff\\nExcellent Cl...</td>\n",
       "      <td>Free WiFi\\nFree Breakfast\\nFollows Covid-19 sa...</td>\n",
       "    </tr>\n",
       "    <tr>\n",
       "      <th>9</th>\n",
       "      <td>Barmy Badger Backpackers</td>\n",
       "      <td>Hostel - 5.5km from city centre</td>\n",
       "      <td>9.2</td>\n",
       "      <td>1738 Total Reviews</td>\n",
       "      <td>Very Good</td>\n",
       "      <td>Rs2552</td>\n",
       "      <td>Rs1502</td>\n",
       "      <td>Perfect Location\\nSuperb Staff\\nFantastic Clea...</td>\n",
       "      <td>Free WiFi\\nFree Breakfast</td>\n",
       "    </tr>\n",
       "  </tbody>\n",
       "</table>\n",
       "</div>"
      ],
      "text/plain": [
       "                         Hostel_Name                 Type and Distance  \\\n",
       "0           St Christopher's Village   Hostel - 1.8km from city centre   \n",
       "1                      Selina Camden   Hostel - 5.5km from city centre   \n",
       "2                   Generator London     Hostel - 3km from city centre   \n",
       "3               Urbany Hostel London   Hostel - 5.4km from city centre   \n",
       "4                    Astor Hyde Park   Hostel - 4.3km from city centre   \n",
       "5  Safestay London Elephant & Castle   Hostel - 1.7km from city centre   \n",
       "6            Smart Camden Inn Hostel   Hostel - 4.4km from city centre   \n",
       "7        Smart Russell Square Hostel   Hostel - 2.6km from city centre   \n",
       "8                 London Backpackers  Hostel - 11.9km from city centre   \n",
       "9           Barmy Badger Backpackers   Hostel - 5.5km from city centre   \n",
       "\n",
       "  Ratings        Total_reviews Overall_reviews    Private Prices  \\\n",
       "0     7.9  11217 Total Reviews       Very Good  Rs9588.09 Rs8629   \n",
       "1     9.1     25 Total Reviews          Superb           Rs20729   \n",
       "2     7.7   6949 Total Reviews       Very Good            Rs6095   \n",
       "3     9.3    313 Total Reviews          Superb           Rs12826   \n",
       "4     8.5  11491 Total Reviews       Very Good            Rs2454   \n",
       "5     7.2   4254 Total Reviews          Superb            Rs1413   \n",
       "6     8.5   2839 Total Reviews        Fabulous            Rs1988   \n",
       "7     7.3   9650 Total Reviews       Very Good            Rs1374   \n",
       "8     8.1   4242 Total Reviews        Fabulous            Rs3003   \n",
       "9     9.2   1738 Total Reviews       Very Good            Rs2552   \n",
       "\n",
       "       Dorms Prices                                        Description  \\\n",
       "0  Rs1732.88 Rs1560  Perfect Location\\nSuperb Staff\\nExcellent Clea...   \n",
       "1  Rs7773.42 Rs6607  Perfect Location\\nSuperb Staff\\nFantastic Clea...   \n",
       "2            Rs2313  Perfect Location\\nMarvellous Staff\\nAwesome Cl...   \n",
       "3            Rs2993  Perfect Location\\nSuperb Staff\\nFantastic Clea...   \n",
       "4            Rs5300  Perfect Location\\nSuperb Staff\\nExcellent Clea...   \n",
       "5            Rs8498  Wonderful Location\\nMarvellous Staff\\nAwesome ...   \n",
       "6           Rs12133  Perfect Location\\nSuperb Staff\\nFantastic Clea...   \n",
       "7            Rs5565  Perfect Location\\nMarvellous Staff\\nAwesome Cl...   \n",
       "8            Rs6920  Wonderful Location\\nSuperb Staff\\nExcellent Cl...   \n",
       "9            Rs1502  Perfect Location\\nSuperb Staff\\nFantastic Clea...   \n",
       "\n",
       "                                          Facilities  \n",
       "0    Free WiFi\\nFollows Covid-19 sanitation guidance  \n",
       "1                                          Free WiFi  \n",
       "2    Free WiFi\\nFollows Covid-19 sanitation guidance  \n",
       "3    Free WiFi\\nFollows Covid-19 sanitation guidance  \n",
       "4    Free WiFi\\nFollows Covid-19 sanitation guidance  \n",
       "5    Free WiFi\\nFollows Covid-19 sanitation guidance  \n",
       "6    Free WiFi\\nFollows Covid-19 sanitation guidance  \n",
       "7    Free WiFi\\nFollows Covid-19 sanitation guidance  \n",
       "8  Free WiFi\\nFree Breakfast\\nFollows Covid-19 sa...  \n",
       "9                          Free WiFi\\nFree Breakfast  "
      ]
     },
     "execution_count": 97,
     "metadata": {},
     "output_type": "execute_result"
    }
   ],
   "source": [
    "hotel_details.head(10)"
   ]
  },
  {
   "cell_type": "code",
   "execution_count": null,
   "id": "3f963af2",
   "metadata": {},
   "outputs": [],
   "source": []
  }
 ],
 "metadata": {
  "kernelspec": {
   "display_name": "Python 3 (ipykernel)",
   "language": "python",
   "name": "python3"
  },
  "language_info": {
   "codemirror_mode": {
    "name": "ipython",
    "version": 3
   },
   "file_extension": ".py",
   "mimetype": "text/x-python",
   "name": "python",
   "nbconvert_exporter": "python",
   "pygments_lexer": "ipython3",
   "version": "3.9.7"
  }
 },
 "nbformat": 4,
 "nbformat_minor": 5
}
