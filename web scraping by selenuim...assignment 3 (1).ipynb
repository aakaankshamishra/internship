{
 "cells": [
  {
   "cell_type": "code",
   "execution_count": 1,
   "id": "36d6f135",
   "metadata": {},
   "outputs": [
    {
     "name": "stdout",
     "output_type": "stream",
     "text": [
      "Requirement already satisfied: selenium in c:\\programdata\\anaconda3\\lib\\site-packages (4.1.3)\n",
      "Requirement already satisfied: trio~=0.17 in c:\\programdata\\anaconda3\\lib\\site-packages (from selenium) (0.20.0)\n",
      "Requirement already satisfied: trio-websocket~=0.9 in c:\\programdata\\anaconda3\\lib\\site-packages (from selenium) (0.9.2)\n",
      "Requirement already satisfied: urllib3[secure,socks]~=1.26 in c:\\programdata\\anaconda3\\lib\\site-packages (from selenium) (1.26.7)\n",
      "Requirement already satisfied: sortedcontainers in c:\\programdata\\anaconda3\\lib\\site-packages (from trio~=0.17->selenium) (2.4.0)\n",
      "Requirement already satisfied: async-generator>=1.9 in c:\\programdata\\anaconda3\\lib\\site-packages (from trio~=0.17->selenium) (1.10)\n",
      "Requirement already satisfied: sniffio in c:\\programdata\\anaconda3\\lib\\site-packages (from trio~=0.17->selenium) (1.2.0)\n",
      "Requirement already satisfied: cffi>=1.14 in c:\\programdata\\anaconda3\\lib\\site-packages (from trio~=0.17->selenium) (1.14.6)\n",
      "Requirement already satisfied: attrs>=19.2.0 in c:\\programdata\\anaconda3\\lib\\site-packages (from trio~=0.17->selenium) (21.2.0)\n",
      "Requirement already satisfied: idna in c:\\programdata\\anaconda3\\lib\\site-packages (from trio~=0.17->selenium) (3.2)\n",
      "Requirement already satisfied: outcome in c:\\programdata\\anaconda3\\lib\\site-packages (from trio~=0.17->selenium) (1.1.0)\n",
      "Requirement already satisfied: pycparser in c:\\programdata\\anaconda3\\lib\\site-packages (from cffi>=1.14->trio~=0.17->selenium) (2.20)\n",
      "Requirement already satisfied: wsproto>=0.14 in c:\\programdata\\anaconda3\\lib\\site-packages (from trio-websocket~=0.9->selenium) (1.1.0)\n",
      "Requirement already satisfied: pyOpenSSL>=0.14 in c:\\programdata\\anaconda3\\lib\\site-packages (from urllib3[secure,socks]~=1.26->selenium) (21.0.0)\n",
      "Requirement already satisfied: cryptography>=1.3.4 in c:\\programdata\\anaconda3\\lib\\site-packages (from urllib3[secure,socks]~=1.26->selenium) (3.4.8)\n",
      "Requirement already satisfied: certifi in c:\\programdata\\anaconda3\\lib\\site-packages (from urllib3[secure,socks]~=1.26->selenium) (2021.10.8)\n",
      "Requirement already satisfied: PySocks!=1.5.7,<2.0,>=1.5.6 in c:\\programdata\\anaconda3\\lib\\site-packages (from urllib3[secure,socks]~=1.26->selenium) (1.7.1)\n",
      "Requirement already satisfied: six>=1.5.2 in c:\\programdata\\anaconda3\\lib\\site-packages (from pyOpenSSL>=0.14->urllib3[secure,socks]~=1.26->selenium) (1.16.0)\n",
      "Requirement already satisfied: h11<1,>=0.9.0 in c:\\programdata\\anaconda3\\lib\\site-packages (from wsproto>=0.14->trio-websocket~=0.9->selenium) (0.13.0)\n"
     ]
    }
   ],
   "source": [
    "! pip install selenium"
   ]
  },
  {
   "cell_type": "code",
   "execution_count": 2,
   "id": "c375d69d",
   "metadata": {},
   "outputs": [],
   "source": [
    "import selenium\n",
    "import pandas as pd\n",
    "from selenium import webdriver\n",
    "import warnings\n",
    "warnings.filterwarnings(\"ignore\")\n",
    "import time"
   ]
  },
  {
   "cell_type": "code",
   "execution_count": 3,
   "id": "ebc15d11",
   "metadata": {},
   "outputs": [],
   "source": [
    "driver = webdriver.Chrome(r\"C:\\chrome driver\\chromedriver.exe\")"
   ]
  },
  {
   "cell_type": "code",
   "execution_count": 4,
   "id": "a047e360",
   "metadata": {},
   "outputs": [],
   "source": [
    "driver = webdriver.Chrome(\"chromedriver.exe\")\n",
    "time.sleep(2)"
   ]
  },
  {
   "cell_type": "code",
   "execution_count": 5,
   "id": "9e475905",
   "metadata": {},
   "outputs": [],
   "source": [
    "driver.get ('https://www.naukri.com/')"
   ]
  },
  {
   "cell_type": "code",
   "execution_count": 6,
   "id": "8f1bed2d",
   "metadata": {},
   "outputs": [],
   "source": [
    "search_field_designation=driver.find_element_by_class_name(\"suggestor-input \")\n",
    "search_field_designation.send_keys(\"Data Analyst\")"
   ]
  },
  {
   "cell_type": "code",
   "execution_count": 7,
   "id": "1f9ed223",
   "metadata": {},
   "outputs": [],
   "source": [
    "search_field_loc=driver.find_element_by_class_name(\"suggestor-input \")\n",
    "search_field_loc.send_keys(\"Banglore\")"
   ]
  },
  {
   "cell_type": "code",
   "execution_count": 8,
   "id": "52401adc",
   "metadata": {},
   "outputs": [],
   "source": [
    "search_field_location=driver.find_element_by_xpath(\"/html/body/div/div[2]/div[3]/div/div/div[3]/div/div/div/input\")\n",
    "search_field_location.send_keys(\"Banglore\")"
   ]
  },
  {
   "cell_type": "code",
   "execution_count": 9,
   "id": "ffa39ba7",
   "metadata": {},
   "outputs": [],
   "source": [
    "search_button=driver.find_element_by_xpath('/html/body/div/div[2]/div[3]/div/div/div[6]')\n",
    "search_button.click()\n"
   ]
  },
  {
   "cell_type": "code",
   "execution_count": 10,
   "id": "5a26d0d7",
   "metadata": {},
   "outputs": [
    {
     "data": {
      "text/plain": [
       "[<selenium.webdriver.remote.webelement.WebElement (session=\"3427f24ce00c42176819ff46503a38d9\", element=\"6e07fdce-8e33-4bbe-92c0-f0e1dc3962e8\")>,\n",
       " <selenium.webdriver.remote.webelement.WebElement (session=\"3427f24ce00c42176819ff46503a38d9\", element=\"a1676018-040b-4f74-80a6-303254acc783\")>,\n",
       " <selenium.webdriver.remote.webelement.WebElement (session=\"3427f24ce00c42176819ff46503a38d9\", element=\"5d6dcec7-aad4-4cf8-ad56-de8da4751492\")>,\n",
       " <selenium.webdriver.remote.webelement.WebElement (session=\"3427f24ce00c42176819ff46503a38d9\", element=\"c04b9337-803a-4da3-bb42-43356c993364\")>,\n",
       " <selenium.webdriver.remote.webelement.WebElement (session=\"3427f24ce00c42176819ff46503a38d9\", element=\"10359a9d-e8a1-43a0-bd55-4768647779c9\")>,\n",
       " <selenium.webdriver.remote.webelement.WebElement (session=\"3427f24ce00c42176819ff46503a38d9\", element=\"44bcabe0-bac9-491c-92be-98aade85625c\")>,\n",
       " <selenium.webdriver.remote.webelement.WebElement (session=\"3427f24ce00c42176819ff46503a38d9\", element=\"1d49659d-762e-4703-8083-fca840431151\")>,\n",
       " <selenium.webdriver.remote.webelement.WebElement (session=\"3427f24ce00c42176819ff46503a38d9\", element=\"ea11a5bd-367b-4f59-9932-6376b1002cef\")>,\n",
       " <selenium.webdriver.remote.webelement.WebElement (session=\"3427f24ce00c42176819ff46503a38d9\", element=\"51a6b409-13ff-42d5-b616-5bdb46ce20ea\")>,\n",
       " <selenium.webdriver.remote.webelement.WebElement (session=\"3427f24ce00c42176819ff46503a38d9\", element=\"63f90bf7-5c5d-41b1-8543-f56351b45723\")>,\n",
       " <selenium.webdriver.remote.webelement.WebElement (session=\"3427f24ce00c42176819ff46503a38d9\", element=\"0042cc6e-ac15-4dd3-9613-730a4ff2b817\")>,\n",
       " <selenium.webdriver.remote.webelement.WebElement (session=\"3427f24ce00c42176819ff46503a38d9\", element=\"0c165ebf-d86e-4cfa-8635-879a713db090\")>,\n",
       " <selenium.webdriver.remote.webelement.WebElement (session=\"3427f24ce00c42176819ff46503a38d9\", element=\"10faf531-4c8d-43d9-8ca0-90d64a66a984\")>,\n",
       " <selenium.webdriver.remote.webelement.WebElement (session=\"3427f24ce00c42176819ff46503a38d9\", element=\"9a44675e-235c-4ec2-bf57-050f869ff3bd\")>,\n",
       " <selenium.webdriver.remote.webelement.WebElement (session=\"3427f24ce00c42176819ff46503a38d9\", element=\"f26fb4fe-0ec7-4e32-9773-dc0083d10e47\")>,\n",
       " <selenium.webdriver.remote.webelement.WebElement (session=\"3427f24ce00c42176819ff46503a38d9\", element=\"d97e7001-b270-4791-aa87-d835cbf2df14\")>,\n",
       " <selenium.webdriver.remote.webelement.WebElement (session=\"3427f24ce00c42176819ff46503a38d9\", element=\"53537add-978e-42ec-a8a3-25f753632a8e\")>,\n",
       " <selenium.webdriver.remote.webelement.WebElement (session=\"3427f24ce00c42176819ff46503a38d9\", element=\"b71f9f14-fe97-435a-b970-abf282374963\")>,\n",
       " <selenium.webdriver.remote.webelement.WebElement (session=\"3427f24ce00c42176819ff46503a38d9\", element=\"096b8cce-9381-40e1-9bfb-b4fe932561bc\")>,\n",
       " <selenium.webdriver.remote.webelement.WebElement (session=\"3427f24ce00c42176819ff46503a38d9\", element=\"8343488f-bce8-4ce5-964b-7c9fac45da4d\")>]"
      ]
     },
     "execution_count": 10,
     "metadata": {},
     "output_type": "execute_result"
    }
   ],
   "source": [
    "#finding job title element using xpath\n",
    "title_tags= driver.find_elements_by_xpath(\"//a[@class='title fw500 ellipsis']\")\n",
    "title_tags"
   ]
  },
  {
   "cell_type": "code",
   "execution_count": 11,
   "id": "866bb737",
   "metadata": {},
   "outputs": [
    {
     "data": {
      "text/plain": [
       "['Data Analyst / Business Analyst',\n",
       " 'Data Analyst / Business Analyst',\n",
       " 'data analyst/ data analytics / Business analyst- SQL/Python/SAS',\n",
       " 'Business analyst + data Analysis',\n",
       " 'Data Analyst',\n",
       " 'Associate Professional Data Analyst',\n",
       " 'Data Analyst - Alteryx',\n",
       " 'Senior Business Analyst - Data Sciences and Advanced Analytics',\n",
       " 'Business and Data Analyst',\n",
       " 'Data Analyst 2',\n",
       " 'Senior Data Analyst',\n",
       " 'Senior Data Analyst',\n",
       " 'Data Analyst',\n",
       " 'MIS Data Analyst (Sales Analytics) - Bangalore',\n",
       " 'Sr Data Analyst II',\n",
       " 'Data Analyst',\n",
       " 'Immediate opening For GCP - Data Analyst / Specialist',\n",
       " 'Data Analyst',\n",
       " 'Business analyst + data Analysis',\n",
       " 'SAS Analyst / data Analyst / Business analyst - Sas + SQL']"
      ]
     },
     "execution_count": 11,
     "metadata": {},
     "output_type": "execute_result"
    }
   ],
   "source": [
    "#getting all the available text in the title_tags element\n",
    "job_title =[]\n",
    "\n",
    "for i in title_tags:\n",
    "    job_title.append(i.text)\n",
    "#printing job_title\n",
    "job_title    "
   ]
  },
  {
   "cell_type": "code",
   "execution_count": 12,
   "id": "c0a69c36",
   "metadata": {},
   "outputs": [
    {
     "data": {
      "text/plain": [
       "[<selenium.webdriver.remote.webelement.WebElement (session=\"3427f24ce00c42176819ff46503a38d9\", element=\"7f45825d-1bfc-4bdf-9a04-4170a52a3d66\")>,\n",
       " <selenium.webdriver.remote.webelement.WebElement (session=\"3427f24ce00c42176819ff46503a38d9\", element=\"54591101-4f09-46f9-9103-31859c7b0a9e\")>,\n",
       " <selenium.webdriver.remote.webelement.WebElement (session=\"3427f24ce00c42176819ff46503a38d9\", element=\"43c369a3-d56d-43bc-8ede-c15b9cfd8b7b\")>,\n",
       " <selenium.webdriver.remote.webelement.WebElement (session=\"3427f24ce00c42176819ff46503a38d9\", element=\"16396879-37de-4a3f-a1c7-7c9ec41b3d23\")>,\n",
       " <selenium.webdriver.remote.webelement.WebElement (session=\"3427f24ce00c42176819ff46503a38d9\", element=\"b3449bc3-eb0d-42a8-bfc3-041471cc4ac2\")>,\n",
       " <selenium.webdriver.remote.webelement.WebElement (session=\"3427f24ce00c42176819ff46503a38d9\", element=\"5dabf9c7-42fe-4266-8c89-23adeb7c5c2a\")>,\n",
       " <selenium.webdriver.remote.webelement.WebElement (session=\"3427f24ce00c42176819ff46503a38d9\", element=\"fd615ced-f92f-45b0-8ebf-2b21a9d12b05\")>,\n",
       " <selenium.webdriver.remote.webelement.WebElement (session=\"3427f24ce00c42176819ff46503a38d9\", element=\"6e07cdba-dc34-4c07-8c51-c071ad50fe46\")>,\n",
       " <selenium.webdriver.remote.webelement.WebElement (session=\"3427f24ce00c42176819ff46503a38d9\", element=\"4b674495-a073-4391-9454-a93d8cfcee2f\")>,\n",
       " <selenium.webdriver.remote.webelement.WebElement (session=\"3427f24ce00c42176819ff46503a38d9\", element=\"e33c092a-cc0e-4e4c-9048-d49028175d5c\")>,\n",
       " <selenium.webdriver.remote.webelement.WebElement (session=\"3427f24ce00c42176819ff46503a38d9\", element=\"dcab621a-0d1d-4d27-8bb1-2d85d31340e6\")>,\n",
       " <selenium.webdriver.remote.webelement.WebElement (session=\"3427f24ce00c42176819ff46503a38d9\", element=\"8acb0218-c832-4f3b-8a58-5829fcdbac2c\")>,\n",
       " <selenium.webdriver.remote.webelement.WebElement (session=\"3427f24ce00c42176819ff46503a38d9\", element=\"ef7355f7-598b-4ab2-9e16-1362d5020a21\")>,\n",
       " <selenium.webdriver.remote.webelement.WebElement (session=\"3427f24ce00c42176819ff46503a38d9\", element=\"9d7babc0-4f4b-43ec-aec6-3dbf960e4506\")>,\n",
       " <selenium.webdriver.remote.webelement.WebElement (session=\"3427f24ce00c42176819ff46503a38d9\", element=\"b78334e7-9875-402d-a2df-4bcfba65e037\")>,\n",
       " <selenium.webdriver.remote.webelement.WebElement (session=\"3427f24ce00c42176819ff46503a38d9\", element=\"86706307-074e-4b9f-a1b9-11ef0d17a7e6\")>,\n",
       " <selenium.webdriver.remote.webelement.WebElement (session=\"3427f24ce00c42176819ff46503a38d9\", element=\"b70d82ef-94d3-4724-905b-606f2f60dabc\")>,\n",
       " <selenium.webdriver.remote.webelement.WebElement (session=\"3427f24ce00c42176819ff46503a38d9\", element=\"ac693e93-7190-429e-b2e4-670da20fdc8a\")>,\n",
       " <selenium.webdriver.remote.webelement.WebElement (session=\"3427f24ce00c42176819ff46503a38d9\", element=\"f1c43dd2-dd8d-4c97-b995-56b1bcd0abb9\")>,\n",
       " <selenium.webdriver.remote.webelement.WebElement (session=\"3427f24ce00c42176819ff46503a38d9\", element=\"686fe113-0c7d-4aea-98c1-2f6c782a2ed2\")>]"
      ]
     },
     "execution_count": 12,
     "metadata": {},
     "output_type": "execute_result"
    }
   ],
   "source": [
    "#finding location   element using xpath\n",
    "location_tag = driver.find_elements_by_xpath(\"//li[@class='fleft grey-text br2 placeHolderLi location']\")\n",
    "location_tag"
   ]
  },
  {
   "cell_type": "code",
   "execution_count": 13,
   "id": "c8fab016",
   "metadata": {},
   "outputs": [
    {
     "data": {
      "text/plain": [
       "['Bangalore/Bengaluru',\n",
       " 'Bangalore/Bengaluru',\n",
       " 'Gurgaon/Gurugram, Bangalore/Bengaluru, Delhi / NCR\\n(WFH during Covid)',\n",
       " 'Hyderabad/Secunderabad, Bangalore/Bengaluru',\n",
       " 'Bangalore/Bengaluru',\n",
       " 'Bangalore/Bengaluru',\n",
       " 'Bangalore/Bengaluru',\n",
       " 'Bangalore/Bengaluru',\n",
       " 'Bangalore/Bengaluru\\n(WFH during Covid)',\n",
       " 'Bangalore/Bengaluru',\n",
       " 'Bangalore/Bengaluru',\n",
       " 'Bangalore/Bengaluru',\n",
       " 'Bangalore/Bengaluru',\n",
       " 'Bangalore/Bengaluru',\n",
       " 'Gurgaon/Gurugram, Bangalore/Bengaluru',\n",
       " 'Bangalore/Bengaluru',\n",
       " 'Coimbatore, Bangalore/Bengaluru',\n",
       " 'Bangalore/Bengaluru',\n",
       " 'Hyderabad/Secunderabad, Bangalore/Bengaluru',\n",
       " 'Bangalore/Bengaluru, Delhi / NCR, Mumbai (All Areas)\\n(WFH during Covid)']"
      ]
     },
     "execution_count": 13,
     "metadata": {},
     "output_type": "execute_result"
    }
   ],
   "source": [
    "#getting all the available text in the location_tag element with slicing to fetch only location \n",
    "location =[]\n",
    "\n",
    "for i in location_tag:\n",
    "    location.append(i.text)\n",
    "#printing location \n",
    "location    "
   ]
  },
  {
   "cell_type": "code",
   "execution_count": 14,
   "id": "932ec0a7",
   "metadata": {},
   "outputs": [
    {
     "data": {
      "text/plain": [
       "[<selenium.webdriver.remote.webelement.WebElement (session=\"3427f24ce00c42176819ff46503a38d9\", element=\"6c3e350c-e66e-43c3-a255-2b1108f4e441\")>,\n",
       " <selenium.webdriver.remote.webelement.WebElement (session=\"3427f24ce00c42176819ff46503a38d9\", element=\"bcc8035c-0d32-4312-9b8d-9b971509d48c\")>,\n",
       " <selenium.webdriver.remote.webelement.WebElement (session=\"3427f24ce00c42176819ff46503a38d9\", element=\"1e3898e4-580d-482c-9624-034f28b24321\")>,\n",
       " <selenium.webdriver.remote.webelement.WebElement (session=\"3427f24ce00c42176819ff46503a38d9\", element=\"2421d4b9-c8d0-4716-b0c1-5971f4961780\")>,\n",
       " <selenium.webdriver.remote.webelement.WebElement (session=\"3427f24ce00c42176819ff46503a38d9\", element=\"d34538c9-8b91-477d-acf5-15158cb80ba9\")>,\n",
       " <selenium.webdriver.remote.webelement.WebElement (session=\"3427f24ce00c42176819ff46503a38d9\", element=\"34f2796c-1721-49ac-9ca2-2120f4065081\")>,\n",
       " <selenium.webdriver.remote.webelement.WebElement (session=\"3427f24ce00c42176819ff46503a38d9\", element=\"73353d41-b2e0-4c90-abf7-a86a216ae665\")>,\n",
       " <selenium.webdriver.remote.webelement.WebElement (session=\"3427f24ce00c42176819ff46503a38d9\", element=\"49ce8594-016f-4e45-b2be-d447bea60962\")>,\n",
       " <selenium.webdriver.remote.webelement.WebElement (session=\"3427f24ce00c42176819ff46503a38d9\", element=\"f5f8b4d7-07ab-4837-9f55-a010481f404d\")>,\n",
       " <selenium.webdriver.remote.webelement.WebElement (session=\"3427f24ce00c42176819ff46503a38d9\", element=\"a64b862c-97b2-4b14-8552-556d31c0597f\")>,\n",
       " <selenium.webdriver.remote.webelement.WebElement (session=\"3427f24ce00c42176819ff46503a38d9\", element=\"ec1953e2-1c3f-46d9-a89e-820ceab81310\")>,\n",
       " <selenium.webdriver.remote.webelement.WebElement (session=\"3427f24ce00c42176819ff46503a38d9\", element=\"a119b304-a23c-42d4-832f-a52a5c465f46\")>,\n",
       " <selenium.webdriver.remote.webelement.WebElement (session=\"3427f24ce00c42176819ff46503a38d9\", element=\"845e46a7-b550-441c-b4a8-70665e6e106e\")>,\n",
       " <selenium.webdriver.remote.webelement.WebElement (session=\"3427f24ce00c42176819ff46503a38d9\", element=\"204267ea-94c1-490e-a5a2-33968ce0c79d\")>,\n",
       " <selenium.webdriver.remote.webelement.WebElement (session=\"3427f24ce00c42176819ff46503a38d9\", element=\"341dc456-c82c-4733-a333-25938eb60507\")>,\n",
       " <selenium.webdriver.remote.webelement.WebElement (session=\"3427f24ce00c42176819ff46503a38d9\", element=\"7bd8ac10-c264-476f-b880-a2fa9369f362\")>,\n",
       " <selenium.webdriver.remote.webelement.WebElement (session=\"3427f24ce00c42176819ff46503a38d9\", element=\"ef4dd5de-0100-4c10-be33-cf55c533fac3\")>,\n",
       " <selenium.webdriver.remote.webelement.WebElement (session=\"3427f24ce00c42176819ff46503a38d9\", element=\"72a17762-f0ba-471c-a069-63bff01ba6a7\")>,\n",
       " <selenium.webdriver.remote.webelement.WebElement (session=\"3427f24ce00c42176819ff46503a38d9\", element=\"6363ac7d-c401-47ea-9bf2-8d3c58c7e026\")>,\n",
       " <selenium.webdriver.remote.webelement.WebElement (session=\"3427f24ce00c42176819ff46503a38d9\", element=\"425ed10d-1f98-4cb6-b60c-485eae1d2b5e\")>]"
      ]
     },
     "execution_count": 14,
     "metadata": {},
     "output_type": "execute_result"
    }
   ],
   "source": [
    "#finding location   element using xpath\n",
    "exp_tag= driver.find_elements_by_xpath(\"//li[@class='fleft grey-text br2 placeHolderLi experience']//span\")\n",
    "exp_tag"
   ]
  },
  {
   "cell_type": "code",
   "execution_count": 15,
   "id": "5b0800bf",
   "metadata": {},
   "outputs": [
    {
     "data": {
      "text/plain": [
       "['3-8 Yrs',\n",
       " '3-8 Yrs',\n",
       " '2-7 Yrs',\n",
       " '5-10 Yrs',\n",
       " '1-3 Yrs',\n",
       " '3-6 Yrs',\n",
       " '4-7 Yrs',\n",
       " '3-7 Yrs',\n",
       " '0-5 Yrs',\n",
       " '1-3 Yrs',\n",
       " '3-7 Yrs',\n",
       " '2-4 Yrs',\n",
       " '2-5 Yrs',\n",
       " '3-8 Yrs',\n",
       " '3-6 Yrs',\n",
       " '8-13 Yrs',\n",
       " '3-5 Yrs',\n",
       " '2-5 Yrs',\n",
       " '5-10 Yrs',\n",
       " '2-7 Yrs']"
      ]
     },
     "execution_count": 15,
     "metadata": {},
     "output_type": "execute_result"
    }
   ],
   "source": [
    "#getting all the available text in the location_tag element with slicing to fetch only experience \n",
    "experience = []\n",
    "for i in exp_tag:\n",
    "    experience.append(i.text)\n",
    "experience    "
   ]
  },
  {
   "cell_type": "code",
   "execution_count": 16,
   "id": "c66294f9",
   "metadata": {},
   "outputs": [
    {
     "data": {
      "text/plain": [
       "[<selenium.webdriver.remote.webelement.WebElement (session=\"3427f24ce00c42176819ff46503a38d9\", element=\"29ae3f36-7796-4c60-a51d-129f27855d0d\")>,\n",
       " <selenium.webdriver.remote.webelement.WebElement (session=\"3427f24ce00c42176819ff46503a38d9\", element=\"2cd2b06c-18e3-4632-98ec-914d06589097\")>,\n",
       " <selenium.webdriver.remote.webelement.WebElement (session=\"3427f24ce00c42176819ff46503a38d9\", element=\"8fc418d4-af25-4eea-985f-20e771d122e3\")>,\n",
       " <selenium.webdriver.remote.webelement.WebElement (session=\"3427f24ce00c42176819ff46503a38d9\", element=\"8209a6ef-8928-4842-9c66-1ebd4555fa5c\")>,\n",
       " <selenium.webdriver.remote.webelement.WebElement (session=\"3427f24ce00c42176819ff46503a38d9\", element=\"97de3bef-0c83-44b8-82c9-843ed64daca6\")>,\n",
       " <selenium.webdriver.remote.webelement.WebElement (session=\"3427f24ce00c42176819ff46503a38d9\", element=\"68875823-1c83-4ce2-9e3e-2d6505ebc04e\")>,\n",
       " <selenium.webdriver.remote.webelement.WebElement (session=\"3427f24ce00c42176819ff46503a38d9\", element=\"ecece7b2-b9bf-43b1-bd23-5977e53e5509\")>,\n",
       " <selenium.webdriver.remote.webelement.WebElement (session=\"3427f24ce00c42176819ff46503a38d9\", element=\"d28cc8d7-33d3-4a4e-b141-61bce23eb76e\")>,\n",
       " <selenium.webdriver.remote.webelement.WebElement (session=\"3427f24ce00c42176819ff46503a38d9\", element=\"80a45161-4da5-4aea-88bf-6ddaffee3224\")>,\n",
       " <selenium.webdriver.remote.webelement.WebElement (session=\"3427f24ce00c42176819ff46503a38d9\", element=\"2c49e2bf-edbf-49d5-ba43-0e3ebebbe649\")>,\n",
       " <selenium.webdriver.remote.webelement.WebElement (session=\"3427f24ce00c42176819ff46503a38d9\", element=\"b8eba146-bbf1-4ec5-89a3-ea34437c54c0\")>,\n",
       " <selenium.webdriver.remote.webelement.WebElement (session=\"3427f24ce00c42176819ff46503a38d9\", element=\"855229fc-0a73-4422-ada5-2a5779942869\")>,\n",
       " <selenium.webdriver.remote.webelement.WebElement (session=\"3427f24ce00c42176819ff46503a38d9\", element=\"b00035d7-8c3a-426e-888b-5deccd9d54e2\")>,\n",
       " <selenium.webdriver.remote.webelement.WebElement (session=\"3427f24ce00c42176819ff46503a38d9\", element=\"94563155-5355-4d85-9869-c3a7e0c729bb\")>,\n",
       " <selenium.webdriver.remote.webelement.WebElement (session=\"3427f24ce00c42176819ff46503a38d9\", element=\"6065edb6-fd15-4ebd-b5cc-923f8c4564ce\")>,\n",
       " <selenium.webdriver.remote.webelement.WebElement (session=\"3427f24ce00c42176819ff46503a38d9\", element=\"1c5f8ba5-2351-4380-aaf7-7ad0e42beff7\")>,\n",
       " <selenium.webdriver.remote.webelement.WebElement (session=\"3427f24ce00c42176819ff46503a38d9\", element=\"6dafa067-6b32-4240-bfdf-b3aa22782de9\")>,\n",
       " <selenium.webdriver.remote.webelement.WebElement (session=\"3427f24ce00c42176819ff46503a38d9\", element=\"b09b1f4b-5e0f-4713-93c7-5f88db2d448a\")>,\n",
       " <selenium.webdriver.remote.webelement.WebElement (session=\"3427f24ce00c42176819ff46503a38d9\", element=\"3ba9161c-7557-493a-9a00-975ae1d521de\")>,\n",
       " <selenium.webdriver.remote.webelement.WebElement (session=\"3427f24ce00c42176819ff46503a38d9\", element=\"48cc3177-2dd2-468e-98a1-a28033415164\")>]"
      ]
     },
     "execution_count": 16,
     "metadata": {},
     "output_type": "execute_result"
    }
   ],
   "source": [
    "#finding company name element using xpath\n",
    "company_tag = driver.find_elements_by_xpath(\"//a[@class='subTitle ellipsis fleft']\")\n",
    "company_tag"
   ]
  },
  {
   "cell_type": "code",
   "execution_count": 17,
   "id": "17441884",
   "metadata": {},
   "outputs": [
    {
     "data": {
      "text/plain": [
       "['METRO Cash & Carry',\n",
       " 'METRO Cash & Carry',\n",
       " 'Leading US MNC into Analytics',\n",
       " 'Anlage Infotech (I) Pvt. Ltd.',\n",
       " 'upGrad',\n",
       " 'DXC Technology',\n",
       " 'Capco',\n",
       " 'Vmware',\n",
       " 'CAREERDOST ENTERPRISE',\n",
       " 'PayPal',\n",
       " 'Flipkart',\n",
       " 'Thomson Reuters',\n",
       " 'referral',\n",
       " 'K12 Techno Services',\n",
       " 'IHS Markit',\n",
       " 'Allegis Services India Pvt. Ltd.',\n",
       " 'VERTICURL MARKETING PRIVATE LIMITED',\n",
       " 'referral',\n",
       " 'Anlage Infotech (I) Pvt. Ltd.',\n",
       " 'Leading US MNC into analytics']"
      ]
     },
     "execution_count": 17,
     "metadata": {},
     "output_type": "execute_result"
    }
   ],
   "source": [
    "#getting all the available text in the company_tag element to fetch company name and appending the same in for loop\n",
    "company_name = []\n",
    "\n",
    "for i in company_tag:\n",
    "    company_name.append(i.text)\n",
    "#printing company name\n",
    "company_name"
   ]
  },
  {
   "cell_type": "code",
   "execution_count": 18,
   "id": "46e308cc",
   "metadata": {},
   "outputs": [],
   "source": [
    "#slicing all list as we just wanted the forst 10 values from each list\n",
    "job_title =job_title[0:10]\n",
    "experience = experience[0:10]\n",
    "location = location[0:10]\n",
    "company_name =company_name[0:10]"
   ]
  },
  {
   "cell_type": "code",
   "execution_count": 19,
   "id": "366aa0b4",
   "metadata": {},
   "outputs": [
    {
     "data": {
      "text/plain": [
       "['3-8 Yrs',\n",
       " '3-8 Yrs',\n",
       " '2-7 Yrs',\n",
       " '5-10 Yrs',\n",
       " '1-3 Yrs',\n",
       " '3-6 Yrs',\n",
       " '4-7 Yrs',\n",
       " '3-7 Yrs',\n",
       " '0-5 Yrs',\n",
       " '1-3 Yrs']"
      ]
     },
     "execution_count": 19,
     "metadata": {},
     "output_type": "execute_result"
    }
   ],
   "source": [
    "experience"
   ]
  },
  {
   "cell_type": "code",
   "execution_count": 20,
   "id": "80f9a95c",
   "metadata": {},
   "outputs": [
    {
     "name": "stdout",
     "output_type": "stream",
     "text": [
      "10 10 10 10\n"
     ]
    }
   ],
   "source": [
    "print(len(job_title),len(experience),len(location),len(company_name))"
   ]
  },
  {
   "cell_type": "code",
   "execution_count": 21,
   "id": "fc801d7f",
   "metadata": {},
   "outputs": [
    {
     "data": {
      "text/html": [
       "<div>\n",
       "<style scoped>\n",
       "    .dataframe tbody tr th:only-of-type {\n",
       "        vertical-align: middle;\n",
       "    }\n",
       "\n",
       "    .dataframe tbody tr th {\n",
       "        vertical-align: top;\n",
       "    }\n",
       "\n",
       "    .dataframe thead th {\n",
       "        text-align: right;\n",
       "    }\n",
       "</style>\n",
       "<table border=\"1\" class=\"dataframe\">\n",
       "  <thead>\n",
       "    <tr style=\"text-align: right;\">\n",
       "      <th></th>\n",
       "      <th>Job_title</th>\n",
       "      <th>Comapany_name</th>\n",
       "      <th>Experience</th>\n",
       "      <th>Location</th>\n",
       "    </tr>\n",
       "  </thead>\n",
       "  <tbody>\n",
       "    <tr>\n",
       "      <th>0</th>\n",
       "      <td>Data Analyst / Business Analyst</td>\n",
       "      <td>METRO Cash &amp; Carry</td>\n",
       "      <td>3-8 Yrs</td>\n",
       "      <td>Bangalore/Bengaluru</td>\n",
       "    </tr>\n",
       "    <tr>\n",
       "      <th>1</th>\n",
       "      <td>Data Analyst / Business Analyst</td>\n",
       "      <td>METRO Cash &amp; Carry</td>\n",
       "      <td>3-8 Yrs</td>\n",
       "      <td>Bangalore/Bengaluru</td>\n",
       "    </tr>\n",
       "    <tr>\n",
       "      <th>2</th>\n",
       "      <td>data analyst/ data analytics / Business analys...</td>\n",
       "      <td>Leading US MNC into Analytics</td>\n",
       "      <td>2-7 Yrs</td>\n",
       "      <td>Gurgaon/Gurugram, Bangalore/Bengaluru, Delhi /...</td>\n",
       "    </tr>\n",
       "    <tr>\n",
       "      <th>3</th>\n",
       "      <td>Business analyst + data Analysis</td>\n",
       "      <td>Anlage Infotech (I) Pvt. Ltd.</td>\n",
       "      <td>5-10 Yrs</td>\n",
       "      <td>Hyderabad/Secunderabad, Bangalore/Bengaluru</td>\n",
       "    </tr>\n",
       "    <tr>\n",
       "      <th>4</th>\n",
       "      <td>Data Analyst</td>\n",
       "      <td>upGrad</td>\n",
       "      <td>1-3 Yrs</td>\n",
       "      <td>Bangalore/Bengaluru</td>\n",
       "    </tr>\n",
       "    <tr>\n",
       "      <th>5</th>\n",
       "      <td>Associate Professional Data Analyst</td>\n",
       "      <td>DXC Technology</td>\n",
       "      <td>3-6 Yrs</td>\n",
       "      <td>Bangalore/Bengaluru</td>\n",
       "    </tr>\n",
       "    <tr>\n",
       "      <th>6</th>\n",
       "      <td>Data Analyst - Alteryx</td>\n",
       "      <td>Capco</td>\n",
       "      <td>4-7 Yrs</td>\n",
       "      <td>Bangalore/Bengaluru</td>\n",
       "    </tr>\n",
       "    <tr>\n",
       "      <th>7</th>\n",
       "      <td>Senior Business Analyst - Data Sciences and Ad...</td>\n",
       "      <td>Vmware</td>\n",
       "      <td>3-7 Yrs</td>\n",
       "      <td>Bangalore/Bengaluru</td>\n",
       "    </tr>\n",
       "    <tr>\n",
       "      <th>8</th>\n",
       "      <td>Business and Data Analyst</td>\n",
       "      <td>CAREERDOST ENTERPRISE</td>\n",
       "      <td>0-5 Yrs</td>\n",
       "      <td>Bangalore/Bengaluru\\n(WFH during Covid)</td>\n",
       "    </tr>\n",
       "    <tr>\n",
       "      <th>9</th>\n",
       "      <td>Data Analyst 2</td>\n",
       "      <td>PayPal</td>\n",
       "      <td>1-3 Yrs</td>\n",
       "      <td>Bangalore/Bengaluru</td>\n",
       "    </tr>\n",
       "  </tbody>\n",
       "</table>\n",
       "</div>"
      ],
      "text/plain": [
       "                                           Job_title  \\\n",
       "0                    Data Analyst / Business Analyst   \n",
       "1                    Data Analyst / Business Analyst   \n",
       "2  data analyst/ data analytics / Business analys...   \n",
       "3                   Business analyst + data Analysis   \n",
       "4                                       Data Analyst   \n",
       "5                Associate Professional Data Analyst   \n",
       "6                             Data Analyst - Alteryx   \n",
       "7  Senior Business Analyst - Data Sciences and Ad...   \n",
       "8                          Business and Data Analyst   \n",
       "9                                     Data Analyst 2   \n",
       "\n",
       "                   Comapany_name Experience  \\\n",
       "0             METRO Cash & Carry    3-8 Yrs   \n",
       "1             METRO Cash & Carry    3-8 Yrs   \n",
       "2  Leading US MNC into Analytics    2-7 Yrs   \n",
       "3  Anlage Infotech (I) Pvt. Ltd.   5-10 Yrs   \n",
       "4                         upGrad    1-3 Yrs   \n",
       "5                 DXC Technology    3-6 Yrs   \n",
       "6                          Capco    4-7 Yrs   \n",
       "7                         Vmware    3-7 Yrs   \n",
       "8          CAREERDOST ENTERPRISE    0-5 Yrs   \n",
       "9                         PayPal    1-3 Yrs   \n",
       "\n",
       "                                            Location  \n",
       "0                                Bangalore/Bengaluru  \n",
       "1                                Bangalore/Bengaluru  \n",
       "2  Gurgaon/Gurugram, Bangalore/Bengaluru, Delhi /...  \n",
       "3        Hyderabad/Secunderabad, Bangalore/Bengaluru  \n",
       "4                                Bangalore/Bengaluru  \n",
       "5                                Bangalore/Bengaluru  \n",
       "6                                Bangalore/Bengaluru  \n",
       "7                                Bangalore/Bengaluru  \n",
       "8            Bangalore/Bengaluru\\n(WFH during Covid)  \n",
       "9                                Bangalore/Bengaluru  "
      ]
     },
     "execution_count": 21,
     "metadata": {},
     "output_type": "execute_result"
    }
   ],
   "source": [
    "# creating dataframe and assigning lists to columns\n",
    "df = pd.DataFrame({})\n",
    "df['Job_title'] = job_title\n",
    "df['Comapany_name'] = company_name\n",
    "df['Experience'] = experience\n",
    "df['Location'] = location\n",
    "df"
   ]
  },
  {
   "cell_type": "markdown",
   "id": "130c8ef6",
   "metadata": {},
   "source": [
    "# Q2.Write a python program to scrape data for “Data Scientist” Job position in\n",
    "“Bangalore” location. You have to scrape the job-title, job-location, company_name, full job-description. You have to scrape first 10 jobs data."
   ]
  },
  {
   "cell_type": "code",
   "execution_count": 25,
   "id": "7ca29309",
   "metadata": {},
   "outputs": [],
   "source": [
    "#importiong neccessary libraries\n",
    "import selenium\n",
    "import pandas as pd\n",
    "from selenium import webdriver"
   ]
  },
  {
   "cell_type": "code",
   "execution_count": 26,
   "id": "8af8d446",
   "metadata": {},
   "outputs": [],
   "source": [
    "driver = webdriver.Chrome(r\"C:\\chrome driver\\chromedriver.exe\")"
   ]
  },
  {
   "cell_type": "code",
   "execution_count": 27,
   "id": "2a43cf11",
   "metadata": {},
   "outputs": [],
   "source": [
    "driver = webdriver.Chrome(\"chromedriver.exe\")\n",
    "time.sleep(2)"
   ]
  },
  {
   "cell_type": "code",
   "execution_count": 28,
   "id": "e4e37e4a",
   "metadata": {},
   "outputs": [],
   "source": [
    "driver.get ('https://www.naukri.com/')"
   ]
  },
  {
   "cell_type": "code",
   "execution_count": 29,
   "id": "d944088f",
   "metadata": {},
   "outputs": [],
   "source": [
    "search_field_designation=driver.find_element_by_class_name(\"suggestor-input \")\n",
    "search_field_designation.send_keys(\"Data scientist\")"
   ]
  },
  {
   "cell_type": "code",
   "execution_count": 30,
   "id": "33ba3dae",
   "metadata": {},
   "outputs": [],
   "source": [
    "search_field_loc=driver.find_element_by_class_name(\"suggestor-input \")\n",
    "search_field_loc.send_keys(\"Banglore\")"
   ]
  },
  {
   "cell_type": "code",
   "execution_count": 31,
   "id": "f66b07b8",
   "metadata": {},
   "outputs": [],
   "source": [
    "search_field_location=driver.find_element_by_xpath(\"/html/body/div/div[2]/div[3]/div/div/div[3]/div/div/div/input\")\n",
    "search_field_location.send_keys(\"Banglore\")"
   ]
  },
  {
   "cell_type": "code",
   "execution_count": 32,
   "id": "28bc0f2a",
   "metadata": {},
   "outputs": [],
   "source": [
    "search_button=driver.find_element_by_xpath('/html/body/div/div[2]/div[3]/div/div/div[6]')\n",
    "search_button.click()"
   ]
  },
  {
   "cell_type": "code",
   "execution_count": 33,
   "id": "c171335c",
   "metadata": {},
   "outputs": [
    {
     "data": {
      "text/plain": [
       "[<selenium.webdriver.remote.webelement.WebElement (session=\"c58a17a59ab39e4bd19661c0d8d03f8f\", element=\"ec79ba92-1d1d-4dd2-939e-85ecd2f5de2d\")>,\n",
       " <selenium.webdriver.remote.webelement.WebElement (session=\"c58a17a59ab39e4bd19661c0d8d03f8f\", element=\"0796c109-0112-4dae-853b-8049b8555715\")>,\n",
       " <selenium.webdriver.remote.webelement.WebElement (session=\"c58a17a59ab39e4bd19661c0d8d03f8f\", element=\"5a95ff17-62f9-458b-a846-274f23461492\")>,\n",
       " <selenium.webdriver.remote.webelement.WebElement (session=\"c58a17a59ab39e4bd19661c0d8d03f8f\", element=\"5474c8b6-7a7b-443d-b11c-59d131e5e7e7\")>,\n",
       " <selenium.webdriver.remote.webelement.WebElement (session=\"c58a17a59ab39e4bd19661c0d8d03f8f\", element=\"95a8dd9f-f65a-4047-a754-f10194a3c21e\")>,\n",
       " <selenium.webdriver.remote.webelement.WebElement (session=\"c58a17a59ab39e4bd19661c0d8d03f8f\", element=\"3ac859ca-e1f6-4d15-b154-982a2431b8cb\")>,\n",
       " <selenium.webdriver.remote.webelement.WebElement (session=\"c58a17a59ab39e4bd19661c0d8d03f8f\", element=\"46b7ad66-905e-499a-ae45-2a0347c9c0b7\")>,\n",
       " <selenium.webdriver.remote.webelement.WebElement (session=\"c58a17a59ab39e4bd19661c0d8d03f8f\", element=\"fed5705f-e687-4c0e-b14d-7b8445a8bfcf\")>,\n",
       " <selenium.webdriver.remote.webelement.WebElement (session=\"c58a17a59ab39e4bd19661c0d8d03f8f\", element=\"ea5a7d5f-5fef-4e6c-944a-2fefe2eadd3c\")>,\n",
       " <selenium.webdriver.remote.webelement.WebElement (session=\"c58a17a59ab39e4bd19661c0d8d03f8f\", element=\"9fa04346-c445-4388-a297-414dd12b4e53\")>,\n",
       " <selenium.webdriver.remote.webelement.WebElement (session=\"c58a17a59ab39e4bd19661c0d8d03f8f\", element=\"693f44cc-e437-4c9c-a5b6-c26ff3846771\")>,\n",
       " <selenium.webdriver.remote.webelement.WebElement (session=\"c58a17a59ab39e4bd19661c0d8d03f8f\", element=\"46d10986-55d5-45ad-94ea-e24bb123a4d5\")>,\n",
       " <selenium.webdriver.remote.webelement.WebElement (session=\"c58a17a59ab39e4bd19661c0d8d03f8f\", element=\"32f14b61-eb5a-4b79-bf5d-36097bbdd495\")>,\n",
       " <selenium.webdriver.remote.webelement.WebElement (session=\"c58a17a59ab39e4bd19661c0d8d03f8f\", element=\"643f939a-25f0-4adc-a804-4b625ec791ac\")>,\n",
       " <selenium.webdriver.remote.webelement.WebElement (session=\"c58a17a59ab39e4bd19661c0d8d03f8f\", element=\"46c2db6b-7f33-4cd0-9333-e872e7bb288d\")>,\n",
       " <selenium.webdriver.remote.webelement.WebElement (session=\"c58a17a59ab39e4bd19661c0d8d03f8f\", element=\"f87314e2-24f4-4b21-907b-bcecf2284586\")>,\n",
       " <selenium.webdriver.remote.webelement.WebElement (session=\"c58a17a59ab39e4bd19661c0d8d03f8f\", element=\"4e6b85fb-445f-4905-b82a-8a3337a34f4e\")>,\n",
       " <selenium.webdriver.remote.webelement.WebElement (session=\"c58a17a59ab39e4bd19661c0d8d03f8f\", element=\"d521686a-7e5e-41ed-8ac2-5d188e85384b\")>,\n",
       " <selenium.webdriver.remote.webelement.WebElement (session=\"c58a17a59ab39e4bd19661c0d8d03f8f\", element=\"ad96e9e9-98ca-4198-b4f4-c55b415847d7\")>,\n",
       " <selenium.webdriver.remote.webelement.WebElement (session=\"c58a17a59ab39e4bd19661c0d8d03f8f\", element=\"d0655080-e18d-4daf-a171-d938a064dc81\")>]"
      ]
     },
     "execution_count": 33,
     "metadata": {},
     "output_type": "execute_result"
    }
   ],
   "source": [
    "#finding job title element using xpath\n",
    "title_tags= driver.find_elements_by_xpath(\"//a[@class='title fw500 ellipsis']\")\n",
    "title_tags"
   ]
  },
  {
   "cell_type": "code",
   "execution_count": 34,
   "id": "af119e41",
   "metadata": {},
   "outputs": [
    {
     "data": {
      "text/plain": [
       "['Applied Data Scientist / ML Senior Engineer (Python / SQL)',\n",
       " 'Sr. Analyst - Applied Data Scientist',\n",
       " 'Data Scientist: Advanced Analytics',\n",
       " 'Data Scientist: Artificial Intelligence',\n",
       " 'Analyst - Applied Data Scientist',\n",
       " 'Research Data Scientist',\n",
       " 'Lead Applied Data Scientist',\n",
       " 'Senior Data Scientist Grade12',\n",
       " 'Senior Data Scientist Grade12',\n",
       " 'Data Scientist / Analyst',\n",
       " 'Assistant Manager/Manager/Senior Manager - Data Scientist',\n",
       " 'Data Scientist / Machine learning Engineer- Python/NLP',\n",
       " 'Data Scientist: Advanced Analytics',\n",
       " 'Data Scientist: Advanced Analytics',\n",
       " 'Data Scientist: Artificial Intelligence',\n",
       " 'Data Scientist: Artificial Intelligence',\n",
       " 'Data Scientist: Advanced Analytics',\n",
       " 'Data Scientist',\n",
       " 'Data Scientist',\n",
       " 'Data Scientist: Artificial Intelligence']"
      ]
     },
     "execution_count": 34,
     "metadata": {},
     "output_type": "execute_result"
    }
   ],
   "source": [
    "#getting all the available text in the title tags element with slicing to fetch only job_title \n",
    "job_title =[]\n",
    "\n",
    "for i in title_tags:\n",
    "    job_title.append(i.text)\n",
    "job_title"
   ]
  },
  {
   "cell_type": "code",
   "execution_count": 35,
   "id": "41597ce7",
   "metadata": {},
   "outputs": [
    {
     "data": {
      "text/plain": [
       "[<selenium.webdriver.remote.webelement.WebElement (session=\"c58a17a59ab39e4bd19661c0d8d03f8f\", element=\"2807fe83-52ee-450a-8465-26e761d7dd3a\")>,\n",
       " <selenium.webdriver.remote.webelement.WebElement (session=\"c58a17a59ab39e4bd19661c0d8d03f8f\", element=\"ad184eb0-d418-4011-ae5e-5b4ba29bf2ed\")>,\n",
       " <selenium.webdriver.remote.webelement.WebElement (session=\"c58a17a59ab39e4bd19661c0d8d03f8f\", element=\"9e089038-9b7f-4c45-a738-921863f335c0\")>,\n",
       " <selenium.webdriver.remote.webelement.WebElement (session=\"c58a17a59ab39e4bd19661c0d8d03f8f\", element=\"fe652784-da26-4116-9d69-ca5c760ef4e3\")>,\n",
       " <selenium.webdriver.remote.webelement.WebElement (session=\"c58a17a59ab39e4bd19661c0d8d03f8f\", element=\"790bb115-4b73-436c-845f-da313c4bf63a\")>,\n",
       " <selenium.webdriver.remote.webelement.WebElement (session=\"c58a17a59ab39e4bd19661c0d8d03f8f\", element=\"8cf14ea1-31dc-4524-93b6-916ebe364066\")>,\n",
       " <selenium.webdriver.remote.webelement.WebElement (session=\"c58a17a59ab39e4bd19661c0d8d03f8f\", element=\"8d639990-80de-456b-9dc5-e1f4bbf945cd\")>,\n",
       " <selenium.webdriver.remote.webelement.WebElement (session=\"c58a17a59ab39e4bd19661c0d8d03f8f\", element=\"d6d4f66f-9811-42b3-b868-df03d8780302\")>,\n",
       " <selenium.webdriver.remote.webelement.WebElement (session=\"c58a17a59ab39e4bd19661c0d8d03f8f\", element=\"bf8484d9-0359-464d-beba-a505e1087f77\")>,\n",
       " <selenium.webdriver.remote.webelement.WebElement (session=\"c58a17a59ab39e4bd19661c0d8d03f8f\", element=\"30d9b1bd-347a-43be-868c-cb780e4f35cb\")>,\n",
       " <selenium.webdriver.remote.webelement.WebElement (session=\"c58a17a59ab39e4bd19661c0d8d03f8f\", element=\"5452c4a8-7a21-472e-b31c-ab0cbfc2e59c\")>,\n",
       " <selenium.webdriver.remote.webelement.WebElement (session=\"c58a17a59ab39e4bd19661c0d8d03f8f\", element=\"bd08bc46-a35d-4dd4-8680-1cb98de55d31\")>,\n",
       " <selenium.webdriver.remote.webelement.WebElement (session=\"c58a17a59ab39e4bd19661c0d8d03f8f\", element=\"2614fbf0-4d4d-4634-8a16-15634f1a0057\")>,\n",
       " <selenium.webdriver.remote.webelement.WebElement (session=\"c58a17a59ab39e4bd19661c0d8d03f8f\", element=\"0044a9be-73e4-4fd3-b9ec-52c6042bbd3e\")>,\n",
       " <selenium.webdriver.remote.webelement.WebElement (session=\"c58a17a59ab39e4bd19661c0d8d03f8f\", element=\"4643fef9-46d7-4311-ae23-781c1e44ad71\")>,\n",
       " <selenium.webdriver.remote.webelement.WebElement (session=\"c58a17a59ab39e4bd19661c0d8d03f8f\", element=\"25b86848-add8-49ba-98d7-e7b2ce6a453a\")>,\n",
       " <selenium.webdriver.remote.webelement.WebElement (session=\"c58a17a59ab39e4bd19661c0d8d03f8f\", element=\"c759b71c-ea6b-4046-8060-fe5badb2d6b2\")>,\n",
       " <selenium.webdriver.remote.webelement.WebElement (session=\"c58a17a59ab39e4bd19661c0d8d03f8f\", element=\"4f7810fb-7bf0-449f-91cf-c22a311a466c\")>,\n",
       " <selenium.webdriver.remote.webelement.WebElement (session=\"c58a17a59ab39e4bd19661c0d8d03f8f\", element=\"acc272c0-77a3-437e-9066-a1571522154b\")>,\n",
       " <selenium.webdriver.remote.webelement.WebElement (session=\"c58a17a59ab39e4bd19661c0d8d03f8f\", element=\"927ff94a-7af9-4f7e-8633-9098edd3e25e\")>]"
      ]
     },
     "execution_count": 35,
     "metadata": {},
     "output_type": "execute_result"
    }
   ],
   "source": [
    "#finding location   element using xpath\n",
    "location_tag = driver.find_elements_by_xpath(\"//li[@class='fleft grey-text br2 placeHolderLi location']\")\n",
    "location_tag"
   ]
  },
  {
   "cell_type": "code",
   "execution_count": 36,
   "id": "605a814a",
   "metadata": {},
   "outputs": [
    {
     "data": {
      "text/plain": [
       "['Bangalore/Bengaluru',\n",
       " 'Bangalore/Bengaluru',\n",
       " 'Bangalore/Bengaluru',\n",
       " 'Bangalore/Bengaluru',\n",
       " 'Bangalore/Bengaluru',\n",
       " 'Bangalore/Bengaluru',\n",
       " 'Bangalore/Bengaluru',\n",
       " 'Bangalore/Bengaluru',\n",
       " 'Bangalore/Bengaluru',\n",
       " 'Bangalore/Bengaluru',\n",
       " 'Gurgaon/Gurugram, Bangalore/Bengaluru',\n",
       " 'Gurgaon/Gurugram, Bangalore/Bengaluru, Delhi / NCR\\n(WFH during Covid)',\n",
       " 'Bangalore/Bengaluru',\n",
       " 'Bangalore/Bengaluru',\n",
       " 'Bangalore/Bengaluru',\n",
       " 'Bangalore/Bengaluru',\n",
       " 'Bengaluru/Bangalore',\n",
       " 'Hyderabad/Secunderabad, Bangalore/Bengaluru, Delhi / NCR',\n",
       " 'Bangalore/Bengaluru',\n",
       " 'Bangalore/Bengaluru']"
      ]
     },
     "execution_count": 36,
     "metadata": {},
     "output_type": "execute_result"
    }
   ],
   "source": [
    "#getting all the available text in the location_tag element with slicing to fetch only location \n",
    "location =[]\n",
    "\n",
    "for i in location_tag:\n",
    "    location.append(i.text)\n",
    "location"
   ]
  },
  {
   "cell_type": "code",
   "execution_count": 37,
   "id": "6c1a9559",
   "metadata": {},
   "outputs": [
    {
     "data": {
      "text/plain": [
       "[<selenium.webdriver.remote.webelement.WebElement (session=\"c58a17a59ab39e4bd19661c0d8d03f8f\", element=\"f518f317-daec-4945-b269-2369a1d9bb06\")>,\n",
       " <selenium.webdriver.remote.webelement.WebElement (session=\"c58a17a59ab39e4bd19661c0d8d03f8f\", element=\"04347948-9893-4a0a-8d17-4feff13054c3\")>,\n",
       " <selenium.webdriver.remote.webelement.WebElement (session=\"c58a17a59ab39e4bd19661c0d8d03f8f\", element=\"59d48507-9c27-491d-bce2-88fb1d97e73c\")>,\n",
       " <selenium.webdriver.remote.webelement.WebElement (session=\"c58a17a59ab39e4bd19661c0d8d03f8f\", element=\"da2b76c7-9551-4963-8a5e-ae82e6df8750\")>,\n",
       " <selenium.webdriver.remote.webelement.WebElement (session=\"c58a17a59ab39e4bd19661c0d8d03f8f\", element=\"278028e8-b12d-4c3a-9ec9-7e3b6ce2cb1d\")>,\n",
       " <selenium.webdriver.remote.webelement.WebElement (session=\"c58a17a59ab39e4bd19661c0d8d03f8f\", element=\"7b6d2b07-54d9-45d8-a10a-d7c7173d5747\")>,\n",
       " <selenium.webdriver.remote.webelement.WebElement (session=\"c58a17a59ab39e4bd19661c0d8d03f8f\", element=\"08a99eef-a4b7-4bfe-b78f-64f18980e58d\")>,\n",
       " <selenium.webdriver.remote.webelement.WebElement (session=\"c58a17a59ab39e4bd19661c0d8d03f8f\", element=\"03091f8c-98fd-4e67-aa17-8a5c105a0381\")>,\n",
       " <selenium.webdriver.remote.webelement.WebElement (session=\"c58a17a59ab39e4bd19661c0d8d03f8f\", element=\"ab6b5428-bf71-49eb-984b-f3b05939461b\")>,\n",
       " <selenium.webdriver.remote.webelement.WebElement (session=\"c58a17a59ab39e4bd19661c0d8d03f8f\", element=\"cd4deb04-60f3-4fa5-a3ad-a3dc6aaf5d67\")>,\n",
       " <selenium.webdriver.remote.webelement.WebElement (session=\"c58a17a59ab39e4bd19661c0d8d03f8f\", element=\"ce3df431-902c-45cc-9f2c-dea20db66bcb\")>,\n",
       " <selenium.webdriver.remote.webelement.WebElement (session=\"c58a17a59ab39e4bd19661c0d8d03f8f\", element=\"78f08e2e-9282-42b8-8571-549d8a706e4e\")>,\n",
       " <selenium.webdriver.remote.webelement.WebElement (session=\"c58a17a59ab39e4bd19661c0d8d03f8f\", element=\"866a9d98-92ce-43c4-95bd-c050a5735bf0\")>,\n",
       " <selenium.webdriver.remote.webelement.WebElement (session=\"c58a17a59ab39e4bd19661c0d8d03f8f\", element=\"96c399dd-b5d9-4584-b366-24fc87ccce43\")>,\n",
       " <selenium.webdriver.remote.webelement.WebElement (session=\"c58a17a59ab39e4bd19661c0d8d03f8f\", element=\"dcb70a50-afae-48bf-beb5-ae71bb18b9de\")>,\n",
       " <selenium.webdriver.remote.webelement.WebElement (session=\"c58a17a59ab39e4bd19661c0d8d03f8f\", element=\"0faccfd6-ab9a-495f-b02f-2367efb4a552\")>,\n",
       " <selenium.webdriver.remote.webelement.WebElement (session=\"c58a17a59ab39e4bd19661c0d8d03f8f\", element=\"b1890ef0-804f-4045-a0ec-802c1c9e5450\")>,\n",
       " <selenium.webdriver.remote.webelement.WebElement (session=\"c58a17a59ab39e4bd19661c0d8d03f8f\", element=\"14aa42b8-49f7-45c2-bd41-505e60a62ac1\")>,\n",
       " <selenium.webdriver.remote.webelement.WebElement (session=\"c58a17a59ab39e4bd19661c0d8d03f8f\", element=\"4946b5c1-7bbf-4bc3-b951-d49d7888b25a\")>,\n",
       " <selenium.webdriver.remote.webelement.WebElement (session=\"c58a17a59ab39e4bd19661c0d8d03f8f\", element=\"7a3f658b-9b19-49ad-ba54-139a25a58a30\")>]"
      ]
     },
     "execution_count": 37,
     "metadata": {},
     "output_type": "execute_result"
    }
   ],
   "source": [
    "#finding company name element using xpath\n",
    "company_tag = driver.find_elements_by_xpath(\"//a[@class='subTitle ellipsis fleft']\")\n",
    "company_tag"
   ]
  },
  {
   "cell_type": "code",
   "execution_count": 38,
   "id": "0f282857",
   "metadata": {},
   "outputs": [
    {
     "data": {
      "text/plain": [
       "['SAP India Pvt.Ltd',\n",
       " 'Tesco',\n",
       " 'IBM',\n",
       " 'IBM',\n",
       " 'Tesco',\n",
       " 'Mavenir',\n",
       " 'Tesco Bengaluru',\n",
       " 'Flipkart',\n",
       " 'Flipkart',\n",
       " 'Deutsche Bank',\n",
       " 'Huquo Consulting Pvt. Ltd',\n",
       " 'Leading US MNC into Analytics',\n",
       " 'IBM',\n",
       " 'IBM',\n",
       " 'IBM',\n",
       " 'IBM',\n",
       " 'IBM',\n",
       " 'Genpact',\n",
       " 'VISA',\n",
       " 'IBM']"
      ]
     },
     "execution_count": 38,
     "metadata": {},
     "output_type": "execute_result"
    }
   ],
   "source": [
    "#getting all the available text in the company_tag element to fetch company name and appending the same in for loop\n",
    "company_name = []\n",
    "\n",
    "for i in company_tag:\n",
    "    company_name.append(i.text)\n",
    "company_name"
   ]
  },
  {
   "cell_type": "code",
   "execution_count": 39,
   "id": "5c89db42",
   "metadata": {},
   "outputs": [
    {
     "data": {
      "text/html": [
       "<div>\n",
       "<style scoped>\n",
       "    .dataframe tbody tr th:only-of-type {\n",
       "        vertical-align: middle;\n",
       "    }\n",
       "\n",
       "    .dataframe tbody tr th {\n",
       "        vertical-align: top;\n",
       "    }\n",
       "\n",
       "    .dataframe thead th {\n",
       "        text-align: right;\n",
       "    }\n",
       "</style>\n",
       "<table border=\"1\" class=\"dataframe\">\n",
       "  <thead>\n",
       "    <tr style=\"text-align: right;\">\n",
       "      <th></th>\n",
       "      <th>Job_title</th>\n",
       "      <th>Company_name</th>\n",
       "      <th>Location</th>\n",
       "    </tr>\n",
       "  </thead>\n",
       "  <tbody>\n",
       "    <tr>\n",
       "      <th>0</th>\n",
       "      <td>Applied Data Scientist / ML Senior Engineer (P...</td>\n",
       "      <td>SAP India Pvt.Ltd</td>\n",
       "      <td>Bangalore/Bengaluru</td>\n",
       "    </tr>\n",
       "    <tr>\n",
       "      <th>1</th>\n",
       "      <td>Sr. Analyst - Applied Data Scientist</td>\n",
       "      <td>Tesco</td>\n",
       "      <td>Bangalore/Bengaluru</td>\n",
       "    </tr>\n",
       "    <tr>\n",
       "      <th>2</th>\n",
       "      <td>Data Scientist: Advanced Analytics</td>\n",
       "      <td>IBM</td>\n",
       "      <td>Bangalore/Bengaluru</td>\n",
       "    </tr>\n",
       "    <tr>\n",
       "      <th>3</th>\n",
       "      <td>Data Scientist: Artificial Intelligence</td>\n",
       "      <td>IBM</td>\n",
       "      <td>Bangalore/Bengaluru</td>\n",
       "    </tr>\n",
       "    <tr>\n",
       "      <th>4</th>\n",
       "      <td>Analyst - Applied Data Scientist</td>\n",
       "      <td>Tesco</td>\n",
       "      <td>Bangalore/Bengaluru</td>\n",
       "    </tr>\n",
       "    <tr>\n",
       "      <th>5</th>\n",
       "      <td>Research Data Scientist</td>\n",
       "      <td>Mavenir</td>\n",
       "      <td>Bangalore/Bengaluru</td>\n",
       "    </tr>\n",
       "    <tr>\n",
       "      <th>6</th>\n",
       "      <td>Lead Applied Data Scientist</td>\n",
       "      <td>Tesco Bengaluru</td>\n",
       "      <td>Bangalore/Bengaluru</td>\n",
       "    </tr>\n",
       "    <tr>\n",
       "      <th>7</th>\n",
       "      <td>Senior Data Scientist Grade12</td>\n",
       "      <td>Flipkart</td>\n",
       "      <td>Bangalore/Bengaluru</td>\n",
       "    </tr>\n",
       "    <tr>\n",
       "      <th>8</th>\n",
       "      <td>Senior Data Scientist Grade12</td>\n",
       "      <td>Flipkart</td>\n",
       "      <td>Bangalore/Bengaluru</td>\n",
       "    </tr>\n",
       "    <tr>\n",
       "      <th>9</th>\n",
       "      <td>Data Scientist / Analyst</td>\n",
       "      <td>Deutsche Bank</td>\n",
       "      <td>Bangalore/Bengaluru</td>\n",
       "    </tr>\n",
       "  </tbody>\n",
       "</table>\n",
       "</div>"
      ],
      "text/plain": [
       "                                           Job_title       Company_name  \\\n",
       "0  Applied Data Scientist / ML Senior Engineer (P...  SAP India Pvt.Ltd   \n",
       "1               Sr. Analyst - Applied Data Scientist              Tesco   \n",
       "2                 Data Scientist: Advanced Analytics                IBM   \n",
       "3            Data Scientist: Artificial Intelligence                IBM   \n",
       "4                   Analyst - Applied Data Scientist              Tesco   \n",
       "5                            Research Data Scientist            Mavenir   \n",
       "6                        Lead Applied Data Scientist    Tesco Bengaluru   \n",
       "7                      Senior Data Scientist Grade12           Flipkart   \n",
       "8                      Senior Data Scientist Grade12           Flipkart   \n",
       "9                           Data Scientist / Analyst      Deutsche Bank   \n",
       "\n",
       "              Location  \n",
       "0  Bangalore/Bengaluru  \n",
       "1  Bangalore/Bengaluru  \n",
       "2  Bangalore/Bengaluru  \n",
       "3  Bangalore/Bengaluru  \n",
       "4  Bangalore/Bengaluru  \n",
       "5  Bangalore/Bengaluru  \n",
       "6  Bangalore/Bengaluru  \n",
       "7  Bangalore/Bengaluru  \n",
       "8  Bangalore/Bengaluru  \n",
       "9  Bangalore/Bengaluru  "
      ]
     },
     "execution_count": 39,
     "metadata": {},
     "output_type": "execute_result"
    }
   ],
   "source": [
    "# creating dataframe and assigning lists to columns\n",
    "df1 = pd.DataFrame({})\n",
    "df1['Job_title'] = job_title\n",
    "df1['Company_name'] = company_name\n",
    "\n",
    "df1['Location'] = location\n",
    "df1 = df1[0:10]\n",
    "df1"
   ]
  },
  {
   "cell_type": "markdown",
   "id": "634260b8",
   "metadata": {},
   "source": [
    "# Q3: In this question you have to scrape data using the filters available on thewebpage"
   ]
  },
  {
   "cell_type": "code",
   "execution_count": 66,
   "id": "4f059d68",
   "metadata": {},
   "outputs": [],
   "source": [
    "import selenium\n",
    "import pandas as pd\n",
    "from selenium import webdriver\n",
    "import warnings\n",
    "warnings.filterwarnings(\"ignore\")\n",
    "import time"
   ]
  },
  {
   "cell_type": "code",
   "execution_count": 67,
   "id": "2226c31f",
   "metadata": {},
   "outputs": [],
   "source": [
    "driver = webdriver.Chrome(r\"C:\\chrome driver\\chromedriver.exe\")"
   ]
  },
  {
   "cell_type": "code",
   "execution_count": 68,
   "id": "6968b6e9",
   "metadata": {},
   "outputs": [],
   "source": [
    "driver = webdriver.Chrome(\"chromedriver.exe\")\n",
    "time.sleep(2)"
   ]
  },
  {
   "cell_type": "code",
   "execution_count": 69,
   "id": "8ae981a2",
   "metadata": {},
   "outputs": [],
   "source": [
    "driver.get ('https://www.naukri.com/')"
   ]
  },
  {
   "cell_type": "code",
   "execution_count": 70,
   "id": "c3e2f935",
   "metadata": {},
   "outputs": [],
   "source": [
    "search_field_designation=driver.find_element_by_class_name(\"suggestor-input \")\n",
    "search_field_designation.send_keys(\"Data scientist\")"
   ]
  },
  {
   "cell_type": "code",
   "execution_count": 71,
   "id": "bbf69de7",
   "metadata": {},
   "outputs": [],
   "source": [
    "search_button=driver.find_element_by_xpath('/html/body/div/div[2]/div[3]/div/div/div[6]')\n",
    "search_button.click()"
   ]
  },
  {
   "cell_type": "code",
   "execution_count": 72,
   "id": "a98c7f48",
   "metadata": {},
   "outputs": [
    {
     "data": {
      "text/plain": [
       "['Jobs Territory',\n",
       " 'Ashkom Media India Private Limited',\n",
       " 'EASY DATA ANALYTICS TECHNOLOGY PRIVATE LIMITED',\n",
       " 'AXA Technology Services India Pvt. Ltd',\n",
       " 'Skyleaf Consultants',\n",
       " '2Coms',\n",
       " 'Creative Hands HR Consultancy',\n",
       " 'BlackBuck',\n",
       " 'Optum',\n",
       " 'Shadow Placements',\n",
       " 'Boston Consulting Group',\n",
       " 'Lumiq.ai',\n",
       " 'iNICU',\n",
       " 'Nibha Infotech Private Limited',\n",
       " 'Country Veggie',\n",
       " 'Care Health Insurance',\n",
       " 'Right Step Consulting',\n",
       " 'Seven Consultancy (HR Solution)',\n",
       " 'TeamPlus Staffing Solution Pvt Ltd',\n",
       " 'T & A Solutions']"
      ]
     },
     "execution_count": 72,
     "metadata": {},
     "output_type": "execute_result"
    }
   ],
   "source": [
    "#finding job title element using xpath\n",
    "title_tags2= driver.find_elements_by_xpath(\"//a[@class='title fw500 ellipsis']\")\n",
    "title_tags2\n",
    "\n",
    "#getting all the available text in the title_tags element\n",
    "job_title2 =[]\n",
    "\n",
    "for i in title_tags2:\n",
    "    job_title2.append(i.text)\n",
    "\n",
    "#printing job_title\n",
    "job_title2\n",
    "\n",
    "#finding location   element using xpath\n",
    "location_tag2 = driver.find_elements_by_xpath(\"//span[@class='ellipsis fleft fs12 lh16']\")\n",
    "location_tag2\n",
    "\n",
    "#getting all the available text in the location_tag element with slicing to fetch only location \n",
    "location3 =[]\n",
    "\n",
    "for i in location_tag2[2::3]:\n",
    "    location3.append(i.text)\n",
    "\n",
    "#printing location \n",
    "location3\n",
    "#experience\n",
    "experience_2 = driver.find_elements_by_xpath(\"//i[@class='fleft icon-16 lh16 mr-4 naukicon naukicon-experience']//span\")\n",
    "experience_2\n",
    "\n",
    "#getting all the available text in the location_tag element with slicing to fetch only experience \n",
    "experience2 = []\n",
    "for i in location_tag2[0::3]:\n",
    "    experience2.append(i.text)\n",
    "\n",
    "#printing experience\n",
    "experience2\n",
    "\n",
    "#finding company name element using xpath\n",
    "company_tag2 = driver.find_elements_by_xpath(\"//a[@class='subTitle ellipsis fleft']\")\n",
    "company_tag2\n",
    "\n",
    "#getting all the available text in the company_tag element to fetch company name and appending the same in for loop\n",
    "company_name2 = []\n",
    "\n",
    "for i in company_tag2:\n",
    "    company_name2.append(i.text)\n",
    "\n",
    "#printing company name\n",
    "company_name2"
   ]
  },
  {
   "cell_type": "code",
   "execution_count": 73,
   "id": "99788966",
   "metadata": {},
   "outputs": [
    {
     "name": "stdout",
     "output_type": "stream",
     "text": [
      "20 20 0 0\n"
     ]
    }
   ],
   "source": [
    "print(len(job_title2),len(company_name2),len(experience2),len( location3))"
   ]
  },
  {
   "cell_type": "code",
   "execution_count": 74,
   "id": "31f991f6",
   "metadata": {},
   "outputs": [
    {
     "data": {
      "text/html": [
       "<div>\n",
       "<style scoped>\n",
       "    .dataframe tbody tr th:only-of-type {\n",
       "        vertical-align: middle;\n",
       "    }\n",
       "\n",
       "    .dataframe tbody tr th {\n",
       "        vertical-align: top;\n",
       "    }\n",
       "\n",
       "    .dataframe thead th {\n",
       "        text-align: right;\n",
       "    }\n",
       "</style>\n",
       "<table border=\"1\" class=\"dataframe\">\n",
       "  <thead>\n",
       "    <tr style=\"text-align: right;\">\n",
       "      <th></th>\n",
       "      <th>Job_title</th>\n",
       "      <th>Company_name</th>\n",
       "    </tr>\n",
       "  </thead>\n",
       "  <tbody>\n",
       "    <tr>\n",
       "      <th>0</th>\n",
       "      <td>Data Scientist - Internet Jobs - II</td>\n",
       "      <td>Jobs Territory</td>\n",
       "    </tr>\n",
       "    <tr>\n",
       "      <th>1</th>\n",
       "      <td>Data Scientist</td>\n",
       "      <td>Ashkom Media India Private Limited</td>\n",
       "    </tr>\n",
       "    <tr>\n",
       "      <th>2</th>\n",
       "      <td>Junior Data Scientist</td>\n",
       "      <td>EASY DATA ANALYTICS TECHNOLOGY PRIVATE LIMITED</td>\n",
       "    </tr>\n",
       "    <tr>\n",
       "      <th>3</th>\n",
       "      <td>Associate Scientist - Data Engineering</td>\n",
       "      <td>AXA Technology Services India Pvt. Ltd</td>\n",
       "    </tr>\n",
       "    <tr>\n",
       "      <th>4</th>\n",
       "      <td>Data Scientist || Software Company || Immediat...</td>\n",
       "      <td>Skyleaf Consultants</td>\n",
       "    </tr>\n",
       "    <tr>\n",
       "      <th>5</th>\n",
       "      <td>Data Scientist (freelance)</td>\n",
       "      <td>2Coms</td>\n",
       "    </tr>\n",
       "    <tr>\n",
       "      <th>6</th>\n",
       "      <td>Data Scientist/ Machine Learning, 2022 Passout...</td>\n",
       "      <td>Creative Hands HR Consultancy</td>\n",
       "    </tr>\n",
       "    <tr>\n",
       "      <th>7</th>\n",
       "      <td>Data Scientist</td>\n",
       "      <td>BlackBuck</td>\n",
       "    </tr>\n",
       "    <tr>\n",
       "      <th>8</th>\n",
       "      <td>Associate Data Scientist</td>\n",
       "      <td>Optum</td>\n",
       "    </tr>\n",
       "    <tr>\n",
       "      <th>9</th>\n",
       "      <td>Hiring For Data Analyst and Data Scientist For...</td>\n",
       "      <td>Shadow Placements</td>\n",
       "    </tr>\n",
       "    <tr>\n",
       "      <th>10</th>\n",
       "      <td>Data Scientist</td>\n",
       "      <td>Boston Consulting Group</td>\n",
       "    </tr>\n",
       "    <tr>\n",
       "      <th>11</th>\n",
       "      <td>Hiring For Senior Data Scientist-Noida</td>\n",
       "      <td>Lumiq.ai</td>\n",
       "    </tr>\n",
       "    <tr>\n",
       "      <th>12</th>\n",
       "      <td>Senior Data Scientist</td>\n",
       "      <td>iNICU</td>\n",
       "    </tr>\n",
       "    <tr>\n",
       "      <th>13</th>\n",
       "      <td>Data Scientists</td>\n",
       "      <td>Nibha Infotech Private Limited</td>\n",
       "    </tr>\n",
       "    <tr>\n",
       "      <th>14</th>\n",
       "      <td>Data Scientist</td>\n",
       "      <td>Country Veggie</td>\n",
       "    </tr>\n",
       "    <tr>\n",
       "      <th>15</th>\n",
       "      <td>Opening For Data Scientist</td>\n",
       "      <td>Care Health Insurance</td>\n",
       "    </tr>\n",
       "    <tr>\n",
       "      <th>16</th>\n",
       "      <td>Associate Data Scientist</td>\n",
       "      <td>Right Step Consulting</td>\n",
       "    </tr>\n",
       "    <tr>\n",
       "      <th>17</th>\n",
       "      <td>Junior AI Data Scientist</td>\n",
       "      <td>Seven Consultancy (HR Solution)</td>\n",
       "    </tr>\n",
       "    <tr>\n",
       "      <th>18</th>\n",
       "      <td>Data scientist- Python</td>\n",
       "      <td>TeamPlus Staffing Solution Pvt Ltd</td>\n",
       "    </tr>\n",
       "    <tr>\n",
       "      <th>19</th>\n",
       "      <td>Data Scientist</td>\n",
       "      <td>T &amp; A Solutions</td>\n",
       "    </tr>\n",
       "  </tbody>\n",
       "</table>\n",
       "</div>"
      ],
      "text/plain": [
       "                                            Job_title  \\\n",
       "0                 Data Scientist - Internet Jobs - II   \n",
       "1                                      Data Scientist   \n",
       "2                               Junior Data Scientist   \n",
       "3              Associate Scientist - Data Engineering   \n",
       "4   Data Scientist || Software Company || Immediat...   \n",
       "5                          Data Scientist (freelance)   \n",
       "6   Data Scientist/ Machine Learning, 2022 Passout...   \n",
       "7                                      Data Scientist   \n",
       "8                            Associate Data Scientist   \n",
       "9   Hiring For Data Analyst and Data Scientist For...   \n",
       "10                                     Data Scientist   \n",
       "11             Hiring For Senior Data Scientist-Noida   \n",
       "12                              Senior Data Scientist   \n",
       "13                                    Data Scientists   \n",
       "14                                     Data Scientist   \n",
       "15                         Opening For Data Scientist   \n",
       "16                           Associate Data Scientist   \n",
       "17                           Junior AI Data Scientist   \n",
       "18                             Data scientist- Python   \n",
       "19                                     Data Scientist   \n",
       "\n",
       "                                      Company_name  \n",
       "0                                   Jobs Territory  \n",
       "1               Ashkom Media India Private Limited  \n",
       "2   EASY DATA ANALYTICS TECHNOLOGY PRIVATE LIMITED  \n",
       "3           AXA Technology Services India Pvt. Ltd  \n",
       "4                              Skyleaf Consultants  \n",
       "5                                            2Coms  \n",
       "6                    Creative Hands HR Consultancy  \n",
       "7                                        BlackBuck  \n",
       "8                                            Optum  \n",
       "9                                Shadow Placements  \n",
       "10                         Boston Consulting Group  \n",
       "11                                        Lumiq.ai  \n",
       "12                                           iNICU  \n",
       "13                  Nibha Infotech Private Limited  \n",
       "14                                  Country Veggie  \n",
       "15                           Care Health Insurance  \n",
       "16                           Right Step Consulting  \n",
       "17                 Seven Consultancy (HR Solution)  \n",
       "18              TeamPlus Staffing Solution Pvt Ltd  \n",
       "19                                 T & A Solutions  "
      ]
     },
     "execution_count": 74,
     "metadata": {},
     "output_type": "execute_result"
    }
   ],
   "source": [
    "# creating dataframe and assigning lists to columns\n",
    "df2 = pd.DataFrame({})\n",
    "df2['Job_title'] = job_title2\n",
    "df2['Company_name'] = company_name2\n",
    "df2\n",
    "\n",
    "df2"
   ]
  },
  {
   "cell_type": "markdown",
   "id": "0849e918",
   "metadata": {},
   "source": [
    "# Q4:Scrape data of first 100 sunglasses listings on flipkart.com."
   ]
  },
  {
   "cell_type": "code",
   "execution_count": 75,
   "id": "a79fc17c",
   "metadata": {},
   "outputs": [],
   "source": [
    "import selenium\n",
    "import pandas as pd\n",
    "from selenium import webdriver\n",
    "import warnings\n",
    "warnings.filterwarnings(\"ignore\")\n",
    "import time"
   ]
  },
  {
   "cell_type": "code",
   "execution_count": 76,
   "id": "2df33c3e",
   "metadata": {},
   "outputs": [],
   "source": [
    "driver = webdriver.Chrome(r\"C:\\chrome driver\\chromedriver.exe\")"
   ]
  },
  {
   "cell_type": "code",
   "execution_count": 77,
   "id": "70ee5056",
   "metadata": {},
   "outputs": [],
   "source": [
    "driver.get ('https://www.flipkart.com/')"
   ]
  },
  {
   "cell_type": "code",
   "execution_count": 78,
   "id": "e06acc90",
   "metadata": {},
   "outputs": [],
   "source": [
    "input_search=driver.find_element_by_xpath(\"/html/body/div[1]/div/div[1]/div[1]/div[2]/div[2]/form/div/div/input\")\n",
    "input_search.send_keys(\"sunglasses\")\n"
   ]
  },
  {
   "cell_type": "code",
   "execution_count": 79,
   "id": "27927f5d",
   "metadata": {},
   "outputs": [],
   "source": [
    "search_button=driver.find_element_by_xpath(\"/html/body/div[1]/div/div[1]/div[1]/div[2]/div[2]/form/div/button\")\n",
    "search_button.click()\n"
   ]
  },
  {
   "cell_type": "code",
   "execution_count": 82,
   "id": "f0893ad5",
   "metadata": {},
   "outputs": [],
   "source": [
    "brand_name = []\n",
    "prd_desc = []\n",
    "price = []\n",
    "discount = []"
   ]
  },
  {
   "cell_type": "code",
   "execution_count": 83,
   "id": "107b22e6",
   "metadata": {},
   "outputs": [],
   "source": [
    "for k in range(1,4):\n",
    "\n",
    "    \n",
    "    brand = driver.find_elements_by_class_name('_2WkVRV')\n",
    "    \n",
    "\n",
    "    for i in brand:\n",
    "        brand_name.append(i.text)\n",
    "\n",
    "    desc = driver.find_elements_by_class_name('IRpwTa')\n",
    "    \n",
    "\n",
    "    for i in desc:\n",
    "        prd_desc.append(i.text)\n",
    "\n",
    "    cost = driver.find_elements_by_class_name(\"_30jeq3\")\n",
    "    \n",
    "\n",
    "    for i in cost:\n",
    "        price.append(i.text)\n",
    "\n",
    "\n",
    "    dis = driver.find_elements_by_class_name(\"_3Ay6Sb\")\n",
    "    \n",
    "\n",
    "    for i in dis:\n",
    "        discount.append(i.text)\n",
    "    \n",
    "    \n",
    "        nxt_button=driver.find_elements_by_xpath(\"//a[@class='_1LKTO3']\")              #scraping the list of buttons from the page\n",
    "\n",
    "    try:\n",
    "\n",
    "        driver.get(nxt_button[1].get_attribute('href'))#getting the link from the list for next page\n",
    "        \n",
    "\n",
    "    except:\n",
    "\n",
    "        driver.get(nxt_button[0].get_attribute('href'))"
   ]
  },
  {
   "cell_type": "code",
   "execution_count": 84,
   "id": "df0f9dc6",
   "metadata": {},
   "outputs": [],
   "source": [
    "brand_name = brand_name[0:100]\n",
    "prd_desc = prd_desc[0:100]\n",
    "price = price[0:100]\n",
    "discount = discount[0:100]"
   ]
  },
  {
   "cell_type": "code",
   "execution_count": 85,
   "id": "d1983bed",
   "metadata": {},
   "outputs": [],
   "source": [
    "# creating dataframe and assigning lists to columns\n",
    "df4 = pd.DataFrame({})\n",
    "df4['brand_name'] = brand_name\n",
    "df4['prd_desc'] = prd_desc\n",
    "df4['[price]'] = price\n",
    "df4['discount'] = discount"
   ]
  },
  {
   "cell_type": "code",
   "execution_count": 86,
   "id": "a249169b",
   "metadata": {},
   "outputs": [
    {
     "data": {
      "text/html": [
       "<div>\n",
       "<style scoped>\n",
       "    .dataframe tbody tr th:only-of-type {\n",
       "        vertical-align: middle;\n",
       "    }\n",
       "\n",
       "    .dataframe tbody tr th {\n",
       "        vertical-align: top;\n",
       "    }\n",
       "\n",
       "    .dataframe thead th {\n",
       "        text-align: right;\n",
       "    }\n",
       "</style>\n",
       "<table border=\"1\" class=\"dataframe\">\n",
       "  <thead>\n",
       "    <tr style=\"text-align: right;\">\n",
       "      <th></th>\n",
       "      <th>brand_name</th>\n",
       "      <th>prd_desc</th>\n",
       "      <th>[price]</th>\n",
       "      <th>discount</th>\n",
       "    </tr>\n",
       "  </thead>\n",
       "  <tbody>\n",
       "    <tr>\n",
       "      <th>0</th>\n",
       "      <td>VINCENT CHASE</td>\n",
       "      <td>UV Protection Cat-eye Sunglasses (54)</td>\n",
       "      <td>₹599</td>\n",
       "      <td>70% off</td>\n",
       "    </tr>\n",
       "    <tr>\n",
       "      <th>1</th>\n",
       "      <td>VINCENT CHASE</td>\n",
       "      <td>UV Protection Rectangular Sunglasses (50)</td>\n",
       "      <td>₹599</td>\n",
       "      <td>70% off</td>\n",
       "    </tr>\n",
       "    <tr>\n",
       "      <th>2</th>\n",
       "      <td>Fastrack</td>\n",
       "      <td>UV Protection Wayfarer Sunglasses (Free Size)</td>\n",
       "      <td>₹669</td>\n",
       "      <td>25% off</td>\n",
       "    </tr>\n",
       "    <tr>\n",
       "      <th>3</th>\n",
       "      <td>Fastrack</td>\n",
       "      <td>UV Protection Rectangular Sunglasses (Free Size)</td>\n",
       "      <td>₹589</td>\n",
       "      <td>26% off</td>\n",
       "    </tr>\n",
       "    <tr>\n",
       "      <th>4</th>\n",
       "      <td>PIRASO</td>\n",
       "      <td>UV Protection Aviator Sunglasses (54)</td>\n",
       "      <td>₹199</td>\n",
       "      <td>87% off</td>\n",
       "    </tr>\n",
       "    <tr>\n",
       "      <th>...</th>\n",
       "      <td>...</td>\n",
       "      <td>...</td>\n",
       "      <td>...</td>\n",
       "      <td>...</td>\n",
       "    </tr>\n",
       "    <tr>\n",
       "      <th>95</th>\n",
       "      <td>ROZZETTA CRAFT</td>\n",
       "      <td>UV Protection, Gradient Rectangular Sunglasses...</td>\n",
       "      <td>₹679</td>\n",
       "      <td>72% off</td>\n",
       "    </tr>\n",
       "    <tr>\n",
       "      <th>96</th>\n",
       "      <td>Singco India</td>\n",
       "      <td>Riding Glasses, UV Protection, Others Aviator ...</td>\n",
       "      <td>₹175</td>\n",
       "      <td>89% off</td>\n",
       "    </tr>\n",
       "    <tr>\n",
       "      <th>97</th>\n",
       "      <td>ROZZETTA CRAFT</td>\n",
       "      <td>UV Protection, Riding Glasses Rectangular Sung...</td>\n",
       "      <td>₹599</td>\n",
       "      <td>70% off</td>\n",
       "    </tr>\n",
       "    <tr>\n",
       "      <th>98</th>\n",
       "      <td>Fastrack</td>\n",
       "      <td>Polarized Retro Square Sunglasses (Free Size)</td>\n",
       "      <td>₹265</td>\n",
       "      <td>73% off</td>\n",
       "    </tr>\n",
       "    <tr>\n",
       "      <th>99</th>\n",
       "      <td>john jacobs</td>\n",
       "      <td>UV Protection Round Sunglasses (54)</td>\n",
       "      <td>₹849</td>\n",
       "      <td>57% off</td>\n",
       "    </tr>\n",
       "  </tbody>\n",
       "</table>\n",
       "<p>100 rows × 4 columns</p>\n",
       "</div>"
      ],
      "text/plain": [
       "        brand_name                                           prd_desc [price]  \\\n",
       "0    VINCENT CHASE              UV Protection Cat-eye Sunglasses (54)    ₹599   \n",
       "1    VINCENT CHASE          UV Protection Rectangular Sunglasses (50)    ₹599   \n",
       "2         Fastrack      UV Protection Wayfarer Sunglasses (Free Size)    ₹669   \n",
       "3         Fastrack   UV Protection Rectangular Sunglasses (Free Size)    ₹589   \n",
       "4           PIRASO              UV Protection Aviator Sunglasses (54)    ₹199   \n",
       "..             ...                                                ...     ...   \n",
       "95  ROZZETTA CRAFT  UV Protection, Gradient Rectangular Sunglasses...    ₹679   \n",
       "96    Singco India  Riding Glasses, UV Protection, Others Aviator ...    ₹175   \n",
       "97  ROZZETTA CRAFT  UV Protection, Riding Glasses Rectangular Sung...    ₹599   \n",
       "98        Fastrack      Polarized Retro Square Sunglasses (Free Size)    ₹265   \n",
       "99     john jacobs                UV Protection Round Sunglasses (54)    ₹849   \n",
       "\n",
       "   discount  \n",
       "0   70% off  \n",
       "1   70% off  \n",
       "2   25% off  \n",
       "3   26% off  \n",
       "4   87% off  \n",
       "..      ...  \n",
       "95  72% off  \n",
       "96  89% off  \n",
       "97  70% off  \n",
       "98  73% off  \n",
       "99  57% off  \n",
       "\n",
       "[100 rows x 4 columns]"
      ]
     },
     "execution_count": 86,
     "metadata": {},
     "output_type": "execute_result"
    }
   ],
   "source": [
    "df4"
   ]
  },
  {
   "cell_type": "markdown",
   "id": "d608dd62",
   "metadata": {},
   "source": [
    "# Q7: Scrape 100 reviews data from flipkart.com for iphone11 phone"
   ]
  },
  {
   "cell_type": "code",
   "execution_count": 96,
   "id": "715f6c8b",
   "metadata": {},
   "outputs": [],
   "source": [
    "import selenium\n",
    "import pandas as pd\n",
    "from selenium import webdriver\n",
    "import warnings\n",
    "warnings.filterwarnings(\"ignore\")\n",
    "import time"
   ]
  },
  {
   "cell_type": "code",
   "execution_count": 98,
   "id": "cc457352",
   "metadata": {},
   "outputs": [],
   "source": [
    "driver = webdriver.Chrome(\"chromedriver.exe\")\n",
    "time.sleep(2)"
   ]
  },
  {
   "cell_type": "markdown",
   "id": "30596a51",
   "metadata": {},
   "source": [
    "# Q6: Scrape data for first 100 sneakers you find when you visit flipkart.com andsearch for “sneakers” in the\n",
    "search field."
   ]
  },
  {
   "cell_type": "code",
   "execution_count": 101,
   "id": "e9d1d2c5",
   "metadata": {},
   "outputs": [],
   "source": [
    "import selenium\n",
    "import pandas as pd\n",
    "from selenium import webdriver\n",
    "import warnings\n",
    "warnings.filterwarnings(\"ignore\")\n",
    "import time"
   ]
  },
  {
   "cell_type": "code",
   "execution_count": 102,
   "id": "52a94a8f",
   "metadata": {},
   "outputs": [],
   "source": [
    "driver = webdriver.Chrome(r\"C:\\chrome driver\\chromedriver.exe\")"
   ]
  },
  {
   "cell_type": "code",
   "execution_count": 103,
   "id": "4787839a",
   "metadata": {},
   "outputs": [],
   "source": [
    "driver = webdriver.Chrome(\"chromedriver.exe\")\n",
    "time.sleep(2)"
   ]
  },
  {
   "cell_type": "code",
   "execution_count": 104,
   "id": "531c24c6",
   "metadata": {},
   "outputs": [],
   "source": [
    "driver.get (' https://www.flipkart.com/')"
   ]
  },
  {
   "cell_type": "code",
   "execution_count": 105,
   "id": "5b1f16b6",
   "metadata": {},
   "outputs": [],
   "source": [
    "input_search=driver.find_element_by_xpath(\"/html/body/div[1]/div/div[1]/div[1]/div[2]/div[2]/form/div/div/input\")\n",
    "input_search.send_keys(\"sneakers\")\n"
   ]
  },
  {
   "cell_type": "code",
   "execution_count": 106,
   "id": "07120258",
   "metadata": {},
   "outputs": [],
   "source": [
    "search_button=driver.find_element_by_xpath(\"/html/body/div[1]/div/div[1]/div[1]/div[2]/div[2]/form/div/button\")\n",
    "search_button.click()\n"
   ]
  },
  {
   "cell_type": "code",
   "execution_count": 107,
   "id": "df03848c",
   "metadata": {},
   "outputs": [],
   "source": [
    "brand_name1 = []\n",
    "prd_desc1 = []\n",
    "price1 = []\n",
    "discount1 = []"
   ]
  },
  {
   "cell_type": "code",
   "execution_count": 108,
   "id": "338f81d4",
   "metadata": {},
   "outputs": [],
   "source": [
    "brand_name1 = []\n",
    "prd_desc1 = []\n",
    "price1 = []\n",
    "discount1 = []\n",
    "\n",
    "for k in range(1,4):\n",
    "\n",
    "    \n",
    "    brand = driver.find_elements_by_class_name('_2WkVRV')\n",
    "    \n",
    "\n",
    "    for i in brand:\n",
    "        brand_name1.append(i.text)\n",
    "\n",
    "    desc = driver.find_elements_by_class_name('IRpwTa')\n",
    "    \n",
    "\n",
    "    for i in desc:\n",
    "        prd_desc1.append(i.text)\n",
    "\n",
    "    cost = driver.find_elements_by_class_name(\"_30jeq3\")\n",
    "    \n",
    "\n",
    "    for i in cost:\n",
    "        price1.append(i.text)\n",
    "\n",
    "\n",
    "    dis = driver.find_elements_by_class_name(\"_3Ay6Sb\")\n",
    "    \n",
    "\n",
    "    for i in dis:\n",
    "        discount1.append(i.text)\n",
    "    \n",
    "    \n",
    "        nxt_button=driver.find_elements_by_xpath(\"//a[@class='_1LKTO3']\")              #scraping the list of buttons from the page\n",
    "\n",
    "    try:\n",
    "\n",
    "        driver.get(nxt_button[1].get_attribute('href'))#getting the link from the list for next page\n",
    "        \n",
    "\n",
    "    except:\n",
    "\n",
    "        driver.get(nxt_button[0].get_attribute('href'))"
   ]
  },
  {
   "cell_type": "code",
   "execution_count": 109,
   "id": "1d3d5224",
   "metadata": {},
   "outputs": [],
   "source": [
    "brand_name1 = brand_name1[0:100]\n",
    "prd_desc1 = prd_desc1[0:100]\n",
    "price1 = price1[0:100]\n",
    "discount1 = discount1[0:100]"
   ]
  },
  {
   "cell_type": "code",
   "execution_count": 110,
   "id": "43c578b5",
   "metadata": {},
   "outputs": [
    {
     "data": {
      "text/html": [
       "<div>\n",
       "<style scoped>\n",
       "    .dataframe tbody tr th:only-of-type {\n",
       "        vertical-align: middle;\n",
       "    }\n",
       "\n",
       "    .dataframe tbody tr th {\n",
       "        vertical-align: top;\n",
       "    }\n",
       "\n",
       "    .dataframe thead th {\n",
       "        text-align: right;\n",
       "    }\n",
       "</style>\n",
       "<table border=\"1\" class=\"dataframe\">\n",
       "  <thead>\n",
       "    <tr style=\"text-align: right;\">\n",
       "      <th></th>\n",
       "      <th>brand_name</th>\n",
       "      <th>prd_desc</th>\n",
       "      <th>[price]</th>\n",
       "      <th>discount</th>\n",
       "    </tr>\n",
       "  </thead>\n",
       "  <tbody>\n",
       "    <tr>\n",
       "      <th>0</th>\n",
       "      <td>HOC</td>\n",
       "      <td>Luxury Fashionable Breathable Casual Sneakers ...</td>\n",
       "      <td>₹399</td>\n",
       "      <td>80% off</td>\n",
       "    </tr>\n",
       "    <tr>\n",
       "      <th>1</th>\n",
       "      <td>Bacan</td>\n",
       "      <td>Sneakers For Men</td>\n",
       "      <td>₹424</td>\n",
       "      <td>57% off</td>\n",
       "    </tr>\n",
       "    <tr>\n",
       "      <th>2</th>\n",
       "      <td>URBANBOX</td>\n",
       "      <td>Sneakers Sneakers For Men</td>\n",
       "      <td>₹148</td>\n",
       "      <td>85% off</td>\n",
       "    </tr>\n",
       "    <tr>\n",
       "      <th>3</th>\n",
       "      <td>BRUTON</td>\n",
       "      <td>Modern Trendy Sneakers Shoes Sneakers For Men</td>\n",
       "      <td>₹245</td>\n",
       "      <td>81% off</td>\n",
       "    </tr>\n",
       "    <tr>\n",
       "      <th>4</th>\n",
       "      <td>KWIK FIT</td>\n",
       "      <td>Kwik FIT casual sneaker shoes and partywear sh...</td>\n",
       "      <td>₹349</td>\n",
       "      <td>82% off</td>\n",
       "    </tr>\n",
       "    <tr>\n",
       "      <th>...</th>\n",
       "      <td>...</td>\n",
       "      <td>...</td>\n",
       "      <td>...</td>\n",
       "      <td>...</td>\n",
       "    </tr>\n",
       "    <tr>\n",
       "      <th>95</th>\n",
       "      <td>BRUTON</td>\n",
       "      <td>Modern Trendy Sneakers Shoes Sneakers For Men</td>\n",
       "      <td>₹499</td>\n",
       "      <td>50% off</td>\n",
       "    </tr>\n",
       "    <tr>\n",
       "      <th>96</th>\n",
       "      <td>Bacan</td>\n",
       "      <td>Sneakers For Men</td>\n",
       "      <td>₹201</td>\n",
       "      <td>71% off</td>\n",
       "    </tr>\n",
       "    <tr>\n",
       "      <th>97</th>\n",
       "      <td>Kraasa</td>\n",
       "      <td>Shark-41 Sneakers For Men</td>\n",
       "      <td>₹424</td>\n",
       "      <td>57% off</td>\n",
       "    </tr>\n",
       "    <tr>\n",
       "      <th>98</th>\n",
       "      <td>Airland</td>\n",
       "      <td>shoe Sneakers For Men</td>\n",
       "      <td>₹714</td>\n",
       "      <td>20% off</td>\n",
       "    </tr>\n",
       "    <tr>\n",
       "      <th>99</th>\n",
       "      <td>hzisbo</td>\n",
       "      <td>Sneakers For Men</td>\n",
       "      <td>₹249</td>\n",
       "      <td>58% off</td>\n",
       "    </tr>\n",
       "  </tbody>\n",
       "</table>\n",
       "<p>100 rows × 4 columns</p>\n",
       "</div>"
      ],
      "text/plain": [
       "   brand_name                                           prd_desc [price]  \\\n",
       "0         HOC  Luxury Fashionable Breathable Casual Sneakers ...    ₹399   \n",
       "1       Bacan                                   Sneakers For Men    ₹424   \n",
       "2    URBANBOX                          Sneakers Sneakers For Men    ₹148   \n",
       "3      BRUTON      Modern Trendy Sneakers Shoes Sneakers For Men    ₹245   \n",
       "4    KWIK FIT  Kwik FIT casual sneaker shoes and partywear sh...    ₹349   \n",
       "..        ...                                                ...     ...   \n",
       "95     BRUTON      Modern Trendy Sneakers Shoes Sneakers For Men    ₹499   \n",
       "96      Bacan                                   Sneakers For Men    ₹201   \n",
       "97     Kraasa                          Shark-41 Sneakers For Men    ₹424   \n",
       "98    Airland                              shoe Sneakers For Men    ₹714   \n",
       "99     hzisbo                                   Sneakers For Men    ₹249   \n",
       "\n",
       "   discount  \n",
       "0   80% off  \n",
       "1   57% off  \n",
       "2   85% off  \n",
       "3   81% off  \n",
       "4   82% off  \n",
       "..      ...  \n",
       "95  50% off  \n",
       "96  71% off  \n",
       "97  57% off  \n",
       "98  20% off  \n",
       "99  58% off  \n",
       "\n",
       "[100 rows x 4 columns]"
      ]
     },
     "execution_count": 110,
     "metadata": {},
     "output_type": "execute_result"
    }
   ],
   "source": [
    "# creating dataframe and assigning lists to columns\n",
    "df8 = pd.DataFrame({})\n",
    "df8['brand_name'] = brand_name1\n",
    "df8['prd_desc'] = prd_desc1\n",
    "df8['[price]'] = price1\n",
    "df8['discount'] = discount1\n",
    "df8"
   ]
  },
  {
   "cell_type": "markdown",
   "id": "499b0237",
   "metadata": {},
   "source": [
    "# 7:Go to the link - https://www.myntra.com/shoesSet Price filter to “Rs. 6649 to Rs. 13099” , Color filter to “Black”, as shown in the below image"
   ]
  },
  {
   "cell_type": "code",
   "execution_count": 111,
   "id": "f2b145b5",
   "metadata": {},
   "outputs": [],
   "source": [
    "driver = webdriver.Chrome(r\"C:\\chrome driver\\chromedriver.exe\")\n",
    "driver = webdriver.Chrome(\"chromedriver.exe\")\n",
    "time.sleep(2)\n",
    "driver.get ('https://www.myntra.com/shoes')\n",
    "\n",
    "driver.maximize_window() # to maximise the chrome window"
   ]
  },
  {
   "cell_type": "code",
   "execution_count": 112,
   "id": "f1c9c273",
   "metadata": {},
   "outputs": [],
   "source": [
    "search_button=driver.find_element_by_xpath('/html/body/div[1]/div/div/header/div[2]/div[3]/input')\n",
    "search_button.click()"
   ]
  },
  {
   "cell_type": "code",
   "execution_count": 113,
   "id": "ee407bd7",
   "metadata": {},
   "outputs": [
    {
     "ename": "NoSuchWindowException",
     "evalue": "Message: no such window: window was already closed\n  (Session info: chrome=101.0.4951.54)\nStacktrace:\nBacktrace:\n\tOrdinal0 [0x00597413+2389011]\n\tOrdinal0 [0x00529F61+1941345]\n\tOrdinal0 [0x0041C658+837208]\n\tOrdinal0 [0x00411687+792199]\n\tOrdinal0 [0x00412752+796498]\n\tOrdinal0 [0x0040C0D9+770265]\n\tOrdinal0 [0x0041D9D0+842192]\n\tOrdinal0 [0x00473AE2+1194722]\n\tOrdinal0 [0x00463F66+1130342]\n\tOrdinal0 [0x0043E546+976198]\n\tOrdinal0 [0x0043F456+980054]\n\tGetHandleVerifier [0x00749632+1727522]\n\tGetHandleVerifier [0x007FBA4D+2457661]\n\tGetHandleVerifier [0x0062EB81+569713]\n\tGetHandleVerifier [0x0062DD76+566118]\n\tOrdinal0 [0x00530B2B+1968939]\n\tOrdinal0 [0x00535988+1989000]\n\tOrdinal0 [0x00535A75+1989237]\n\tOrdinal0 [0x0053ECB1+2026673]\n\tBaseThreadInitThunk [0x75326359+25]\n\tRtlGetAppContainerNamedObjectPath [0x773787A4+228]\n\tRtlGetAppContainerNamedObjectPath [0x77378774+180]\n",
     "output_type": "error",
     "traceback": [
      "\u001b[1;31m---------------------------------------------------------------------------\u001b[0m",
      "\u001b[1;31mNoSuchWindowException\u001b[0m                     Traceback (most recent call last)",
      "\u001b[1;32m~\\AppData\\Local\\Temp/ipykernel_13700/2128934504.py\u001b[0m in \u001b[0;36m<module>\u001b[1;34m\u001b[0m\n\u001b[0;32m      5\u001b[0m \u001b[1;33m\u001b[0m\u001b[0m\n\u001b[0;32m      6\u001b[0m \u001b[1;33m\u001b[0m\u001b[0m\n\u001b[1;32m----> 7\u001b[1;33m \u001b[0mbrand\u001b[0m \u001b[1;33m=\u001b[0m \u001b[0mdriver\u001b[0m\u001b[1;33m.\u001b[0m\u001b[0mfind_elements_by_class_name\u001b[0m\u001b[1;33m(\u001b[0m\u001b[1;34m'product-brand'\u001b[0m\u001b[1;33m)\u001b[0m\u001b[1;33m\u001b[0m\u001b[1;33m\u001b[0m\u001b[0m\n\u001b[0m\u001b[0;32m      8\u001b[0m \u001b[1;33m\u001b[0m\u001b[0m\n\u001b[0;32m      9\u001b[0m \u001b[1;33m\u001b[0m\u001b[0m\n",
      "\u001b[1;32mC:\\ProgramData\\Anaconda3\\lib\\site-packages\\selenium\\webdriver\\remote\\webdriver.py\u001b[0m in \u001b[0;36mfind_elements_by_class_name\u001b[1;34m(self, name)\u001b[0m\n\u001b[0;32m    782\u001b[0m             \u001b[0mstacklevel\u001b[0m\u001b[1;33m=\u001b[0m\u001b[1;36m2\u001b[0m\u001b[1;33m,\u001b[0m\u001b[1;33m\u001b[0m\u001b[1;33m\u001b[0m\u001b[0m\n\u001b[0;32m    783\u001b[0m         )\n\u001b[1;32m--> 784\u001b[1;33m         \u001b[1;32mreturn\u001b[0m \u001b[0mself\u001b[0m\u001b[1;33m.\u001b[0m\u001b[0mfind_elements\u001b[0m\u001b[1;33m(\u001b[0m\u001b[0mby\u001b[0m\u001b[1;33m=\u001b[0m\u001b[0mBy\u001b[0m\u001b[1;33m.\u001b[0m\u001b[0mCLASS_NAME\u001b[0m\u001b[1;33m,\u001b[0m \u001b[0mvalue\u001b[0m\u001b[1;33m=\u001b[0m\u001b[0mname\u001b[0m\u001b[1;33m)\u001b[0m\u001b[1;33m\u001b[0m\u001b[1;33m\u001b[0m\u001b[0m\n\u001b[0m\u001b[0;32m    785\u001b[0m \u001b[1;33m\u001b[0m\u001b[0m\n\u001b[0;32m    786\u001b[0m     \u001b[1;32mdef\u001b[0m \u001b[0mfind_element_by_css_selector\u001b[0m\u001b[1;33m(\u001b[0m\u001b[0mself\u001b[0m\u001b[1;33m,\u001b[0m \u001b[0mcss_selector\u001b[0m\u001b[1;33m)\u001b[0m \u001b[1;33m->\u001b[0m \u001b[0mWebElement\u001b[0m\u001b[1;33m:\u001b[0m\u001b[1;33m\u001b[0m\u001b[1;33m\u001b[0m\u001b[0m\n",
      "\u001b[1;32mC:\\ProgramData\\Anaconda3\\lib\\site-packages\\selenium\\webdriver\\remote\\webdriver.py\u001b[0m in \u001b[0;36mfind_elements\u001b[1;34m(self, by, value)\u001b[0m\n\u001b[0;32m   1281\u001b[0m         \u001b[1;31m# Return empty list if driver returns null\u001b[0m\u001b[1;33m\u001b[0m\u001b[1;33m\u001b[0m\u001b[0m\n\u001b[0;32m   1282\u001b[0m         \u001b[1;31m# See https://github.com/SeleniumHQ/selenium/issues/4555\u001b[0m\u001b[1;33m\u001b[0m\u001b[1;33m\u001b[0m\u001b[0m\n\u001b[1;32m-> 1283\u001b[1;33m         return self.execute(Command.FIND_ELEMENTS, {\n\u001b[0m\u001b[0;32m   1284\u001b[0m             \u001b[1;34m'using'\u001b[0m\u001b[1;33m:\u001b[0m \u001b[0mby\u001b[0m\u001b[1;33m,\u001b[0m\u001b[1;33m\u001b[0m\u001b[1;33m\u001b[0m\u001b[0m\n\u001b[0;32m   1285\u001b[0m             'value': value})['value'] or []\n",
      "\u001b[1;32mC:\\ProgramData\\Anaconda3\\lib\\site-packages\\selenium\\webdriver\\remote\\webdriver.py\u001b[0m in \u001b[0;36mexecute\u001b[1;34m(self, driver_command, params)\u001b[0m\n\u001b[0;32m    423\u001b[0m         \u001b[0mresponse\u001b[0m \u001b[1;33m=\u001b[0m \u001b[0mself\u001b[0m\u001b[1;33m.\u001b[0m\u001b[0mcommand_executor\u001b[0m\u001b[1;33m.\u001b[0m\u001b[0mexecute\u001b[0m\u001b[1;33m(\u001b[0m\u001b[0mdriver_command\u001b[0m\u001b[1;33m,\u001b[0m \u001b[0mparams\u001b[0m\u001b[1;33m)\u001b[0m\u001b[1;33m\u001b[0m\u001b[1;33m\u001b[0m\u001b[0m\n\u001b[0;32m    424\u001b[0m         \u001b[1;32mif\u001b[0m \u001b[0mresponse\u001b[0m\u001b[1;33m:\u001b[0m\u001b[1;33m\u001b[0m\u001b[1;33m\u001b[0m\u001b[0m\n\u001b[1;32m--> 425\u001b[1;33m             \u001b[0mself\u001b[0m\u001b[1;33m.\u001b[0m\u001b[0merror_handler\u001b[0m\u001b[1;33m.\u001b[0m\u001b[0mcheck_response\u001b[0m\u001b[1;33m(\u001b[0m\u001b[0mresponse\u001b[0m\u001b[1;33m)\u001b[0m\u001b[1;33m\u001b[0m\u001b[1;33m\u001b[0m\u001b[0m\n\u001b[0m\u001b[0;32m    426\u001b[0m             response['value'] = self._unwrap_value(\n\u001b[0;32m    427\u001b[0m                 response.get('value', None))\n",
      "\u001b[1;32mC:\\ProgramData\\Anaconda3\\lib\\site-packages\\selenium\\webdriver\\remote\\errorhandler.py\u001b[0m in \u001b[0;36mcheck_response\u001b[1;34m(self, response)\u001b[0m\n\u001b[0;32m    245\u001b[0m                 \u001b[0malert_text\u001b[0m \u001b[1;33m=\u001b[0m \u001b[0mvalue\u001b[0m\u001b[1;33m[\u001b[0m\u001b[1;34m'alert'\u001b[0m\u001b[1;33m]\u001b[0m\u001b[1;33m.\u001b[0m\u001b[0mget\u001b[0m\u001b[1;33m(\u001b[0m\u001b[1;34m'text'\u001b[0m\u001b[1;33m)\u001b[0m\u001b[1;33m\u001b[0m\u001b[1;33m\u001b[0m\u001b[0m\n\u001b[0;32m    246\u001b[0m             \u001b[1;32mraise\u001b[0m \u001b[0mexception_class\u001b[0m\u001b[1;33m(\u001b[0m\u001b[0mmessage\u001b[0m\u001b[1;33m,\u001b[0m \u001b[0mscreen\u001b[0m\u001b[1;33m,\u001b[0m \u001b[0mstacktrace\u001b[0m\u001b[1;33m,\u001b[0m \u001b[0malert_text\u001b[0m\u001b[1;33m)\u001b[0m  \u001b[1;31m# type: ignore[call-arg]  # mypy is not smart enough here\u001b[0m\u001b[1;33m\u001b[0m\u001b[1;33m\u001b[0m\u001b[0m\n\u001b[1;32m--> 247\u001b[1;33m         \u001b[1;32mraise\u001b[0m \u001b[0mexception_class\u001b[0m\u001b[1;33m(\u001b[0m\u001b[0mmessage\u001b[0m\u001b[1;33m,\u001b[0m \u001b[0mscreen\u001b[0m\u001b[1;33m,\u001b[0m \u001b[0mstacktrace\u001b[0m\u001b[1;33m)\u001b[0m\u001b[1;33m\u001b[0m\u001b[1;33m\u001b[0m\u001b[0m\n\u001b[0m\u001b[0;32m    248\u001b[0m \u001b[1;33m\u001b[0m\u001b[0m\n\u001b[0;32m    249\u001b[0m     \u001b[1;32mdef\u001b[0m \u001b[0m_value_or_default\u001b[0m\u001b[1;33m(\u001b[0m\u001b[0mself\u001b[0m\u001b[1;33m,\u001b[0m \u001b[0mobj\u001b[0m\u001b[1;33m:\u001b[0m \u001b[0mMapping\u001b[0m\u001b[1;33m[\u001b[0m\u001b[0m_KT\u001b[0m\u001b[1;33m,\u001b[0m \u001b[0m_VT\u001b[0m\u001b[1;33m]\u001b[0m\u001b[1;33m,\u001b[0m \u001b[0mkey\u001b[0m\u001b[1;33m:\u001b[0m \u001b[0m_KT\u001b[0m\u001b[1;33m,\u001b[0m \u001b[0mdefault\u001b[0m\u001b[1;33m:\u001b[0m \u001b[0m_VT\u001b[0m\u001b[1;33m)\u001b[0m \u001b[1;33m->\u001b[0m \u001b[0m_VT\u001b[0m\u001b[1;33m:\u001b[0m\u001b[1;33m\u001b[0m\u001b[1;33m\u001b[0m\u001b[0m\n",
      "\u001b[1;31mNoSuchWindowException\u001b[0m: Message: no such window: window was already closed\n  (Session info: chrome=101.0.4951.54)\nStacktrace:\nBacktrace:\n\tOrdinal0 [0x00597413+2389011]\n\tOrdinal0 [0x00529F61+1941345]\n\tOrdinal0 [0x0041C658+837208]\n\tOrdinal0 [0x00411687+792199]\n\tOrdinal0 [0x00412752+796498]\n\tOrdinal0 [0x0040C0D9+770265]\n\tOrdinal0 [0x0041D9D0+842192]\n\tOrdinal0 [0x00473AE2+1194722]\n\tOrdinal0 [0x00463F66+1130342]\n\tOrdinal0 [0x0043E546+976198]\n\tOrdinal0 [0x0043F456+980054]\n\tGetHandleVerifier [0x00749632+1727522]\n\tGetHandleVerifier [0x007FBA4D+2457661]\n\tGetHandleVerifier [0x0062EB81+569713]\n\tGetHandleVerifier [0x0062DD76+566118]\n\tOrdinal0 [0x00530B2B+1968939]\n\tOrdinal0 [0x00535988+1989000]\n\tOrdinal0 [0x00535A75+1989237]\n\tOrdinal0 [0x0053ECB1+2026673]\n\tBaseThreadInitThunk [0x75326359+25]\n\tRtlGetAppContainerNamedObjectPath [0x773787A4+228]\n\tRtlGetAppContainerNamedObjectPath [0x77378774+180]\n"
     ]
    }
   ],
   "source": [
    "brand_name2 = []\n",
    "prd_desc2 = []\n",
    "price2 = []\n",
    "\n",
    "\n",
    "\n",
    "brand = driver.find_elements_by_class_name('product-brand')\n",
    "    \n",
    "\n",
    "for i in brand:\n",
    "    brand_name2.append(i.text)\n",
    "\n",
    "desc = driver.find_elements_by_class_name('product-product')\n",
    "    \n",
    "for i in desc:\n",
    "    prd_desc2.append(i.text)\n",
    "\n",
    "cost = driver.find_elements_by_class_name(\"product-price\")\n",
    "    \n",
    "\n",
    "for i in cost:\n",
    "    price2.append(i.text)"
   ]
  },
  {
   "cell_type": "markdown",
   "id": "1dde2fd2",
   "metadata": {},
   "source": [
    "# 8."
   ]
  },
  {
   "cell_type": "code",
   "execution_count": 114,
   "id": "1cb39600",
   "metadata": {},
   "outputs": [
    {
     "name": "stdout",
     "output_type": "stream",
     "text": [
      "Requirement already satisfied: selenium in c:\\programdata\\anaconda3\\lib\\site-packages (4.1.3)\n",
      "Requirement already satisfied: urllib3[secure,socks]~=1.26 in c:\\programdata\\anaconda3\\lib\\site-packages (from selenium) (1.26.7)\n",
      "Requirement already satisfied: trio-websocket~=0.9 in c:\\programdata\\anaconda3\\lib\\site-packages (from selenium) (0.9.2)\n",
      "Requirement already satisfied: trio~=0.17 in c:\\programdata\\anaconda3\\lib\\site-packages (from selenium) (0.20.0)\n",
      "Requirement already satisfied: sortedcontainers in c:\\programdata\\anaconda3\\lib\\site-packages (from trio~=0.17->selenium) (2.4.0)\n",
      "Requirement already satisfied: idna in c:\\programdata\\anaconda3\\lib\\site-packages (from trio~=0.17->selenium) (3.2)\n",
      "Requirement already satisfied: outcome in c:\\programdata\\anaconda3\\lib\\site-packages (from trio~=0.17->selenium) (1.1.0)\n",
      "Requirement already satisfied: cffi>=1.14 in c:\\programdata\\anaconda3\\lib\\site-packages (from trio~=0.17->selenium) (1.14.6)\n",
      "Requirement already satisfied: async-generator>=1.9 in c:\\programdata\\anaconda3\\lib\\site-packages (from trio~=0.17->selenium) (1.10)\n",
      "Requirement already satisfied: sniffio in c:\\programdata\\anaconda3\\lib\\site-packages (from trio~=0.17->selenium) (1.2.0)\n",
      "Requirement already satisfied: attrs>=19.2.0 in c:\\programdata\\anaconda3\\lib\\site-packages (from trio~=0.17->selenium) (21.2.0)\n",
      "Requirement already satisfied: pycparser in c:\\programdata\\anaconda3\\lib\\site-packages (from cffi>=1.14->trio~=0.17->selenium) (2.20)\n",
      "Requirement already satisfied: wsproto>=0.14 in c:\\programdata\\anaconda3\\lib\\site-packages (from trio-websocket~=0.9->selenium) (1.1.0)\n",
      "Requirement already satisfied: PySocks!=1.5.7,<2.0,>=1.5.6 in c:\\programdata\\anaconda3\\lib\\site-packages (from urllib3[secure,socks]~=1.26->selenium) (1.7.1)\n",
      "Requirement already satisfied: pyOpenSSL>=0.14 in c:\\programdata\\anaconda3\\lib\\site-packages (from urllib3[secure,socks]~=1.26->selenium) (21.0.0)\n",
      "Requirement already satisfied: cryptography>=1.3.4 in c:\\programdata\\anaconda3\\lib\\site-packages (from urllib3[secure,socks]~=1.26->selenium) (3.4.8)\n",
      "Requirement already satisfied: certifi in c:\\programdata\\anaconda3\\lib\\site-packages (from urllib3[secure,socks]~=1.26->selenium) (2021.10.8)\n",
      "Requirement already satisfied: six>=1.5.2 in c:\\programdata\\anaconda3\\lib\\site-packages (from pyOpenSSL>=0.14->urllib3[secure,socks]~=1.26->selenium) (1.16.0)\n",
      "Requirement already satisfied: h11<1,>=0.9.0 in c:\\programdata\\anaconda3\\lib\\site-packages (from wsproto>=0.14->trio-websocket~=0.9->selenium) (0.13.0)\n"
     ]
    }
   ],
   "source": [
    "! pip install selenium"
   ]
  },
  {
   "cell_type": "code",
   "execution_count": 115,
   "id": "6d3c3772",
   "metadata": {},
   "outputs": [],
   "source": [
    "import selenium\n",
    "import pandas as pd\n",
    "from selenium import webdriver\n",
    "import warnings\n",
    "warnings.filterwarnings(\"ignore\")\n",
    "import time"
   ]
  },
  {
   "cell_type": "code",
   "execution_count": 116,
   "id": "28608175",
   "metadata": {},
   "outputs": [],
   "source": [
    "driver = webdriver.Chrome(r\"C:\\chrome driver\\chromedriver.exe\")"
   ]
  },
  {
   "cell_type": "code",
   "execution_count": 117,
   "id": "af87a042",
   "metadata": {},
   "outputs": [],
   "source": [
    "driver = webdriver.Chrome(\"chromedriver.exe\")\n",
    "time.sleep(2)"
   ]
  },
  {
   "cell_type": "code",
   "execution_count": 118,
   "id": "1aa95f39",
   "metadata": {},
   "outputs": [],
   "source": [
    "driver.get ('https://www.amazon.in/')"
   ]
  },
  {
   "cell_type": "code",
   "execution_count": 119,
   "id": "ed424ee7",
   "metadata": {},
   "outputs": [],
   "source": [
    "#entering \"laptop\" in job search bar using selenium driver\n",
    "search_laptop = driver.find_element_by_id('twotabsearchtextbox')\n",
    "search_laptop.send_keys(\"Laptop\")"
   ]
  },
  {
   "cell_type": "code",
   "execution_count": 120,
   "id": "08acf3bf",
   "metadata": {},
   "outputs": [],
   "source": [
    "#clicking submit button using selenium deriver\n",
    "button_1 = driver.find_element_by_id('nav-search-submit-button')\n",
    "button_1.click()"
   ]
  },
  {
   "cell_type": "code",
   "execution_count": 122,
   "id": "e1a76906",
   "metadata": {},
   "outputs": [],
   "source": [
    "\n",
    "driver.find_element_by_xpath(\"//*[@id='p_n_feature_thirteen_browse-bin/12598163031']/span/a/div/label/i\").click()\n",
    "driver.find_element_by_xpath(\"//*[@id='p_n_feature_thirteen_browse-bin/16757432031']/span/a/div/label/i\").click()"
   ]
  },
  {
   "cell_type": "code",
   "execution_count": 123,
   "id": "bfeed2e6",
   "metadata": {},
   "outputs": [],
   "source": [
    "laptop_title = []\n",
    "laptop_price = []\n",
    "\n",
    "\n",
    "\n",
    "title = driver.find_elements_by_xpath(\"//span[@class='a-size-medium a-color-base a-text-normal']\")\n",
    "    \n",
    "\n",
    "for i in title:\n",
    "    laptop_title.append(i.text)\n",
    "\n",
    "cost = driver.find_elements_by_class_name(\"a-price-whole\")\n",
    "    \n",
    "\n",
    "for i in cost:\n",
    "    laptop_price.append(i.text)"
   ]
  },
  {
   "cell_type": "code",
   "execution_count": 124,
   "id": "303758cb",
   "metadata": {},
   "outputs": [],
   "source": [
    "Ratings = []\n",
    "\n",
    "#locating Ratings\n",
    "\n",
    "urls=driver.find_elements_by_xpath(\"//a[@class='a-link-normal a-text-normal']\")         #collecting urls of all the laptop\n",
    "\n",
    "UR=[]\n",
    "\n",
    "for i in urls:\n",
    "\n",
    "    UR.append(i.get_attribute('href'))#getting the url of first 10 laptops\n",
    "\n",
    "for url in UR:#loop for every laptop in the list\n",
    "\n",
    "    driver.get(url)\n",
    "\n",
    "    try:                  #exception handling for nosuchelementexception                                                    #click the rating link found\n",
    "\n",
    "        rating=driver.find_element_by_xpath(\"//span[@class='a-size-base a-nowrap']//span\")#locating the rating\n",
    "\n",
    "        Ratings.append(rating.text)#appending the ratings in Ratings list\n",
    "\n",
    "        \n",
    "\n",
    "    except:\n",
    "\n",
    "        Ratings.append(\"NO rating\")#appending the No rating if no rating is there"
   ]
  },
  {
   "cell_type": "code",
   "execution_count": 126,
   "id": "1834bc7f",
   "metadata": {
    "collapsed": true
   },
   "outputs": [
    {
     "ename": "ValueError",
     "evalue": "Length of values (0) does not match length of index (10)",
     "output_type": "error",
     "traceback": [
      "\u001b[1;31m---------------------------------------------------------------------------\u001b[0m",
      "\u001b[1;31mValueError\u001b[0m                                Traceback (most recent call last)",
      "\u001b[1;32m~\\AppData\\Local\\Temp/ipykernel_13700/3769905622.py\u001b[0m in \u001b[0;36m<module>\u001b[1;34m\u001b[0m\n\u001b[0;32m      3\u001b[0m \u001b[0mdf10\u001b[0m\u001b[1;33m[\u001b[0m\u001b[1;34m'Laptop_Name'\u001b[0m\u001b[1;33m]\u001b[0m \u001b[1;33m=\u001b[0m \u001b[0mlaptop_title\u001b[0m\u001b[1;33m[\u001b[0m\u001b[1;36m0\u001b[0m\u001b[1;33m:\u001b[0m\u001b[1;36m10\u001b[0m\u001b[1;33m]\u001b[0m\u001b[1;33m\u001b[0m\u001b[1;33m\u001b[0m\u001b[0m\n\u001b[0;32m      4\u001b[0m \u001b[0mdf10\u001b[0m\u001b[1;33m[\u001b[0m\u001b[1;34m'Laptop_Price'\u001b[0m\u001b[1;33m]\u001b[0m \u001b[1;33m=\u001b[0m \u001b[0mlaptop_price\u001b[0m\u001b[1;33m[\u001b[0m\u001b[1;36m0\u001b[0m\u001b[1;33m:\u001b[0m\u001b[1;36m10\u001b[0m\u001b[1;33m]\u001b[0m\u001b[1;33m\u001b[0m\u001b[1;33m\u001b[0m\u001b[0m\n\u001b[1;32m----> 5\u001b[1;33m \u001b[0mdf10\u001b[0m\u001b[1;33m[\u001b[0m\u001b[1;34m'Ratings'\u001b[0m\u001b[1;33m]\u001b[0m \u001b[1;33m=\u001b[0m  \u001b[0mRatings\u001b[0m\u001b[1;33m[\u001b[0m\u001b[1;36m0\u001b[0m\u001b[1;33m:\u001b[0m\u001b[1;36m10\u001b[0m\u001b[1;33m]\u001b[0m\u001b[1;33m\u001b[0m\u001b[1;33m\u001b[0m\u001b[0m\n\u001b[0m",
      "\u001b[1;32mC:\\ProgramData\\Anaconda3\\lib\\site-packages\\pandas\\core\\frame.py\u001b[0m in \u001b[0;36m__setitem__\u001b[1;34m(self, key, value)\u001b[0m\n\u001b[0;32m   3610\u001b[0m         \u001b[1;32melse\u001b[0m\u001b[1;33m:\u001b[0m\u001b[1;33m\u001b[0m\u001b[1;33m\u001b[0m\u001b[0m\n\u001b[0;32m   3611\u001b[0m             \u001b[1;31m# set column\u001b[0m\u001b[1;33m\u001b[0m\u001b[1;33m\u001b[0m\u001b[0m\n\u001b[1;32m-> 3612\u001b[1;33m             \u001b[0mself\u001b[0m\u001b[1;33m.\u001b[0m\u001b[0m_set_item\u001b[0m\u001b[1;33m(\u001b[0m\u001b[0mkey\u001b[0m\u001b[1;33m,\u001b[0m \u001b[0mvalue\u001b[0m\u001b[1;33m)\u001b[0m\u001b[1;33m\u001b[0m\u001b[1;33m\u001b[0m\u001b[0m\n\u001b[0m\u001b[0;32m   3613\u001b[0m \u001b[1;33m\u001b[0m\u001b[0m\n\u001b[0;32m   3614\u001b[0m     \u001b[1;32mdef\u001b[0m \u001b[0m_setitem_slice\u001b[0m\u001b[1;33m(\u001b[0m\u001b[0mself\u001b[0m\u001b[1;33m,\u001b[0m \u001b[0mkey\u001b[0m\u001b[1;33m:\u001b[0m \u001b[0mslice\u001b[0m\u001b[1;33m,\u001b[0m \u001b[0mvalue\u001b[0m\u001b[1;33m)\u001b[0m\u001b[1;33m:\u001b[0m\u001b[1;33m\u001b[0m\u001b[1;33m\u001b[0m\u001b[0m\n",
      "\u001b[1;32mC:\\ProgramData\\Anaconda3\\lib\\site-packages\\pandas\\core\\frame.py\u001b[0m in \u001b[0;36m_set_item\u001b[1;34m(self, key, value)\u001b[0m\n\u001b[0;32m   3782\u001b[0m         \u001b[0mensure\u001b[0m \u001b[0mhomogeneity\u001b[0m\u001b[1;33m.\u001b[0m\u001b[1;33m\u001b[0m\u001b[1;33m\u001b[0m\u001b[0m\n\u001b[0;32m   3783\u001b[0m         \"\"\"\n\u001b[1;32m-> 3784\u001b[1;33m         \u001b[0mvalue\u001b[0m \u001b[1;33m=\u001b[0m \u001b[0mself\u001b[0m\u001b[1;33m.\u001b[0m\u001b[0m_sanitize_column\u001b[0m\u001b[1;33m(\u001b[0m\u001b[0mvalue\u001b[0m\u001b[1;33m)\u001b[0m\u001b[1;33m\u001b[0m\u001b[1;33m\u001b[0m\u001b[0m\n\u001b[0m\u001b[0;32m   3785\u001b[0m \u001b[1;33m\u001b[0m\u001b[0m\n\u001b[0;32m   3786\u001b[0m         if (\n",
      "\u001b[1;32mC:\\ProgramData\\Anaconda3\\lib\\site-packages\\pandas\\core\\frame.py\u001b[0m in \u001b[0;36m_sanitize_column\u001b[1;34m(self, value)\u001b[0m\n\u001b[0;32m   4507\u001b[0m \u001b[1;33m\u001b[0m\u001b[0m\n\u001b[0;32m   4508\u001b[0m         \u001b[1;32mif\u001b[0m \u001b[0mis_list_like\u001b[0m\u001b[1;33m(\u001b[0m\u001b[0mvalue\u001b[0m\u001b[1;33m)\u001b[0m\u001b[1;33m:\u001b[0m\u001b[1;33m\u001b[0m\u001b[1;33m\u001b[0m\u001b[0m\n\u001b[1;32m-> 4509\u001b[1;33m             \u001b[0mcom\u001b[0m\u001b[1;33m.\u001b[0m\u001b[0mrequire_length_match\u001b[0m\u001b[1;33m(\u001b[0m\u001b[0mvalue\u001b[0m\u001b[1;33m,\u001b[0m \u001b[0mself\u001b[0m\u001b[1;33m.\u001b[0m\u001b[0mindex\u001b[0m\u001b[1;33m)\u001b[0m\u001b[1;33m\u001b[0m\u001b[1;33m\u001b[0m\u001b[0m\n\u001b[0m\u001b[0;32m   4510\u001b[0m         \u001b[1;32mreturn\u001b[0m \u001b[0msanitize_array\u001b[0m\u001b[1;33m(\u001b[0m\u001b[0mvalue\u001b[0m\u001b[1;33m,\u001b[0m \u001b[0mself\u001b[0m\u001b[1;33m.\u001b[0m\u001b[0mindex\u001b[0m\u001b[1;33m,\u001b[0m \u001b[0mcopy\u001b[0m\u001b[1;33m=\u001b[0m\u001b[1;32mTrue\u001b[0m\u001b[1;33m,\u001b[0m \u001b[0mallow_2d\u001b[0m\u001b[1;33m=\u001b[0m\u001b[1;32mTrue\u001b[0m\u001b[1;33m)\u001b[0m\u001b[1;33m\u001b[0m\u001b[1;33m\u001b[0m\u001b[0m\n\u001b[0;32m   4511\u001b[0m \u001b[1;33m\u001b[0m\u001b[0m\n",
      "\u001b[1;32mC:\\ProgramData\\Anaconda3\\lib\\site-packages\\pandas\\core\\common.py\u001b[0m in \u001b[0;36mrequire_length_match\u001b[1;34m(data, index)\u001b[0m\n\u001b[0;32m    529\u001b[0m     \"\"\"\n\u001b[0;32m    530\u001b[0m     \u001b[1;32mif\u001b[0m \u001b[0mlen\u001b[0m\u001b[1;33m(\u001b[0m\u001b[0mdata\u001b[0m\u001b[1;33m)\u001b[0m \u001b[1;33m!=\u001b[0m \u001b[0mlen\u001b[0m\u001b[1;33m(\u001b[0m\u001b[0mindex\u001b[0m\u001b[1;33m)\u001b[0m\u001b[1;33m:\u001b[0m\u001b[1;33m\u001b[0m\u001b[1;33m\u001b[0m\u001b[0m\n\u001b[1;32m--> 531\u001b[1;33m         raise ValueError(\n\u001b[0m\u001b[0;32m    532\u001b[0m             \u001b[1;34m\"Length of values \"\u001b[0m\u001b[1;33m\u001b[0m\u001b[1;33m\u001b[0m\u001b[0m\n\u001b[0;32m    533\u001b[0m             \u001b[1;34mf\"({len(data)}) \"\u001b[0m\u001b[1;33m\u001b[0m\u001b[1;33m\u001b[0m\u001b[0m\n",
      "\u001b[1;31mValueError\u001b[0m: Length of values (0) does not match length of index (10)"
     ]
    }
   ],
   "source": [
    "# creating dataframe and assigning lists to columns\n",
    "df10 = pd.DataFrame({})\n",
    "df10['Laptop_Name'] = laptop_title[0:10]\n",
    "df10['Laptop_Price'] = laptop_price[0:10]\n",
    "df10['Ratings'] =  Ratings[0:10]"
   ]
  },
  {
   "cell_type": "markdown",
   "id": "fc6703bf",
   "metadata": {},
   "source": [
    "# 8."
   ]
  },
  {
   "cell_type": "code",
   "execution_count": 146,
   "id": "d794dc3f",
   "metadata": {},
   "outputs": [
    {
     "name": "stdout",
     "output_type": "stream",
     "text": [
      "Requirement already satisfied: selenium in c:\\programdata\\anaconda3\\lib\\site-packages (4.1.3)\n",
      "Requirement already satisfied: trio~=0.17 in c:\\programdata\\anaconda3\\lib\\site-packages (from selenium) (0.20.0)\n",
      "Requirement already satisfied: trio-websocket~=0.9 in c:\\programdata\\anaconda3\\lib\\site-packages (from selenium) (0.9.2)\n",
      "Requirement already satisfied: urllib3[secure,socks]~=1.26 in c:\\programdata\\anaconda3\\lib\\site-packages (from selenium) (1.26.7)\n",
      "Requirement already satisfied: attrs>=19.2.0 in c:\\programdata\\anaconda3\\lib\\site-packages (from trio~=0.17->selenium) (21.2.0)\n",
      "Requirement already satisfied: sortedcontainers in c:\\programdata\\anaconda3\\lib\\site-packages (from trio~=0.17->selenium) (2.4.0)\n",
      "Requirement already satisfied: async-generator>=1.9 in c:\\programdata\\anaconda3\\lib\\site-packages (from trio~=0.17->selenium) (1.10)\n",
      "Requirement already satisfied: cffi>=1.14 in c:\\programdata\\anaconda3\\lib\\site-packages (from trio~=0.17->selenium) (1.14.6)\n",
      "Requirement already satisfied: sniffio in c:\\programdata\\anaconda3\\lib\\site-packages (from trio~=0.17->selenium) (1.2.0)\n",
      "Requirement already satisfied: idna in c:\\programdata\\anaconda3\\lib\\site-packages (from trio~=0.17->selenium) (3.2)\n",
      "Requirement already satisfied: outcome in c:\\programdata\\anaconda3\\lib\\site-packages (from trio~=0.17->selenium) (1.1.0)\n",
      "Requirement already satisfied: pycparser in c:\\programdata\\anaconda3\\lib\\site-packages (from cffi>=1.14->trio~=0.17->selenium) (2.20)\n",
      "Requirement already satisfied: wsproto>=0.14 in c:\\programdata\\anaconda3\\lib\\site-packages (from trio-websocket~=0.9->selenium) (1.1.0)\n",
      "Requirement already satisfied: PySocks!=1.5.7,<2.0,>=1.5.6 in c:\\programdata\\anaconda3\\lib\\site-packages (from urllib3[secure,socks]~=1.26->selenium) (1.7.1)\n",
      "Requirement already satisfied: pyOpenSSL>=0.14 in c:\\programdata\\anaconda3\\lib\\site-packages (from urllib3[secure,socks]~=1.26->selenium) (21.0.0)\n",
      "Requirement already satisfied: cryptography>=1.3.4 in c:\\programdata\\anaconda3\\lib\\site-packages (from urllib3[secure,socks]~=1.26->selenium) (3.4.8)\n",
      "Requirement already satisfied: certifi in c:\\programdata\\anaconda3\\lib\\site-packages (from urllib3[secure,socks]~=1.26->selenium) (2021.10.8)\n",
      "Requirement already satisfied: six>=1.5.2 in c:\\programdata\\anaconda3\\lib\\site-packages (from pyOpenSSL>=0.14->urllib3[secure,socks]~=1.26->selenium) (1.16.0)\n",
      "Requirement already satisfied: h11<1,>=0.9.0 in c:\\programdata\\anaconda3\\lib\\site-packages (from wsproto>=0.14->trio-websocket~=0.9->selenium) (0.13.0)\n"
     ]
    }
   ],
   "source": [
    "! pip install selenium"
   ]
  },
  {
   "cell_type": "code",
   "execution_count": 147,
   "id": "27dd4def",
   "metadata": {},
   "outputs": [],
   "source": [
    "import selenium\n",
    "import pandas as pd\n",
    "from selenium import webdriver\n",
    "import warnings\n",
    "warnings.filterwarnings(\"ignore\")\n",
    "import time"
   ]
  },
  {
   "cell_type": "code",
   "execution_count": 148,
   "id": "90341126",
   "metadata": {},
   "outputs": [],
   "source": [
    "driver = webdriver.Chrome(r\"C:\\chrome driver\\chromedriver.exe\")"
   ]
  },
  {
   "cell_type": "code",
   "execution_count": 149,
   "id": "b7980729",
   "metadata": {},
   "outputs": [],
   "source": [
    "driver = webdriver.Chrome(\"chromedriver.exe\")\n",
    "time.sleep(2)"
   ]
  },
  {
   "cell_type": "code",
   "execution_count": 150,
   "id": "b4e0b3a0",
   "metadata": {},
   "outputs": [],
   "source": [
    "driver.get ('https://www.amazon.in/')"
   ]
  },
  {
   "cell_type": "code",
   "execution_count": 151,
   "id": "6e32cb9b",
   "metadata": {},
   "outputs": [],
   "source": [
    "#entering \"laptop\" in job search bar using selenium driver\n",
    "search_laptop = driver.find_element_by_id('twotabsearchtextbox')\n",
    "search_laptop.send_keys(\"Laptop\")"
   ]
  },
  {
   "cell_type": "code",
   "execution_count": 152,
   "id": "1ca6181d",
   "metadata": {},
   "outputs": [],
   "source": [
    "#clicking submit button using selenium deriver\n",
    "button_3 = driver.find_element_by_id('nav-search-submit-button')\n",
    "button_3.click()"
   ]
  },
  {
   "cell_type": "code",
   "execution_count": 154,
   "id": "303eee4f",
   "metadata": {},
   "outputs": [],
   "source": [
    "driver.find_element_by_xpath(\"//*[@id='p_n_feature_thirteen_browse-bin/12598163031']/span/a/div/label/i\").click()\n",
    "driver.find_element_by_xpath(\"//*[@id='p_n_feature_thirteen_browse-bin/16757432031']/span/a/div/label/i\").click()"
   ]
  },
  {
   "cell_type": "code",
   "execution_count": 155,
   "id": "37af05f4",
   "metadata": {},
   "outputs": [],
   "source": [
    "laptop_title = []\n",
    "laptop_price = []\n",
    "\n",
    "\n",
    "\n",
    "title = driver.find_elements_by_xpath(\"//span[@class='a-size-medium a-color-base a-text-normal']\")\n",
    "    \n",
    "\n",
    "for i in title:\n",
    "    laptop_title.append(i.text)\n",
    "\n",
    "cost = driver.find_elements_by_class_name(\"a-price-whole\")\n",
    "    \n",
    "\n",
    "for i in cost:\n",
    "    laptop_price.append(i.text)"
   ]
  },
  {
   "cell_type": "code",
   "execution_count": 156,
   "id": "1d6fb702",
   "metadata": {},
   "outputs": [],
   "source": [
    "Ratings = []\n",
    "\n",
    "#locating Ratings\n",
    "\n",
    "urls=driver.find_elements_by_xpath(\"//a[@class='a-link-normal a-text-normal']\")         #collecting urls of all the laptop\n",
    "\n",
    "UR=[]\n",
    "\n",
    "for i in urls:\n",
    "\n",
    "    UR.append(i.get_attribute('href'))#getting the url of first 10 laptops\n",
    "\n",
    "for url in UR:#loop for every laptop in the list\n",
    "\n",
    "    driver.get(url)\n",
    "\n",
    "    try:                  #exception handling for nosuchelementexception                                                    #click the rating link found\n",
    "\n",
    "        rating=driver.find_element_by_xpath(\"//span[@class='a-size-base a-nowrap']//span\")#locating the rating\n",
    "\n",
    "        Ratings.append(rating.text)#appending the ratings in Ratings list\n",
    "\n",
    "        \n",
    "\n",
    "    except:\n",
    "\n",
    "        Ratings.append(\"NO rating\")#appending the No rating if no rating is there"
   ]
  },
  {
   "cell_type": "code",
   "execution_count": 157,
   "id": "024b76ab",
   "metadata": {},
   "outputs": [
    {
     "ename": "ValueError",
     "evalue": "Length of values (5) does not match length of index (10)",
     "output_type": "error",
     "traceback": [
      "\u001b[1;31m---------------------------------------------------------------------------\u001b[0m",
      "\u001b[1;31mValueError\u001b[0m                                Traceback (most recent call last)",
      "\u001b[1;32m~\\AppData\\Local\\Temp/ipykernel_13700/3392844391.py\u001b[0m in \u001b[0;36m<module>\u001b[1;34m\u001b[0m\n\u001b[0;32m      3\u001b[0m \u001b[0mdf10\u001b[0m\u001b[1;33m[\u001b[0m\u001b[1;34m'Laptop_Name'\u001b[0m\u001b[1;33m]\u001b[0m \u001b[1;33m=\u001b[0m \u001b[0mlaptop_title\u001b[0m\u001b[1;33m[\u001b[0m\u001b[1;36m0\u001b[0m\u001b[1;33m:\u001b[0m\u001b[1;36m10\u001b[0m\u001b[1;33m]\u001b[0m\u001b[1;33m\u001b[0m\u001b[1;33m\u001b[0m\u001b[0m\n\u001b[0;32m      4\u001b[0m \u001b[0mdf10\u001b[0m\u001b[1;33m[\u001b[0m\u001b[1;34m'Laptop_Price'\u001b[0m\u001b[1;33m]\u001b[0m \u001b[1;33m=\u001b[0m \u001b[0mlaptop_price\u001b[0m\u001b[1;33m[\u001b[0m\u001b[1;36m0\u001b[0m\u001b[1;33m:\u001b[0m\u001b[1;36m10\u001b[0m\u001b[1;33m]\u001b[0m\u001b[1;33m\u001b[0m\u001b[1;33m\u001b[0m\u001b[0m\n\u001b[1;32m----> 5\u001b[1;33m \u001b[0mdf10\u001b[0m\u001b[1;33m[\u001b[0m\u001b[1;34m'Ratings'\u001b[0m\u001b[1;33m]\u001b[0m \u001b[1;33m=\u001b[0m  \u001b[0mRatings\u001b[0m\u001b[1;33m[\u001b[0m\u001b[1;36m0\u001b[0m\u001b[1;33m:\u001b[0m\u001b[1;36m10\u001b[0m\u001b[1;33m]\u001b[0m\u001b[1;33m\u001b[0m\u001b[1;33m\u001b[0m\u001b[0m\n\u001b[0m\u001b[0;32m      6\u001b[0m \u001b[0mdf10\u001b[0m\u001b[1;33m\u001b[0m\u001b[1;33m\u001b[0m\u001b[0m\n",
      "\u001b[1;32mC:\\ProgramData\\Anaconda3\\lib\\site-packages\\pandas\\core\\frame.py\u001b[0m in \u001b[0;36m__setitem__\u001b[1;34m(self, key, value)\u001b[0m\n\u001b[0;32m   3610\u001b[0m         \u001b[1;32melse\u001b[0m\u001b[1;33m:\u001b[0m\u001b[1;33m\u001b[0m\u001b[1;33m\u001b[0m\u001b[0m\n\u001b[0;32m   3611\u001b[0m             \u001b[1;31m# set column\u001b[0m\u001b[1;33m\u001b[0m\u001b[1;33m\u001b[0m\u001b[0m\n\u001b[1;32m-> 3612\u001b[1;33m             \u001b[0mself\u001b[0m\u001b[1;33m.\u001b[0m\u001b[0m_set_item\u001b[0m\u001b[1;33m(\u001b[0m\u001b[0mkey\u001b[0m\u001b[1;33m,\u001b[0m \u001b[0mvalue\u001b[0m\u001b[1;33m)\u001b[0m\u001b[1;33m\u001b[0m\u001b[1;33m\u001b[0m\u001b[0m\n\u001b[0m\u001b[0;32m   3613\u001b[0m \u001b[1;33m\u001b[0m\u001b[0m\n\u001b[0;32m   3614\u001b[0m     \u001b[1;32mdef\u001b[0m \u001b[0m_setitem_slice\u001b[0m\u001b[1;33m(\u001b[0m\u001b[0mself\u001b[0m\u001b[1;33m,\u001b[0m \u001b[0mkey\u001b[0m\u001b[1;33m:\u001b[0m \u001b[0mslice\u001b[0m\u001b[1;33m,\u001b[0m \u001b[0mvalue\u001b[0m\u001b[1;33m)\u001b[0m\u001b[1;33m:\u001b[0m\u001b[1;33m\u001b[0m\u001b[1;33m\u001b[0m\u001b[0m\n",
      "\u001b[1;32mC:\\ProgramData\\Anaconda3\\lib\\site-packages\\pandas\\core\\frame.py\u001b[0m in \u001b[0;36m_set_item\u001b[1;34m(self, key, value)\u001b[0m\n\u001b[0;32m   3782\u001b[0m         \u001b[0mensure\u001b[0m \u001b[0mhomogeneity\u001b[0m\u001b[1;33m.\u001b[0m\u001b[1;33m\u001b[0m\u001b[1;33m\u001b[0m\u001b[0m\n\u001b[0;32m   3783\u001b[0m         \"\"\"\n\u001b[1;32m-> 3784\u001b[1;33m         \u001b[0mvalue\u001b[0m \u001b[1;33m=\u001b[0m \u001b[0mself\u001b[0m\u001b[1;33m.\u001b[0m\u001b[0m_sanitize_column\u001b[0m\u001b[1;33m(\u001b[0m\u001b[0mvalue\u001b[0m\u001b[1;33m)\u001b[0m\u001b[1;33m\u001b[0m\u001b[1;33m\u001b[0m\u001b[0m\n\u001b[0m\u001b[0;32m   3785\u001b[0m \u001b[1;33m\u001b[0m\u001b[0m\n\u001b[0;32m   3786\u001b[0m         if (\n",
      "\u001b[1;32mC:\\ProgramData\\Anaconda3\\lib\\site-packages\\pandas\\core\\frame.py\u001b[0m in \u001b[0;36m_sanitize_column\u001b[1;34m(self, value)\u001b[0m\n\u001b[0;32m   4507\u001b[0m \u001b[1;33m\u001b[0m\u001b[0m\n\u001b[0;32m   4508\u001b[0m         \u001b[1;32mif\u001b[0m \u001b[0mis_list_like\u001b[0m\u001b[1;33m(\u001b[0m\u001b[0mvalue\u001b[0m\u001b[1;33m)\u001b[0m\u001b[1;33m:\u001b[0m\u001b[1;33m\u001b[0m\u001b[1;33m\u001b[0m\u001b[0m\n\u001b[1;32m-> 4509\u001b[1;33m             \u001b[0mcom\u001b[0m\u001b[1;33m.\u001b[0m\u001b[0mrequire_length_match\u001b[0m\u001b[1;33m(\u001b[0m\u001b[0mvalue\u001b[0m\u001b[1;33m,\u001b[0m \u001b[0mself\u001b[0m\u001b[1;33m.\u001b[0m\u001b[0mindex\u001b[0m\u001b[1;33m)\u001b[0m\u001b[1;33m\u001b[0m\u001b[1;33m\u001b[0m\u001b[0m\n\u001b[0m\u001b[0;32m   4510\u001b[0m         \u001b[1;32mreturn\u001b[0m \u001b[0msanitize_array\u001b[0m\u001b[1;33m(\u001b[0m\u001b[0mvalue\u001b[0m\u001b[1;33m,\u001b[0m \u001b[0mself\u001b[0m\u001b[1;33m.\u001b[0m\u001b[0mindex\u001b[0m\u001b[1;33m,\u001b[0m \u001b[0mcopy\u001b[0m\u001b[1;33m=\u001b[0m\u001b[1;32mTrue\u001b[0m\u001b[1;33m,\u001b[0m \u001b[0mallow_2d\u001b[0m\u001b[1;33m=\u001b[0m\u001b[1;32mTrue\u001b[0m\u001b[1;33m)\u001b[0m\u001b[1;33m\u001b[0m\u001b[1;33m\u001b[0m\u001b[0m\n\u001b[0;32m   4511\u001b[0m \u001b[1;33m\u001b[0m\u001b[0m\n",
      "\u001b[1;32mC:\\ProgramData\\Anaconda3\\lib\\site-packages\\pandas\\core\\common.py\u001b[0m in \u001b[0;36mrequire_length_match\u001b[1;34m(data, index)\u001b[0m\n\u001b[0;32m    529\u001b[0m     \"\"\"\n\u001b[0;32m    530\u001b[0m     \u001b[1;32mif\u001b[0m \u001b[0mlen\u001b[0m\u001b[1;33m(\u001b[0m\u001b[0mdata\u001b[0m\u001b[1;33m)\u001b[0m \u001b[1;33m!=\u001b[0m \u001b[0mlen\u001b[0m\u001b[1;33m(\u001b[0m\u001b[0mindex\u001b[0m\u001b[1;33m)\u001b[0m\u001b[1;33m:\u001b[0m\u001b[1;33m\u001b[0m\u001b[1;33m\u001b[0m\u001b[0m\n\u001b[1;32m--> 531\u001b[1;33m         raise ValueError(\n\u001b[0m\u001b[0;32m    532\u001b[0m             \u001b[1;34m\"Length of values \"\u001b[0m\u001b[1;33m\u001b[0m\u001b[1;33m\u001b[0m\u001b[0m\n\u001b[0;32m    533\u001b[0m             \u001b[1;34mf\"({len(data)}) \"\u001b[0m\u001b[1;33m\u001b[0m\u001b[1;33m\u001b[0m\u001b[0m\n",
      "\u001b[1;31mValueError\u001b[0m: Length of values (5) does not match length of index (10)"
     ]
    }
   ],
   "source": [
    "# creating dataframe and assigning lists to columns\n",
    "df10 = pd.DataFrame({})\n",
    "df10['Laptop_Name'] = laptop_title[0:10]\n",
    "df10['Laptop_Price'] = laptop_price[0:10]\n",
    "df10['Ratings'] =  Ratings[0:10]\n",
    "df10"
   ]
  },
  {
   "cell_type": "markdown",
   "id": "b2f87edb",
   "metadata": {},
   "source": [
    "# Q9: Write a python program to scrape data for first 10 job results for Data Scientist Designation in Noida\n",
    "location. You have to scrape company name, No. of days ago when job was posted, Rating of the company"
   ]
  },
  {
   "cell_type": "code",
   "execution_count": 194,
   "id": "3dfd9a18",
   "metadata": {},
   "outputs": [
    {
     "name": "stdout",
     "output_type": "stream",
     "text": [
      "Requirement already satisfied: selenium in c:\\programdata\\anaconda3\\lib\\site-packages (4.1.3)\n",
      "Requirement already satisfied: trio-websocket~=0.9 in c:\\programdata\\anaconda3\\lib\\site-packages (from selenium) (0.9.2)\n",
      "Requirement already satisfied: trio~=0.17 in c:\\programdata\\anaconda3\\lib\\site-packages (from selenium) (0.20.0)\n",
      "Requirement already satisfied: urllib3[secure,socks]~=1.26 in c:\\programdata\\anaconda3\\lib\\site-packages (from selenium) (1.26.7)\n",
      "Requirement already satisfied: async-generator>=1.9 in c:\\programdata\\anaconda3\\lib\\site-packages (from trio~=0.17->selenium) (1.10)\n",
      "Requirement already satisfied: idna in c:\\programdata\\anaconda3\\lib\\site-packages (from trio~=0.17->selenium) (3.2)\n",
      "Requirement already satisfied: sortedcontainers in c:\\programdata\\anaconda3\\lib\\site-packages (from trio~=0.17->selenium) (2.4.0)\n",
      "Requirement already satisfied: attrs>=19.2.0 in c:\\programdata\\anaconda3\\lib\\site-packages (from trio~=0.17->selenium) (21.2.0)\n",
      "Requirement already satisfied: cffi>=1.14 in c:\\programdata\\anaconda3\\lib\\site-packages (from trio~=0.17->selenium) (1.14.6)\n",
      "Requirement already satisfied: outcome in c:\\programdata\\anaconda3\\lib\\site-packages (from trio~=0.17->selenium) (1.1.0)\n",
      "Requirement already satisfied: sniffio in c:\\programdata\\anaconda3\\lib\\site-packages (from trio~=0.17->selenium) (1.2.0)\n",
      "Requirement already satisfied: pycparser in c:\\programdata\\anaconda3\\lib\\site-packages (from cffi>=1.14->trio~=0.17->selenium) (2.20)\n",
      "Requirement already satisfied: wsproto>=0.14 in c:\\programdata\\anaconda3\\lib\\site-packages (from trio-websocket~=0.9->selenium) (1.1.0)\n",
      "Requirement already satisfied: pyOpenSSL>=0.14 in c:\\programdata\\anaconda3\\lib\\site-packages (from urllib3[secure,socks]~=1.26->selenium) (21.0.0)\n",
      "Requirement already satisfied: cryptography>=1.3.4 in c:\\programdata\\anaconda3\\lib\\site-packages (from urllib3[secure,socks]~=1.26->selenium) (3.4.8)\n",
      "Requirement already satisfied: certifi in c:\\programdata\\anaconda3\\lib\\site-packages (from urllib3[secure,socks]~=1.26->selenium) (2021.10.8)\n",
      "Requirement already satisfied: PySocks!=1.5.7,<2.0,>=1.5.6 in c:\\programdata\\anaconda3\\lib\\site-packages (from urllib3[secure,socks]~=1.26->selenium) (1.7.1)\n",
      "Requirement already satisfied: six>=1.5.2 in c:\\programdata\\anaconda3\\lib\\site-packages (from pyOpenSSL>=0.14->urllib3[secure,socks]~=1.26->selenium) (1.16.0)\n",
      "Requirement already satisfied: h11<1,>=0.9.0 in c:\\programdata\\anaconda3\\lib\\site-packages (from wsproto>=0.14->trio-websocket~=0.9->selenium) (0.13.0)\n"
     ]
    }
   ],
   "source": [
    "! pip install selenium"
   ]
  },
  {
   "cell_type": "code",
   "execution_count": 195,
   "id": "0b67a484",
   "metadata": {},
   "outputs": [],
   "source": [
    "import selenium\n",
    "import pandas as pd\n",
    "from selenium import webdriver\n",
    "import warnings\n",
    "warnings.filterwarnings(\"ignore\")\n",
    "import time"
   ]
  },
  {
   "cell_type": "code",
   "execution_count": 196,
   "id": "89c2bad1",
   "metadata": {},
   "outputs": [],
   "source": [
    "driver = webdriver.Chrome(r\"C:\\chrome driver\\chromedriver.exe\")"
   ]
  },
  {
   "cell_type": "code",
   "execution_count": 197,
   "id": "1ce05d96",
   "metadata": {},
   "outputs": [],
   "source": [
    "driver = webdriver.Chrome(\"chromedriver.exe\")\n",
    "time.sleep(2)"
   ]
  },
  {
   "cell_type": "code",
   "execution_count": 198,
   "id": "17d7f767",
   "metadata": {},
   "outputs": [],
   "source": [
    "driver.get (' https://www.ambitionbox.com/')"
   ]
  },
  {
   "cell_type": "code",
   "execution_count": 199,
   "id": "a18a3c1e",
   "metadata": {},
   "outputs": [],
   "source": [
    "search_field_designation=driver.find_element_by_xpath(\"/html/body/div/div/div/div[2]/div[1]/div[1]/div/div/div/div/span/input\")\n",
    "search_field_designation.send_keys(\"Data scientist\")"
   ]
  },
  {
   "cell_type": "code",
   "execution_count": 201,
   "id": "b405b0c8",
   "metadata": {},
   "outputs": [],
   "source": [
    "search_button=driver.find_element_by_xpath(\"/html/body/div/div/div/div[2]/div[1]/div[1]/div/div/div/button\")\n",
    "search_button.click()"
   ]
  },
  {
   "cell_type": "code",
   "execution_count": 202,
   "id": "8cc0cff3",
   "metadata": {},
   "outputs": [],
   "source": [
    "job_titles=[]\n",
    "company_names=[]\n",
    "locations_list=[]\n",
    "experience_list=[]"
   ]
  },
  {
   "cell_type": "code",
   "execution_count": 207,
   "id": "b5c6020c",
   "metadata": {},
   "outputs": [
    {
     "data": {
      "text/plain": [
       "[<selenium.webdriver.remote.webelement.WebElement (session=\"b71e8b7839f532657c00aa79bffc362e\", element=\"4051898e-2a8f-44fd-b260-0e1e7ddf4fae\")>]"
      ]
     },
     "execution_count": 207,
     "metadata": {},
     "output_type": "execute_result"
    }
   ],
   "source": [
    "tiltes_tags=driver.find_elements_by_xpath(\"//h2[@class='desig bold-title']\")\n",
    "tiltes_tags[0:10]"
   ]
  },
  {
   "cell_type": "code",
   "execution_count": 208,
   "id": "53f6aa7d",
   "metadata": {},
   "outputs": [
    {
     "data": {
      "text/plain": [
       "['',\n",
       " 'Applied Data Scientist / ML Senior Engineer (Python / SQL)',\n",
       " 'Data Scientist']"
      ]
     },
     "execution_count": 208,
     "metadata": {},
     "output_type": "execute_result"
    }
   ],
   "source": [
    "for i in tiltes_tags:\n",
    "    title=i.text\n",
    "    job_titles.append(title)\n",
    "job_titles[0:10]"
   ]
  },
  {
   "cell_type": "code",
   "execution_count": 209,
   "id": "67c49dc3",
   "metadata": {},
   "outputs": [
    {
     "data": {
      "text/plain": [
       "['',\n",
       " 'Applied Data Scientist / ML Senior Engineer (Python / SQL)',\n",
       " 'Data Scientist',\n",
       " 'Data Scientist']"
      ]
     },
     "execution_count": 209,
     "metadata": {},
     "output_type": "execute_result"
    }
   ],
   "source": [
    "for i in tiltes_tags:\n",
    "    title=i.text\n",
    "    job_titles.append(title)\n",
    "job_titles[0:10]"
   ]
  },
  {
   "cell_type": "code",
   "execution_count": 210,
   "id": "e063f6ec",
   "metadata": {},
   "outputs": [
    {
     "data": {
      "text/plain": [
       "[<selenium.webdriver.remote.webelement.WebElement (session=\"b71e8b7839f532657c00aa79bffc362e\", element=\"d87be708-64cb-4786-8076-320017e409fc\")>]"
      ]
     },
     "execution_count": 210,
     "metadata": {},
     "output_type": "execute_result"
    }
   ],
   "source": [
    "companies_tags=driver.find_elements_by_xpath(\"//a[@class='company sbold-section-header']\")\n",
    "companies_tags[0:10]"
   ]
  },
  {
   "cell_type": "code",
   "execution_count": 211,
   "id": "1b3b5f77",
   "metadata": {},
   "outputs": [
    {
     "data": {
      "text/plain": [
       "['Ericsson India Global Services Pvt. Ltd.']"
      ]
     },
     "execution_count": 211,
     "metadata": {},
     "output_type": "execute_result"
    }
   ],
   "source": [
    "for i in companies_tags:\n",
    "    company_name=i.text\n",
    "    company_names.append(company_name)\n",
    "company_names[0:10]"
   ]
  },
  {
   "cell_type": "code",
   "execution_count": 212,
   "id": "05a16814",
   "metadata": {},
   "outputs": [
    {
     "data": {
      "text/plain": [
       "[<selenium.webdriver.remote.webelement.WebElement (session=\"b71e8b7839f532657c00aa79bffc362e\", element=\"5b7e3516-e435-43c8-bc7c-eaf97a07e385\")>,\n",
       " <selenium.webdriver.remote.webelement.WebElement (session=\"b71e8b7839f532657c00aa79bffc362e\", element=\"fa9f4c7e-a473-4200-82dc-8cffd347f48c\")>,\n",
       " <selenium.webdriver.remote.webelement.WebElement (session=\"b71e8b7839f532657c00aa79bffc362e\", element=\"49601f31-f76d-4eb2-88dd-64630b2884d3\")>,\n",
       " <selenium.webdriver.remote.webelement.WebElement (session=\"b71e8b7839f532657c00aa79bffc362e\", element=\"6106e742-afff-46ef-aa29-b2ec65726a00\")>,\n",
       " <selenium.webdriver.remote.webelement.WebElement (session=\"b71e8b7839f532657c00aa79bffc362e\", element=\"15df3259-c17b-4dd6-9783-e64fc583367b\")>,\n",
       " <selenium.webdriver.remote.webelement.WebElement (session=\"b71e8b7839f532657c00aa79bffc362e\", element=\"311a2486-4476-49f8-818b-ffaebda294a4\")>,\n",
       " <selenium.webdriver.remote.webelement.WebElement (session=\"b71e8b7839f532657c00aa79bffc362e\", element=\"aaa1f34e-a6db-428d-997d-a7d54fba62cd\")>,\n",
       " <selenium.webdriver.remote.webelement.WebElement (session=\"b71e8b7839f532657c00aa79bffc362e\", element=\"c562f207-15a5-460e-8390-46424726f2e8\")>,\n",
       " <selenium.webdriver.remote.webelement.WebElement (session=\"b71e8b7839f532657c00aa79bffc362e\", element=\"5fb2827b-bc02-437d-b22c-fe621ca88f29\")>,\n",
       " <selenium.webdriver.remote.webelement.WebElement (session=\"b71e8b7839f532657c00aa79bffc362e\", element=\"fc1fc4a6-8ae2-467d-8807-c65b5bea22dc\")>]"
      ]
     },
     "execution_count": 212,
     "metadata": {},
     "output_type": "execute_result"
    }
   ],
   "source": [
    "experience_tags=driver.find_elements_by_xpath(\"//p[@class='body-small-l']\")\n",
    "experience_tags[0:10]"
   ]
  },
  {
   "cell_type": "code",
   "execution_count": 213,
   "id": "849e6737",
   "metadata": {},
   "outputs": [
    {
     "data": {
      "text/plain": [
       "['5-8 years',\n",
       " 'Not Disclosed',\n",
       " 'Noida',\n",
       " '1 vacancy',\n",
       " '5-8 Yrs',\n",
       " 'Not Disclosed',\n",
       " 'Noida',\n",
       " 'CRM, HTML, microsoft +7 more',\n",
       " '2-6 Yrs',\n",
       " '₹ 6.5-16.5 LPA']"
      ]
     },
     "execution_count": 213,
     "metadata": {},
     "output_type": "execute_result"
    }
   ],
   "source": [
    "for i in experience_tags:\n",
    "    experience=i.text\n",
    "    experience_list.append(experience)\n",
    "experience_list[0:10]"
   ]
  },
  {
   "cell_type": "markdown",
   "id": "f069e648",
   "metadata": {},
   "source": [
    "# 10."
   ]
  },
  {
   "cell_type": "code",
   "execution_count": 214,
   "id": "ffb0568e",
   "metadata": {},
   "outputs": [],
   "source": [
    "import selenium\n",
    "import pandas as pd\n",
    "from selenium import webdriver\n",
    "import warnings\n",
    "warnings.filterwarnings(\"ignore\")\n",
    "import time"
   ]
  },
  {
   "cell_type": "code",
   "execution_count": 215,
   "id": "64f16a17",
   "metadata": {},
   "outputs": [],
   "source": [
    "driver = webdriver.Chrome(r\"C:\\chrome driver\\chromedriver.exe\")"
   ]
  },
  {
   "cell_type": "code",
   "execution_count": 216,
   "id": "eec30a62",
   "metadata": {},
   "outputs": [],
   "source": [
    "driver = webdriver.Chrome(\"chromedriver.exe\")\n",
    "time.sleep(2)"
   ]
  },
  {
   "cell_type": "code",
   "execution_count": 217,
   "id": "91a3cbb0",
   "metadata": {},
   "outputs": [],
   "source": [
    "driver.get (' https://www.ambitionbox.com/')"
   ]
  },
  {
   "cell_type": "code",
   "execution_count": 218,
   "id": "37696f6a",
   "metadata": {},
   "outputs": [],
   "source": [
    "search_field_designation=driver.find_element_by_xpath(\"/html/body/div/div/div/div[2]/div/div/div/div[1]/span/input\")\n",
    "search_field_designation.send_keys(\"Data scientist\")"
   ]
  },
  {
   "cell_type": "code",
   "execution_count": 219,
   "id": "a4f91e7e",
   "metadata": {},
   "outputs": [],
   "source": [
    "company_names=[]\n",
    "total_salary_records=[]\n",
    "Average_salary_list=[]\n",
    "minimum_salary_list=[]\n",
    "maximum_salary_list=[]\n",
    "experience_list=[]"
   ]
  },
  {
   "cell_type": "code",
   "execution_count": 220,
   "id": "84882d40",
   "metadata": {},
   "outputs": [
    {
     "data": {
      "text/plain": [
       "[<selenium.webdriver.remote.webelement.WebElement (session=\"a0e724722d347d8e1cddc6540632a824\", element=\"419d3fc0-806b-40c9-9ac8-76d3ca32640f\")>,\n",
       " <selenium.webdriver.remote.webelement.WebElement (session=\"a0e724722d347d8e1cddc6540632a824\", element=\"da3de5d4-51b3-49e4-b2e9-7fc534aa9ad8\")>,\n",
       " <selenium.webdriver.remote.webelement.WebElement (session=\"a0e724722d347d8e1cddc6540632a824\", element=\"cb400b45-4ce7-4f4e-8d15-8f0ec0e0571d\")>,\n",
       " <selenium.webdriver.remote.webelement.WebElement (session=\"a0e724722d347d8e1cddc6540632a824\", element=\"557610d9-5998-4bdd-b9e9-23194674b98d\")>,\n",
       " <selenium.webdriver.remote.webelement.WebElement (session=\"a0e724722d347d8e1cddc6540632a824\", element=\"a4d9c286-fa25-4ada-b474-21f232282466\")>,\n",
       " <selenium.webdriver.remote.webelement.WebElement (session=\"a0e724722d347d8e1cddc6540632a824\", element=\"af7bdb16-ff87-4353-a954-faafc057b9f3\")>,\n",
       " <selenium.webdriver.remote.webelement.WebElement (session=\"a0e724722d347d8e1cddc6540632a824\", element=\"c83d12cd-c43d-48ca-8428-1fdc217c133f\")>,\n",
       " <selenium.webdriver.remote.webelement.WebElement (session=\"a0e724722d347d8e1cddc6540632a824\", element=\"ad995be7-f573-402e-abea-8c0c5a56b930\")>,\n",
       " <selenium.webdriver.remote.webelement.WebElement (session=\"a0e724722d347d8e1cddc6540632a824\", element=\"5c52316a-aa7d-4587-85be-c8f2b5902f39\")>,\n",
       " <selenium.webdriver.remote.webelement.WebElement (session=\"a0e724722d347d8e1cddc6540632a824\", element=\"f7a84fd3-c589-4530-9bc6-7206cfb9828e\")>]"
      ]
     },
     "execution_count": 220,
     "metadata": {},
     "output_type": "execute_result"
    }
   ],
   "source": [
    "companies_tags=driver.find_elements_by_xpath(\"//div[@class='name']\")\n",
    "companies_tags[0:10]"
   ]
  },
  {
   "cell_type": "code",
   "execution_count": 221,
   "id": "7e71209e",
   "metadata": {},
   "outputs": [
    {
     "data": {
      "text/plain": [
       "['Walmart\\nbased on 11 salaries',\n",
       " 'Ab Inbev\\nbased on 32 salaries',\n",
       " 'Reliance Jio\\nbased on 10 salaries',\n",
       " 'ZS\\nbased on 15 salaries',\n",
       " 'Optum\\nbased on 30 salaries',\n",
       " 'Fractal Analytics\\nbased on 82 salaries',\n",
       " 'Tiger Analytics\\nbased on 47 salaries',\n",
       " 'UnitedHealth\\nbased on 55 salaries',\n",
       " 'Verizon\\nbased on 14 salaries',\n",
       " 'Ganit Business Solutions\\nbased on 13 salaries']"
      ]
     },
     "execution_count": 221,
     "metadata": {},
     "output_type": "execute_result"
    }
   ],
   "source": [
    "for i in companies_tags:\n",
    "    company_name=i.text\n",
    "    company_names.append(company_name)\n",
    "company_names[0:10]"
   ]
  },
  {
   "cell_type": "code",
   "execution_count": 222,
   "id": "9028e980",
   "metadata": {},
   "outputs": [
    {
     "data": {
      "text/plain": [
       "[<selenium.webdriver.remote.webelement.WebElement (session=\"a0e724722d347d8e1cddc6540632a824\", element=\"5ad99ce6-1395-4a42-9549-29bcc1a46a91\")>,\n",
       " <selenium.webdriver.remote.webelement.WebElement (session=\"a0e724722d347d8e1cddc6540632a824\", element=\"4705a150-d1a4-42fc-9112-573c90890964\")>,\n",
       " <selenium.webdriver.remote.webelement.WebElement (session=\"a0e724722d347d8e1cddc6540632a824\", element=\"54e1a159-31d6-49d4-affb-85f64b2ac86c\")>,\n",
       " <selenium.webdriver.remote.webelement.WebElement (session=\"a0e724722d347d8e1cddc6540632a824\", element=\"17dfb686-c3ab-454e-b7bd-b84140e9e06e\")>,\n",
       " <selenium.webdriver.remote.webelement.WebElement (session=\"a0e724722d347d8e1cddc6540632a824\", element=\"77aac3e8-bf61-4d33-aab5-283074bc8027\")>,\n",
       " <selenium.webdriver.remote.webelement.WebElement (session=\"a0e724722d347d8e1cddc6540632a824\", element=\"b27298bd-2ecc-467a-a0ad-d0a24b02b72f\")>,\n",
       " <selenium.webdriver.remote.webelement.WebElement (session=\"a0e724722d347d8e1cddc6540632a824\", element=\"be0d1edf-3656-428e-8aee-c9ef7dba4cca\")>,\n",
       " <selenium.webdriver.remote.webelement.WebElement (session=\"a0e724722d347d8e1cddc6540632a824\", element=\"c8e94815-2f14-4764-ac7e-60d424b63193\")>,\n",
       " <selenium.webdriver.remote.webelement.WebElement (session=\"a0e724722d347d8e1cddc6540632a824\", element=\"51cd8033-9092-4104-a9eb-ff679f93fa3b\")>,\n",
       " <selenium.webdriver.remote.webelement.WebElement (session=\"a0e724722d347d8e1cddc6540632a824\", element=\"d7968333-3db5-4757-b42e-300f03409a6e\")>]"
      ]
     },
     "execution_count": 222,
     "metadata": {},
     "output_type": "execute_result"
    }
   ],
   "source": [
    "experience_tags=driver.find_elements_by_xpath(\"//div[@class='salaries sbold-list-header']\")\n",
    "experience_tags[0:10]"
   ]
  },
  {
   "cell_type": "code",
   "execution_count": 223,
   "id": "c38fae31",
   "metadata": {},
   "outputs": [
    {
     "data": {
      "text/plain": [
       "['Data Scientist\\n . \\n3 yrs exp',\n",
       " 'Data Scientist\\n . \\n3-4 yrs exp',\n",
       " 'Data Scientist\\n . \\n4 yrs exp',\n",
       " 'Data Scientist\\n . \\n2 yrs exp',\n",
       " 'Data Scientist\\n . \\n3-4 yrs exp',\n",
       " 'Data Scientist\\n . \\n2-4 yrs exp',\n",
       " 'Data Scientist\\n . \\n2-4 yrs exp',\n",
       " 'Data Scientist\\n . \\n2-4 yrs exp',\n",
       " 'Data Scientist\\n . \\n4 yrs exp',\n",
       " 'Data Scientist\\n . \\n4 yrs exp']"
      ]
     },
     "execution_count": 223,
     "metadata": {},
     "output_type": "execute_result"
    }
   ],
   "source": [
    "for i in experience_tags:\n",
    "    experience=i.text\n",
    "    experience_list.append(experience)\n",
    "experience_list[0:10]"
   ]
  },
  {
   "cell_type": "code",
   "execution_count": 224,
   "id": "ad518ae6",
   "metadata": {},
   "outputs": [
    {
     "data": {
      "text/plain": [
       "[<selenium.webdriver.remote.webelement.WebElement (session=\"a0e724722d347d8e1cddc6540632a824\", element=\"f256aa5b-40aa-4e98-bc54-e14c03e8a4bd\")>,\n",
       " <selenium.webdriver.remote.webelement.WebElement (session=\"a0e724722d347d8e1cddc6540632a824\", element=\"dcde5a21-e4c0-4e54-9be7-5d08952317b9\")>,\n",
       " <selenium.webdriver.remote.webelement.WebElement (session=\"a0e724722d347d8e1cddc6540632a824\", element=\"748e839b-d08b-4189-8148-44b999d1dd04\")>,\n",
       " <selenium.webdriver.remote.webelement.WebElement (session=\"a0e724722d347d8e1cddc6540632a824\", element=\"14856832-f290-4259-988a-d385dd13c468\")>,\n",
       " <selenium.webdriver.remote.webelement.WebElement (session=\"a0e724722d347d8e1cddc6540632a824\", element=\"0cc12ece-cbae-4f7b-934f-2d2e6a066821\")>,\n",
       " <selenium.webdriver.remote.webelement.WebElement (session=\"a0e724722d347d8e1cddc6540632a824\", element=\"430b0b08-01d3-4de5-8a89-02df47a5b35f\")>,\n",
       " <selenium.webdriver.remote.webelement.WebElement (session=\"a0e724722d347d8e1cddc6540632a824\", element=\"7ea3409b-13b1-4667-8ef8-d964e195c62f\")>,\n",
       " <selenium.webdriver.remote.webelement.WebElement (session=\"a0e724722d347d8e1cddc6540632a824\", element=\"90c2b7b5-83d2-4e54-b65d-5f21c1d119de\")>,\n",
       " <selenium.webdriver.remote.webelement.WebElement (session=\"a0e724722d347d8e1cddc6540632a824\", element=\"c7e9e481-571c-4028-b1cb-5cdf0a5637fe\")>,\n",
       " <selenium.webdriver.remote.webelement.WebElement (session=\"a0e724722d347d8e1cddc6540632a824\", element=\"fe2c5c52-9336-4077-8eb6-97864cf833e9\")>]"
      ]
     },
     "execution_count": 224,
     "metadata": {},
     "output_type": "execute_result"
    }
   ],
   "source": [
    "minimum_salary_tags=driver.find_elements_by_xpath(\"//div[@class='value body-medium']\")\n",
    "minimum_salary_tags[0:10]"
   ]
  },
  {
   "cell_type": "code",
   "execution_count": 225,
   "id": "778752a6",
   "metadata": {},
   "outputs": [
    {
     "data": {
      "text/plain": [
       "['₹ 25.0L',\n",
       " '₹ 35.0L',\n",
       " '₹ 15.0L',\n",
       " '₹ 25.5L',\n",
       " '₹ 5.6L',\n",
       " '₹ 26.2L',\n",
       " '₹ 11.0L',\n",
       " '₹ 22.0L',\n",
       " '₹ 11.0L',\n",
       " '₹ 22.6L']"
      ]
     },
     "execution_count": 225,
     "metadata": {},
     "output_type": "execute_result"
    }
   ],
   "source": [
    "for i in minimum_salary_tags:\n",
    "    minimum_salary=i.text\n",
    "    minimum_salary_list.append(minimum_salary)\n",
    "minimum_salary_list[0:10]"
   ]
  },
  {
   "cell_type": "code",
   "execution_count": 226,
   "id": "2f9465a8",
   "metadata": {},
   "outputs": [
    {
     "data": {
      "text/plain": [
       "[<selenium.webdriver.remote.webelement.WebElement (session=\"a0e724722d347d8e1cddc6540632a824\", element=\"394da7eb-422c-417b-994a-39ef76b4ce26\")>,\n",
       " <selenium.webdriver.remote.webelement.WebElement (session=\"a0e724722d347d8e1cddc6540632a824\", element=\"016d35cb-835c-4fd6-9169-6bc53828a32e\")>,\n",
       " <selenium.webdriver.remote.webelement.WebElement (session=\"a0e724722d347d8e1cddc6540632a824\", element=\"162f1f1c-69eb-4993-a109-aa7b38759b2e\")>,\n",
       " <selenium.webdriver.remote.webelement.WebElement (session=\"a0e724722d347d8e1cddc6540632a824\", element=\"2da5ee4b-b28a-4afd-a34c-ce9c91eb9e62\")>,\n",
       " <selenium.webdriver.remote.webelement.WebElement (session=\"a0e724722d347d8e1cddc6540632a824\", element=\"50503897-eb62-43e5-82b4-d981d844be92\")>,\n",
       " <selenium.webdriver.remote.webelement.WebElement (session=\"a0e724722d347d8e1cddc6540632a824\", element=\"4b9346c7-549f-4636-b5e2-a39cf282039e\")>,\n",
       " <selenium.webdriver.remote.webelement.WebElement (session=\"a0e724722d347d8e1cddc6540632a824\", element=\"e347bcb6-b3ed-4b66-92ab-b7c71f06ee03\")>,\n",
       " <selenium.webdriver.remote.webelement.WebElement (session=\"a0e724722d347d8e1cddc6540632a824\", element=\"05fde4e5-4723-4ad4-a4ff-e93e11ac5c08\")>,\n",
       " <selenium.webdriver.remote.webelement.WebElement (session=\"a0e724722d347d8e1cddc6540632a824\", element=\"0a3a36f4-0a76-40b6-81b9-35529eabe34b\")>,\n",
       " <selenium.webdriver.remote.webelement.WebElement (session=\"a0e724722d347d8e1cddc6540632a824\", element=\"5d65d52f-4023-4879-93c4-970e59da60f7\")>]"
      ]
     },
     "execution_count": 226,
     "metadata": {},
     "output_type": "execute_result"
    }
   ],
   "source": [
    "Average_salary_tags=driver.find_elements_by_xpath(\"//p[@class='averageCtc']\")\n",
    "Average_salary_tags[0:10]"
   ]
  },
  {
   "cell_type": "code",
   "execution_count": 227,
   "id": "fbd9093e",
   "metadata": {},
   "outputs": [
    {
     "data": {
      "text/plain": [
       "['₹ 29.7L',\n",
       " '₹ 20.5L',\n",
       " '₹ 18.9L',\n",
       " '₹ 16.7L',\n",
       " '₹ 15.9L',\n",
       " '₹ 15.4L',\n",
       " '₹ 14.8L',\n",
       " '₹ 13.9L',\n",
       " '₹ 12.7L',\n",
       " '₹ 12.4L']"
      ]
     },
     "execution_count": 227,
     "metadata": {},
     "output_type": "execute_result"
    }
   ],
   "source": [
    "for i in Average_salary_tags:\n",
    "    Average_salary=i.text\n",
    "    Average_salary_list.append(Average_salary)\n",
    "Average_salary_list[0:10]"
   ]
  },
  {
   "cell_type": "code",
   "execution_count": 228,
   "id": "89c22b70",
   "metadata": {},
   "outputs": [
    {
     "data": {
      "text/plain": [
       "[<selenium.webdriver.remote.webelement.WebElement (session=\"a0e724722d347d8e1cddc6540632a824\", element=\"f256aa5b-40aa-4e98-bc54-e14c03e8a4bd\")>,\n",
       " <selenium.webdriver.remote.webelement.WebElement (session=\"a0e724722d347d8e1cddc6540632a824\", element=\"dcde5a21-e4c0-4e54-9be7-5d08952317b9\")>,\n",
       " <selenium.webdriver.remote.webelement.WebElement (session=\"a0e724722d347d8e1cddc6540632a824\", element=\"748e839b-d08b-4189-8148-44b999d1dd04\")>,\n",
       " <selenium.webdriver.remote.webelement.WebElement (session=\"a0e724722d347d8e1cddc6540632a824\", element=\"14856832-f290-4259-988a-d385dd13c468\")>,\n",
       " <selenium.webdriver.remote.webelement.WebElement (session=\"a0e724722d347d8e1cddc6540632a824\", element=\"0cc12ece-cbae-4f7b-934f-2d2e6a066821\")>,\n",
       " <selenium.webdriver.remote.webelement.WebElement (session=\"a0e724722d347d8e1cddc6540632a824\", element=\"430b0b08-01d3-4de5-8a89-02df47a5b35f\")>,\n",
       " <selenium.webdriver.remote.webelement.WebElement (session=\"a0e724722d347d8e1cddc6540632a824\", element=\"7ea3409b-13b1-4667-8ef8-d964e195c62f\")>,\n",
       " <selenium.webdriver.remote.webelement.WebElement (session=\"a0e724722d347d8e1cddc6540632a824\", element=\"90c2b7b5-83d2-4e54-b65d-5f21c1d119de\")>,\n",
       " <selenium.webdriver.remote.webelement.WebElement (session=\"a0e724722d347d8e1cddc6540632a824\", element=\"c7e9e481-571c-4028-b1cb-5cdf0a5637fe\")>,\n",
       " <selenium.webdriver.remote.webelement.WebElement (session=\"a0e724722d347d8e1cddc6540632a824\", element=\"fe2c5c52-9336-4077-8eb6-97864cf833e9\")>]"
      ]
     },
     "execution_count": 228,
     "metadata": {},
     "output_type": "execute_result"
    }
   ],
   "source": [
    "maximum_salary_tags=driver.find_elements_by_xpath(\"//div[@class='value body-medium']\")\n",
    "maximum_salary_tags[0:10]"
   ]
  },
  {
   "cell_type": "code",
   "execution_count": 229,
   "id": "f50968c7",
   "metadata": {},
   "outputs": [
    {
     "data": {
      "text/plain": [
       "['₹ 25.0L',\n",
       " '₹ 35.0L',\n",
       " '₹ 15.0L',\n",
       " '₹ 25.5L',\n",
       " '₹ 5.6L',\n",
       " '₹ 26.2L',\n",
       " '₹ 11.0L',\n",
       " '₹ 22.0L',\n",
       " '₹ 11.0L',\n",
       " '₹ 22.6L']"
      ]
     },
     "execution_count": 229,
     "metadata": {},
     "output_type": "execute_result"
    }
   ],
   "source": [
    "for i in maximum_salary_tags:\n",
    "    maximum_salary=i.text\n",
    "    maximum_salary_list.append(maximum_salary)\n",
    "maximum_salary_list[0:10]"
   ]
  },
  {
   "cell_type": "code",
   "execution_count": 230,
   "id": "93843bd1",
   "metadata": {},
   "outputs": [
    {
     "name": "stdout",
     "output_type": "stream",
     "text": [
      "10 10 20 20 10\n"
     ]
    }
   ],
   "source": [
    "print(len(company_names),len(Average_salary_list),len(minimum_salary_list),len(maximum_salary_list),len(experience_list))"
   ]
  },
  {
   "cell_type": "code",
   "execution_count": 231,
   "id": "e7e7f053",
   "metadata": {},
   "outputs": [],
   "source": [
    "#import pandas as pd\n",
    "jobs=pd.DataFrame({})\n",
    "jobs['Average_salary']=Average_salary\n",
    "jobs['experience']=experience_list\n",
    "jobs['company']=company_names"
   ]
  },
  {
   "cell_type": "code",
   "execution_count": 232,
   "id": "5c6a2985",
   "metadata": {},
   "outputs": [
    {
     "data": {
      "text/html": [
       "<div>\n",
       "<style scoped>\n",
       "    .dataframe tbody tr th:only-of-type {\n",
       "        vertical-align: middle;\n",
       "    }\n",
       "\n",
       "    .dataframe tbody tr th {\n",
       "        vertical-align: top;\n",
       "    }\n",
       "\n",
       "    .dataframe thead th {\n",
       "        text-align: right;\n",
       "    }\n",
       "</style>\n",
       "<table border=\"1\" class=\"dataframe\">\n",
       "  <thead>\n",
       "    <tr style=\"text-align: right;\">\n",
       "      <th></th>\n",
       "      <th>Average_salary</th>\n",
       "      <th>experience</th>\n",
       "      <th>company</th>\n",
       "    </tr>\n",
       "  </thead>\n",
       "  <tbody>\n",
       "    <tr>\n",
       "      <th>0</th>\n",
       "      <td>NaN</td>\n",
       "      <td>Data Scientist\\n . \\n3 yrs exp</td>\n",
       "      <td>Walmart\\nbased on 11 salaries</td>\n",
       "    </tr>\n",
       "    <tr>\n",
       "      <th>1</th>\n",
       "      <td>NaN</td>\n",
       "      <td>Data Scientist\\n . \\n3-4 yrs exp</td>\n",
       "      <td>Ab Inbev\\nbased on 32 salaries</td>\n",
       "    </tr>\n",
       "    <tr>\n",
       "      <th>2</th>\n",
       "      <td>NaN</td>\n",
       "      <td>Data Scientist\\n . \\n4 yrs exp</td>\n",
       "      <td>Reliance Jio\\nbased on 10 salaries</td>\n",
       "    </tr>\n",
       "    <tr>\n",
       "      <th>3</th>\n",
       "      <td>NaN</td>\n",
       "      <td>Data Scientist\\n . \\n2 yrs exp</td>\n",
       "      <td>ZS\\nbased on 15 salaries</td>\n",
       "    </tr>\n",
       "    <tr>\n",
       "      <th>4</th>\n",
       "      <td>NaN</td>\n",
       "      <td>Data Scientist\\n . \\n3-4 yrs exp</td>\n",
       "      <td>Optum\\nbased on 30 salaries</td>\n",
       "    </tr>\n",
       "    <tr>\n",
       "      <th>5</th>\n",
       "      <td>NaN</td>\n",
       "      <td>Data Scientist\\n . \\n2-4 yrs exp</td>\n",
       "      <td>Fractal Analytics\\nbased on 82 salaries</td>\n",
       "    </tr>\n",
       "    <tr>\n",
       "      <th>6</th>\n",
       "      <td>NaN</td>\n",
       "      <td>Data Scientist\\n . \\n2-4 yrs exp</td>\n",
       "      <td>Tiger Analytics\\nbased on 47 salaries</td>\n",
       "    </tr>\n",
       "    <tr>\n",
       "      <th>7</th>\n",
       "      <td>NaN</td>\n",
       "      <td>Data Scientist\\n . \\n2-4 yrs exp</td>\n",
       "      <td>UnitedHealth\\nbased on 55 salaries</td>\n",
       "    </tr>\n",
       "    <tr>\n",
       "      <th>8</th>\n",
       "      <td>NaN</td>\n",
       "      <td>Data Scientist\\n . \\n4 yrs exp</td>\n",
       "      <td>Verizon\\nbased on 14 salaries</td>\n",
       "    </tr>\n",
       "    <tr>\n",
       "      <th>9</th>\n",
       "      <td>NaN</td>\n",
       "      <td>Data Scientist\\n . \\n4 yrs exp</td>\n",
       "      <td>Ganit Business Solutions\\nbased on 13 salaries</td>\n",
       "    </tr>\n",
       "  </tbody>\n",
       "</table>\n",
       "</div>"
      ],
      "text/plain": [
       "  Average_salary                        experience  \\\n",
       "0            NaN    Data Scientist\\n . \\n3 yrs exp   \n",
       "1            NaN  Data Scientist\\n . \\n3-4 yrs exp   \n",
       "2            NaN    Data Scientist\\n . \\n4 yrs exp   \n",
       "3            NaN    Data Scientist\\n . \\n2 yrs exp   \n",
       "4            NaN  Data Scientist\\n . \\n3-4 yrs exp   \n",
       "5            NaN  Data Scientist\\n . \\n2-4 yrs exp   \n",
       "6            NaN  Data Scientist\\n . \\n2-4 yrs exp   \n",
       "7            NaN  Data Scientist\\n . \\n2-4 yrs exp   \n",
       "8            NaN    Data Scientist\\n . \\n4 yrs exp   \n",
       "9            NaN    Data Scientist\\n . \\n4 yrs exp   \n",
       "\n",
       "                                          company  \n",
       "0                   Walmart\\nbased on 11 salaries  \n",
       "1                  Ab Inbev\\nbased on 32 salaries  \n",
       "2              Reliance Jio\\nbased on 10 salaries  \n",
       "3                        ZS\\nbased on 15 salaries  \n",
       "4                     Optum\\nbased on 30 salaries  \n",
       "5         Fractal Analytics\\nbased on 82 salaries  \n",
       "6           Tiger Analytics\\nbased on 47 salaries  \n",
       "7              UnitedHealth\\nbased on 55 salaries  \n",
       "8                   Verizon\\nbased on 14 salaries  \n",
       "9  Ganit Business Solutions\\nbased on 13 salaries  "
      ]
     },
     "execution_count": 232,
     "metadata": {},
     "output_type": "execute_result"
    }
   ],
   "source": [
    "jobs"
   ]
  },
  {
   "cell_type": "code",
   "execution_count": null,
   "id": "81062155",
   "metadata": {},
   "outputs": [],
   "source": []
  }
 ],
 "metadata": {
  "kernelspec": {
   "display_name": "Python 3 (ipykernel)",
   "language": "python",
   "name": "python3"
  },
  "language_info": {
   "codemirror_mode": {
    "name": "ipython",
    "version": 3
   },
   "file_extension": ".py",
   "mimetype": "text/x-python",
   "name": "python",
   "nbconvert_exporter": "python",
   "pygments_lexer": "ipython3",
   "version": "3.9.7"
  }
 },
 "nbformat": 4,
 "nbformat_minor": 5
}
